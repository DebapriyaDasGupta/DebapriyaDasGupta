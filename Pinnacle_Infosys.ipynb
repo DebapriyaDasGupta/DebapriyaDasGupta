{
  "nbformat": 4,
  "nbformat_minor": 0,
  "metadata": {
    "colab": {
      "name": "Pinnacle Infosys.ipynb",
      "provenance": [],
      "authorship_tag": "ABX9TyPpPwH5g1hpd6NvROUdekyb",
      "include_colab_link": true
    },
    "kernelspec": {
      "name": "python3",
      "display_name": "Python 3"
    },
    "language_info": {
      "name": "python"
    }
  },
  "cells": [
    {
      "cell_type": "markdown",
      "metadata": {
        "id": "view-in-github",
        "colab_type": "text"
      },
      "source": [
        "<a href=\"https://colab.research.google.com/github/DebapriyaDasGupta/DebapriyaDasGupta/blob/master/Pinnacle_Infosys.ipynb\" target=\"_parent\"><img src=\"https://colab.research.google.com/assets/colab-badge.svg\" alt=\"Open In Colab\"/></a>"
      ]
    },
    {
      "cell_type": "markdown",
      "source": [
        "## Regex"
      ],
      "metadata": {
        "id": "uEIoukJ6rq0j"
      }
    },
    {
      "cell_type": "code",
      "execution_count": null,
      "metadata": {
        "id": "HJHT6Xv1VmV0"
      },
      "outputs": [],
      "source": [
        "import re\n",
        "if(re.search(r\"A..l\",\"Aopline\")!=None):\n",
        "    print(\"Pattern found\")\n",
        "else:\n",
        "    print(\"Pattern not found\")"
      ]
    },
    {
      "cell_type": "code",
      "source": [
        "if(re.search(r\"A\\dl\",\"A2line\")!=None):\n",
        "    print(\"Pattern found\")\n",
        "else:\n",
        "    print(\"Pattern not found\")"
      ],
      "metadata": {
        "id": "_L67jonpV7Vs"
      },
      "execution_count": null,
      "outputs": []
    },
    {
      "cell_type": "code",
      "source": [
        "if(re.search(r\"A\\d*\",\"A2234line\")!=None):\n",
        "    print(\"Pattern found\")\n",
        "else:\n",
        "    print(\"Pattern not found\")\n",
        "\n",
        "if(re.search(r\"A\\d*\",\"Aline\")!=None):\n",
        "    print(\"Pattern found\")\n",
        "else:\n",
        "    print(\"Pattern not found\")"
      ],
      "metadata": {
        "id": "sP-bbhIMWE-h"
      },
      "execution_count": null,
      "outputs": []
    },
    {
      "cell_type": "code",
      "source": [
        "if(re.search(r\"A\\d+\",\"Airline\")!=None):\n",
        "    print(\"Pattern found\")\n",
        "else:\n",
        "    print(\"Pattern not found\")"
      ],
      "metadata": {
        "id": "GJWo2RdPWZCm"
      },
      "execution_count": null,
      "outputs": []
    },
    {
      "cell_type": "code",
      "source": [
        "if(re.search(r\"A\\d?i\",\"Airline\")!=None):\n",
        "    print(\"Pattern found\")\n",
        "else:\n",
        "    print(\"Pattern not found\")\n",
        "\n",
        "if(re.search(r\"A\\d?i\",\"Aiirline\")!=None):\n",
        "    print(\"Pattern found\")\n",
        "else:\n",
        "    print(\"Pattern not found\")\n",
        "\n",
        "if(re.search(r\"A\\d?i\",\"Arline\")!=None):\n",
        "    print(\"Pattern found\")\n",
        "else:\n",
        "    print(\"Pattern not found\")\n",
        "\n",
        "if(re.search(r\"A\\d?i\",\"A1rline\")!=None):\n",
        "    print(\"Pattern found\")\n",
        "else:\n",
        "    print(\"Pattern not found\")"
      ],
      "metadata": {
        "id": "Z-93dxXhWoIt"
      },
      "execution_count": null,
      "outputs": []
    },
    {
      "cell_type": "code",
      "source": [
        "if(re.search(r\"A\\d{3}i\",\"A223irline\")!=None):\n",
        "    print(\"Pattern found\")\n",
        "else:\n",
        "    print(\"Pattern not found\")"
      ],
      "metadata": {
        "id": "E1v4DnM-X4_u"
      },
      "execution_count": null,
      "outputs": []
    },
    {
      "cell_type": "code",
      "source": [
        "if(re.search(r\"A[4-8]l\",\"A2line\")!=None):\n",
        "    print(\"Pattern found\")\n",
        "else:\n",
        "    print(\"Pattern not found\")"
      ],
      "metadata": {
        "id": "x8WawhcqYHqp"
      },
      "execution_count": null,
      "outputs": []
    },
    {
      "cell_type": "code",
      "source": [
        "if(re.search(r\"^A\",\"Airline\")!=None):\n",
        "    print(\"Pattern found\")\n",
        "else:\n",
        "    print(\"Pattern not found\")"
      ],
      "metadata": {
        "id": "eKKAvVvGYRov"
      },
      "execution_count": null,
      "outputs": []
    },
    {
      "cell_type": "code",
      "source": [
        "if(re.search(r\"e$\",\"Airline\")!=None):\n",
        "    print(\"Pattern found\")\n",
        "else:\n",
        "    print(\"Pattern not found\")"
      ],
      "metadata": {
        "id": "RmPW6FrSYbmi"
      },
      "execution_count": null,
      "outputs": []
    },
    {
      "cell_type": "code",
      "source": [
        "if(re.search(r\"\\w$\",\"Airline%\")!=None):\n",
        "    print(\"Pattern found\")\n",
        "else:\n",
        "    print(\"Pattern not found\")"
      ],
      "metadata": {
        "id": "RvSOSGYtYjhT"
      },
      "execution_count": null,
      "outputs": []
    },
    {
      "cell_type": "code",
      "source": [
        "if(re.search(r\"Air\\s\",\"Airline\")!=None):\n",
        "    print(\"Pattern found\")\n",
        "else:\n",
        "    print(\"Pattern not found\")"
      ],
      "metadata": {
        "id": "nJ9mppq0Y07P"
      },
      "execution_count": null,
      "outputs": []
    },
    {
      "cell_type": "code",
      "source": [
        "if(re.search(r\"Hell|Fell\",\"Fellow\")!=None):\n",
        "    print(\"Pattern found\")\n",
        "else:\n",
        "    print(\"Pattern not found\")"
      ],
      "metadata": {
        "id": "VGqYqQLYY9au"
      },
      "execution_count": null,
      "outputs": []
    },
    {
      "cell_type": "markdown",
      "source": [
        "## Collections"
      ],
      "metadata": {
        "id": "GU3JYIUGZ9Kx"
      }
    },
    {
      "cell_type": "markdown",
      "source": [
        "Write a Python function words_count(sentence) to return a dictionary with the length of words as key and number words with such length as value.\n",
        "\n",
        "Example: sentence=“I love python and it so easy to learn” sample output={1:1,4:2,5:1,3:1,2:3,6:1}"
      ],
      "metadata": {
        "id": "tON2Av-Asdm-"
      }
    },
    {
      "cell_type": "code",
      "source": [
        "def words_count(sentence):\n",
        "  s = sentence.split()\n",
        "\n",
        "  d = {}\n",
        "\n",
        "  for i in s:\n",
        "    if len(i) in d.keys():\n",
        "      d.update({len(i): d[len(i)] + 1})\n",
        "\n",
        "    else:\n",
        "      d.update({len(i): 1})\n",
        "\n",
        "  return d\n",
        "\n",
        "sentence = 'I love python and it is so easy to learn'\n",
        "print('{length of words: number of words} = ', words_count(sentence))"
      ],
      "metadata": {
        "id": "Qb592wFOaMHa"
      },
      "execution_count": null,
      "outputs": []
    },
    {
      "cell_type": "markdown",
      "source": [
        "Write a Python function vowel_count(sentence) to return a dictionary with vowels, consonants, others as key and respective number of vowels, consonants, others characters as value.\n",
        "\n",
        "Note: Do case insensitive operations\n",
        "\n",
        "Example: sentence=“I love python and it so easy to learn”\n",
        "\n",
        "sample output={“vowels”:12,”consonants”:17, “others”:8}"
      ],
      "metadata": {
        "id": "PikezKdBt87m"
      }
    },
    {
      "cell_type": "code",
      "source": [
        "def vowel_count(sentence):\n",
        "\n",
        "  d = {'vowels': 0, 'consonants': 0, 'others': 0}\n",
        "\n",
        "  for i in sentence.lower():\n",
        "    if i >= 'a' and i <= 'z':\n",
        "      if i == 'a' or i == 'e' or i == 'i' or i == 'o' or i == 'u':\n",
        "         d.update({'vowels': d['vowels'] + 1})\n",
        "\n",
        "      else:\n",
        "        d.update({'consonants': d['consonants'] + 1})\n",
        "\n",
        "    else:\n",
        "      d.update({'others': d['others'] + 1})\n",
        "\n",
        "  return d\n",
        "\n",
        "\n",
        "d = vowel_count('I love python and it so easy to learn')\n",
        "print(d)"
      ],
      "metadata": {
        "id": "dQ8xtmUVudkd"
      },
      "execution_count": null,
      "outputs": []
    },
    {
      "cell_type": "markdown",
      "source": [
        "Write a python function, encrypt_sentence(msg) which accepts a message and encrypts it based on rules given below and returns the encrypted message.\n",
        " \n",
        "\n",
        "Words at odd position -> Reverse It\n",
        "\n",
        "Words at even position -> Rearrange the characters so that all consonants appear before the vowels and their order should not change\n",
        "\n",
        "Note: Assume that the sentence would begin with a word and there will be only a single space between the words.\n",
        "\n",
        "Perform case sensitive string operations wherever necessary.\n",
        "\n",
        "Example: msg=the sun rises in the east    output=eht snu sesir ni eht stea"
      ],
      "metadata": {
        "id": "LLIrOj11yFY_"
      }
    },
    {
      "cell_type": "code",
      "source": [
        "def encrypt_sentence(msg):\n",
        "\n",
        "  odd = ''\n",
        "\n",
        "  for i in range(len(msg.split())):\n",
        "    if (i + 1) % 2 == 0:\n",
        "        \n",
        "        v = ''\n",
        "        c = ''\n",
        "\n",
        "        for j in msg.lower().split()[i]:\n",
        "          if j == 'a' or j == 'e' or j == 'i' or j == 'o' or j == 'u':\n",
        "            v += j\n",
        "\n",
        "          else:\n",
        "            c += j\n",
        "\n",
        "        odd = c + v\n",
        "\n",
        "        msg = msg.replace(msg.split()[i], odd, 1)\n",
        "        \n",
        "    else:\n",
        "      msg = msg.replace(msg.split()[i], msg.split()[i][::-1], 1)\n",
        "\n",
        "  return msg\n",
        "\n",
        "msg = 'the sun rises in the east'\n",
        "output= encrypt_sentence(msg)\n",
        "\n",
        "print(f'msg = {msg} output = {output}')"
      ],
      "metadata": {
        "id": "d86HAD99x_Oq"
      },
      "execution_count": null,
      "outputs": []
    },
    {
      "cell_type": "markdown",
      "source": [
        "## Exception"
      ],
      "metadata": {
        "id": "iFllPwnXDIks"
      }
    },
    {
      "cell_type": "code",
      "source": [
        "def division(a,b):\n",
        "    try:\n",
        "        return int(a)/b\n",
        "    except TypeError:\n",
        "        print(\"Type error\")\n",
        "    except ValueError:\n",
        "        print(\"Value error\")\n",
        "    finally:\n",
        "        print(\"Finally\")\n",
        "    print(\"Done\")\n",
        "division('A',10)"
      ],
      "metadata": {
        "id": "KlU72Bv5Ao1D"
      },
      "execution_count": null,
      "outputs": []
    },
    {
      "cell_type": "code",
      "source": [
        "def find_sum(a,b):\n",
        "    try:\n",
        "        print(a+c)\n",
        "    except NameError:\n",
        "        print(\"Function name error\")\n",
        "    finally:\n",
        "        print(\"Sum finally\")\n",
        "try:\n",
        "    find_sum(12,13)\n",
        "except NameError:\n",
        "    print(\"Invocation name error\")\n",
        "finally:\n",
        "    print(\"Invocation finally\")"
      ],
      "metadata": {
        "id": "F_zvagSIA4_7"
      },
      "execution_count": null,
      "outputs": []
    },
    {
      "cell_type": "code",
      "source": [
        "def calculate_expenditure(list_of_expenditure):\n",
        "    total=0\n",
        "    try:\n",
        "        for expenditure in list_of_expenditure:\n",
        "            total+=expenditure\n",
        "        print(\"Total:\",total)\n",
        "        avg=total/num_values\n",
        "        print(\"Average:\",avg)\n",
        "    except ZeroDivisionError:\n",
        "        print(\"Divide by Zero error\")\n",
        "    except TypeError:\n",
        "        print(\"Wrong data type\")\n",
        "    except:\n",
        "        print(\"Some error occured\")\n",
        "list_of_values=[100,200,300,\"400\",500]\n",
        "num_values=0\n",
        "calculate_expenditure(list_of_values)"
      ],
      "metadata": {
        "id": "owW_CD5CDx9P"
      },
      "execution_count": null,
      "outputs": []
    },
    {
      "cell_type": "code",
      "source": [
        "def calculate_sum(list_of_expenditure):\n",
        "    total=0\n",
        "    try:\n",
        "        for expenditure in list_of_expenditure:\n",
        "            total+=expenditure\n",
        "        print(\"Total:\",total)\n",
        "        avg=total/no_values\n",
        "        print(\"Average:\",avg)\n",
        "    except ZeroDivisionError:\n",
        "        print(\"Divide by Zero error\")\n",
        "    except TypeError:\n",
        "        print(\"Wrong data type\")\n",
        "try:\n",
        "    list_of_values=[100,200,300,400,500]\n",
        "    num_values=len(list_of_values)\n",
        "    calculate_sum(list_of_values)\n",
        "except NameError:\n",
        "    print(\"Name error occured\")\n",
        "except:\n",
        "    print(\"Some error occured\")"
      ],
      "metadata": {
        "id": "AwNXOZjnELx5"
      },
      "execution_count": null,
      "outputs": []
    },
    {
      "cell_type": "code",
      "source": [
        "balance=1000\n",
        "amount=\"300Rs\"\n",
        "def take_card():\n",
        "    print(\"Take the card out of ATM\")\n",
        "try:\n",
        "    if balance>=int(amount):\n",
        "        print(\"Withdraw\")\n",
        "    else:\n",
        "        print(\"Invalid amount\")\n",
        "except TypeError:\n",
        "    print(\"Type Error Occurred\")\n",
        "except ValueError:\n",
        "    print(\"Value Error Occurred\")\n",
        "except:\n",
        "    print(\"Some error Occurred\")\n",
        "finally:\n",
        "    take_card()"
      ],
      "metadata": {
        "id": "0dUF32NSE3IT"
      },
      "execution_count": null,
      "outputs": []
    },
    {
      "cell_type": "code",
      "source": [
        "def find_average(mark_list):\n",
        "  total=0\n",
        "\n",
        "  for i in range(0, len(mark_list)):\n",
        "    total+=mark_list[i]\n",
        "  \n",
        "  marks_avg=total/len(mark_list)\n",
        "  \n",
        "  return marks_avg\n",
        "\n",
        "m_list=[1,2,3,4]\n",
        "print(\"Average marks:\", find_average(m_list))"
      ],
      "metadata": {
        "id": "9BCBZB7HFdD2"
      },
      "execution_count": null,
      "outputs": []
    },
    {
      "cell_type": "code",
      "source": [
        "def find_average(mark_list):\n",
        "  total=0\n",
        "\n",
        "  try:\n",
        "    for i in range(0, len(mark_list)):\n",
        "      total+=mark_list[i]\n",
        "  \n",
        "    marks_avg=total/len(mark_list)\n",
        "\n",
        "    return marks_avg\n",
        "\n",
        "  except TypeError:\n",
        "    print(\"Cannot add string data type\")\n",
        "\n",
        "m_list=[\"1\",2,3,4]\n",
        "print(\"Average marks:\", find_average(m_list))"
      ],
      "metadata": {
        "id": "cPiktzJ1IrLL"
      },
      "execution_count": null,
      "outputs": []
    },
    {
      "cell_type": "code",
      "source": [
        "def find_average(mark_list):\n",
        "  total=0\n",
        "\n",
        "  try:\n",
        "    for i in range(0, len(mark_list)):\n",
        "      total+=mark_list[i]\n",
        "  \n",
        "    marks_avg=total/len(mark_list)\n",
        "\n",
        "    return marks_avg\n",
        "\n",
        "  except TypeError:\n",
        "    print(\"Cannot add string data type\")\n",
        "\n",
        "  except ValueError:\n",
        "    print(\"Cannot add string data type, int cannot convert to ASCII\")\n",
        "\n",
        "mark1=\"A\"\n",
        "\n",
        "try:\n",
        "  mark1=int(\"A\")\n",
        "except ValueError:\n",
        "    print(\"Cannot add string data type, int cannot convert to ASCII\")\n",
        "\n",
        "m_list=[mark1,2,3,4]\n",
        "print(\"Average marks:\", find_average(m_list))"
      ],
      "metadata": {
        "id": "yOPUQ6nNJ__v"
      },
      "execution_count": null,
      "outputs": []
    },
    {
      "cell_type": "code",
      "source": [
        "def find_average(mark_list):\n",
        "  total=0\n",
        "\n",
        "  try:\n",
        "    for i in range(0, len(mark_list)+1):\n",
        "      total+=mark_list[i]\n",
        "    \n",
        "    marks_avg=total/len(mark_list)\n",
        "    \n",
        "    return marks_avg\n",
        "\n",
        "  except:\n",
        "    print('List index out of bound')\n",
        "\n",
        "m_list=[1,2,3,4]\n",
        "print(\"Average marks:\", find_average(m_list))"
      ],
      "metadata": {
        "id": "UmtZdj4iKst8"
      },
      "execution_count": null,
      "outputs": []
    },
    {
      "cell_type": "markdown",
      "source": [
        "## ASCII value"
      ],
      "metadata": {
        "id": "XJbDYsBQDAil"
      }
    },
    {
      "cell_type": "code",
      "source": [
        "c = 'a'\n",
        "print(ord(c))"
      ],
      "metadata": {
        "id": "7IitbhkxCA24"
      },
      "execution_count": null,
      "outputs": []
    },
    {
      "cell_type": "markdown",
      "source": [
        "## File Handling"
      ],
      "metadata": {
        "id": "_yh8r-QAaGzD"
      }
    },
    {
      "cell_type": "code",
      "source": [
        "fhr=open(\"data.txt\",\"r\")\n",
        "line1=fhr.readline()    \n",
        "print(line1,end=\"\")\n",
        "line2=fhr.readline()    \n",
        "print(line2,end=\"\")\n",
        "line3=fhr.readline()    \n",
        "print(line3,end=\"\")"
      ],
      "metadata": {
        "id": "0OsAPBMEaESs"
      },
      "execution_count": null,
      "outputs": []
    },
    {
      "cell_type": "code",
      "source": [
        "fhr=open(\"data.txt\",\"r\")\n",
        "list_var=fhr.readlines()\n",
        "for line in list_var:\n",
        "    print(line,end=\"\") \n",
        "fhr.close()"
      ],
      "metadata": {
        "id": "qWdTa2SobxME"
      },
      "execution_count": null,
      "outputs": []
    },
    {
      "cell_type": "code",
      "source": [
        "fhr=open(\"data.txt\",\"r\")\n",
        "data =fhr.read(10)\n",
        "print(data)\n",
        "fhr.close()"
      ],
      "metadata": {
        "id": "j7SiZy8fb3xI"
      },
      "execution_count": null,
      "outputs": []
    },
    {
      "cell_type": "code",
      "source": [
        "fhr=open(\"data.txt\",\"r\")\n",
        "data =fhr.read()\n",
        "print(data)\n",
        "fhr.close()"
      ],
      "metadata": {
        "id": "4gQDITyQcFQz"
      },
      "execution_count": null,
      "outputs": []
    },
    {
      "cell_type": "code",
      "source": [
        "fhr=open(\"data.txt\",\"r\")\n",
        "for line in fhr:\n",
        "    print(line,end=\"\")\n",
        "fhr.close()"
      ],
      "metadata": {
        "id": "f_PomwLucrUn"
      },
      "execution_count": null,
      "outputs": []
    },
    {
      "cell_type": "code",
      "source": [
        "fhr=open(\"data.txt\",\"r\")\n",
        "data =fhr.read()\n",
        "print(\"Before writing:\")\n",
        "print(data)\n",
        "fhr.close()\n",
        "fhw=open(\"data.txt\",\"w\")\n",
        "num=fhw.write(\"this new first line written\\n\")\n",
        "num1=fhw.write(\"this new second line written\\n\")\n",
        "print(\"num:\",num)\n",
        "print(\"num1:\",num1)\n",
        "fhw.close()\n",
        "fhr=open(\"data.txt\",\"r\")\n",
        "data =fhr.read()\n",
        "print(\"After writing:\")\n",
        "print(data)\n",
        "fhr.close()"
      ],
      "metadata": {
        "id": "dZlCGEOqdHQr"
      },
      "execution_count": null,
      "outputs": []
    },
    {
      "cell_type": "code",
      "source": [
        "fhr=open(\"data.txt\",\"r\")\n",
        "data =fhr.read()\n",
        "print(\"Before writing:\")\n",
        "print(data)\n",
        "fhr.close()\n",
        "fhw=open(\"data.txt\",\"a\")\n",
        "num=fhw.write(\"this new first line written\\n\")\n",
        "num1=fhw.write(\"this new second line written\\n\")\n",
        "print(\"num:\",num)\n",
        "print(\"num1:\",num1)\n",
        "fhw.close()\n",
        "fhr=open(\"data.txt\",\"r\")\n",
        "data =fhr.read()\n",
        "print(\"After writing:\")\n",
        "print(data)\n",
        "fhr.close()"
      ],
      "metadata": {
        "id": "GaIRVyKJfnIK"
      },
      "execution_count": null,
      "outputs": []
    },
    {
      "cell_type": "code",
      "source": [
        "fhr=open(\"data.txt\",\"r\")\n",
        "cur_pos=fhr.tell()\n",
        "print(cur_pos)\n",
        "data =fhr.readline()\n",
        "print(data)\n",
        "cur_pos=fhr.tell()\n",
        "print(cur_pos)\n",
        "data =fhr.readline()\n",
        "print(data)\n",
        "fhr.close()"
      ],
      "metadata": {
        "id": "S8ZCumAzgEC3"
      },
      "execution_count": null,
      "outputs": []
    },
    {
      "cell_type": "code",
      "source": [
        "fhr=open(\"data.txt\",\"rb+\")\n",
        "print(fhr.tell())\n",
        "fhr.seek(12) #navigates to 12th position from beginning of the file\n",
        "print(fhr.tell())\n",
        "fhr.seek(3,1) #navigates to 3rd position from current position of the file object position\n",
        "print(fhr.tell())\n",
        "fhr.seek(-3,2)#navigates to 3rd position from end of the file in backward direction\n",
        "print(fhr.tell())\n",
        "fhr.close()"
      ],
      "metadata": {
        "id": "jcb51j54gWPw"
      },
      "execution_count": null,
      "outputs": []
    },
    {
      "cell_type": "code",
      "source": [
        "fhr=open(\"data.txt\",\"rb+\")\n",
        "print(\"file name:\",fhr.name)\n",
        "print(\"access mode:\",fhr.mode)\n",
        "print(\"closed?\",fhr.closed)\n",
        "fhr.close()\n",
        "print(\"after closing the file closed?\",fhr.closed)"
      ],
      "metadata": {
        "id": "SrioDzzXhCy2"
      },
      "execution_count": null,
      "outputs": []
    },
    {
      "cell_type": "markdown",
      "source": [
        "## Collections\n",
        "List"
      ],
      "metadata": {
        "id": "GhhJV8H6EL8s"
      }
    },
    {
      "cell_type": "code",
      "source": [
        "list_of_airlines=[\"AL1\",\"AL2\",\"AL3\"]\n",
        "print(\"Iterating the list using range()\")\n",
        "for index in range(0,len(list_of_airlines)):\n",
        "    print(list_of_airlines[index])\n",
        "print(\"Iterating the list using keyword in\")\n",
        "for airline in list_of_airlines:\n",
        "    print(airline)"
      ],
      "metadata": {
        "id": "-d13gxksELC_"
      },
      "execution_count": null,
      "outputs": []
    },
    {
      "cell_type": "code",
      "source": [
        "list_of_airlines=[\"AL1\",\"AL2\",\"AL3\"]\n",
        "airline=\"AL3\"\n",
        "if airline in list_of_airlines:\n",
        "    print(\"Airline found\")\n",
        "else:\n",
        "    print(\"Airline not found\")"
      ],
      "metadata": {
        "id": "R4eOvlDhEdjG"
      },
      "execution_count": null,
      "outputs": []
    },
    {
      "cell_type": "markdown",
      "source": [
        "Given a list of integer values, write a Python program to check whether the list contains the same number in adjacent positions. Display the count of such adjacent occurrences.\n",
        "\n",
        "Sample Input\n",
        "\n",
        "Sample Output\n",
        "\n",
        "[1,1,5,100,-20,-20,6,0,0]\n",
        "\n",
        "3\n",
        "\n",
        "[10,20,30,40,30,20]\n",
        "\n",
        "0\n",
        "\n",
        "[1,2,2,3,4,4,4,10]\n",
        "\n",
        "3"
      ],
      "metadata": {
        "id": "WlgF_1RMEyZj"
      }
    },
    {
      "cell_type": "code",
      "source": [
        "def adjacent(l):\n",
        "  c = 0\n",
        "\n",
        "  for i in range(len(l) - 1):\n",
        "\n",
        "    if l[i] == l[i + 1]:\n",
        "        c += 1\n",
        "\n",
        "  return c\n",
        "\n",
        "l1 = [1,1,5,100,-20,-20,6,0,0]\n",
        "print(adjacent(l1))\n",
        "\n",
        "l2 = [10,20,30,40,30,20]\n",
        "print(adjacent(l2))\n",
        "\n",
        "l3 = [1,2,2,3,4,4,4,10]\n",
        "print(adjacent(l3))"
      ],
      "metadata": {
        "id": "ZRJGYlCREuyW"
      },
      "execution_count": null,
      "outputs": []
    },
    {
      "cell_type": "markdown",
      "source": [
        "String"
      ],
      "metadata": {
        "id": "vTCK612YGM5-"
      }
    },
    {
      "cell_type": "code",
      "source": [
        "#Creating a string\n",
        "pancard_number=\"AABGT6715H\"\n",
        "#Length of the string\n",
        "print(\"Length of the PAN card number:\", len(pancard_number))\n",
        "#Concatenating two strings\n",
        "name1 =\"PAN \"\n",
        "name2=\"card\"\n",
        "name=name1+name2\n",
        "print(name)\n",
        "print(\"Iterating the string using range()\")\n",
        "for index in range(0,len(pancard_number)):\n",
        "    print(pancard_number[index])\n",
        "    \n",
        "print(\"Iterating the string using keyword in\")\n",
        "for value in pancard_number:\n",
        "    print(value)\n",
        "print(\"Searching for a character in string\")\n",
        "if \"Z\" in pancard_number:\n",
        "    print(\"Character present\")\n",
        "else:\n",
        "    print(\"Character is not present\")\n",
        "#Slicing a string\n",
        "print(\"The numbers in the PAN card number:\", pancard_number[5:9])\n",
        "print(\"Last but one 3 characters in the PAN card:\",pancard_number[-4:-1])\n",
        "#pancard_number[2]=\"A\" #This line will result in an error, i.e., string is immutable\n",
        "print(pancard_number)"
      ],
      "metadata": {
        "id": "lG2HDYicGOSW"
      },
      "execution_count": null,
      "outputs": []
    },
    {
      "cell_type": "code",
      "source": [
        "number = 100\n",
        "ticket = []"
      ],
      "metadata": {
        "id": "QmHtzI1jJat6"
      },
      "execution_count": null,
      "outputs": []
    },
    {
      "cell_type": "code",
      "source": [
        "airline = 'AL1'\n",
        "\n",
        "src = input('Enter source city ')\n",
        "dest = input('Enter destination city ')\n",
        "\n",
        "src = src[:3].upper()\n",
        "dest = dest[:3].upper()\n",
        "number += 1\n",
        "\n",
        "t = airline + ':' + src + ':' + dest + ':' + str(number)\n",
        "ticket.append(t)\n",
        "\n",
        "print('Collect your ticket: ',f'{airline}:{src}:{dest}:{number}')\n",
        "\n",
        "if len(ticket) <= 5:\n",
        "  print('Last 5 tickets record: ',ticket[0:6])\n",
        "\n",
        "else:\n",
        "  print('Last 5 tickets record: ',ticket[len(ticket) - 5:len(ticket) + 1])"
      ],
      "metadata": {
        "id": "zIYA0_YhGaGN"
      },
      "execution_count": null,
      "outputs": []
    },
    {
      "cell_type": "markdown",
      "source": [
        "Write a Python function generate_fibanacci(n) to return a list of first n Fibonacci numbers"
      ],
      "metadata": {
        "id": "qGe1vhINYMCV"
      }
    },
    {
      "cell_type": "code",
      "source": [
        "def generate_fibanacci(n):\n",
        "  f = []\n",
        "  \n",
        "  a = 0\n",
        "  b = 1\n",
        "  i = 3\n",
        "  \n",
        "  f.append(a)\n",
        "  f.append(b)\n",
        "  \n",
        "  while (i <= n):\n",
        "    c = a + b\n",
        "    a = b\n",
        "    b = c\n",
        "    i += 1\n",
        "\n",
        "    f.append(c)\n",
        "\n",
        "  return f\n",
        "\n",
        "print(generate_fibanacci(20))"
      ],
      "metadata": {
        "id": "cahjXl7wYLEN"
      },
      "execution_count": null,
      "outputs": []
    },
    {
      "cell_type": "code",
      "source": [
        "def encode(message):\n",
        "  d = {}\n",
        "\n",
        "  for i in message:\n",
        "    if i in d.keys():\n",
        "      d.update({i: d[i] + 1})\n",
        "\n",
        "    else:\n",
        "      d.update({i: 1})\n",
        "\n",
        "  return d\n",
        "\n",
        "message = 'AAAABBBBCCCCCCCC'\n",
        "d = encode(message)\n",
        "\n",
        "for i in d.keys():\n",
        "  print(d[i], end = \"\")\n",
        "  print(i, end = \"\")"
      ],
      "metadata": {
        "id": "j5eynYhkawD9"
      },
      "execution_count": null,
      "outputs": []
    },
    {
      "cell_type": "markdown",
      "source": [
        "## Numpy"
      ],
      "metadata": {
        "id": "GQlBLG-9D1nV"
      }
    },
    {
      "cell_type": "code",
      "source": [
        "import numpy as np\n",
        "\n",
        "walk_steps = np.array([[1, 6012], [2, 7079], [3, 6886], [4, 7230], [5, 4598], [6, 5564], [7, 6971], [8, 7763], [9, 8032], [10, 9569]])\n",
        "print(walk_steps)\n",
        "\n",
        "after_7 = [0, 2000]\n",
        "walk_steps += after_7\n",
        "\n",
        "print(walk_steps)\n",
        "\n",
        "greater_than_9000 = walk_steps[0:,1] > 9000\n",
        "walk_steps_9000 = walk_steps[greater_than_9000]\n",
        "print(greater_than_9000)\n",
        "print(walk_steps_9000)\n",
        "\n",
        "less_than_9000 = walk_steps[0:,1] < 9000\n",
        "walk_steps_9000 = walk_steps[less_than_9000]\n",
        "print(less_than_9000)\n",
        "print(walk_steps_9000)"
      ],
      "metadata": {
        "id": "VG2hAVM0EGM0"
      },
      "execution_count": null,
      "outputs": []
    },
    {
      "cell_type": "markdown",
      "source": [
        "## Pandas"
      ],
      "metadata": {
        "id": "hkaqtfuOO-7f"
      }
    },
    {
      "cell_type": "code",
      "source": [
        "import pandas as pd\n",
        "\n",
        "series = pd.Series(data = [78, 92, 36, 64, 89])  \n",
        "series"
      ],
      "metadata": {
        "id": "atq5jGGQO-ib"
      },
      "execution_count": null,
      "outputs": []
    },
    {
      "cell_type": "code",
      "source": [
        "series.values"
      ],
      "metadata": {
        "id": "pZ8QMyDGPPxd"
      },
      "execution_count": null,
      "outputs": []
    },
    {
      "cell_type": "code",
      "source": [
        "series.index"
      ],
      "metadata": {
        "id": "vdhZGSRjPWJ2"
      },
      "execution_count": null,
      "outputs": []
    },
    {
      "cell_type": "code",
      "source": [
        "series[1]"
      ],
      "metadata": {
        "id": "GSid_Y-MPe5q"
      },
      "execution_count": null,
      "outputs": []
    },
    {
      "cell_type": "code",
      "source": [
        "series[1:3]"
      ],
      "metadata": {
        "id": "59qMXwyoPm1n"
      },
      "execution_count": null,
      "outputs": []
    },
    {
      "cell_type": "code",
      "source": [
        "data = pd.Series(data = [700000, 800000, 1600000, 1800000, 30000000], index = ['Swift', 'Jazz', 'Civic', 'Altis', 'Gallardo'])\n",
        "data"
      ],
      "metadata": {
        "id": "EBFfVqN-Puuh"
      },
      "execution_count": null,
      "outputs": []
    },
    {
      "cell_type": "code",
      "source": [
        "data['Swift']"
      ],
      "metadata": {
        "id": "96hfEm0bP9tl"
      },
      "execution_count": null,
      "outputs": []
    },
    {
      "cell_type": "code",
      "source": [
        "data['Jazz': 'Gallardo']"
      ],
      "metadata": {
        "id": "DNnzy_VaQIwI"
      },
      "execution_count": null,
      "outputs": []
    },
    {
      "cell_type": "code",
      "source": [
        "#Using dictionary to create a series\n",
        "car_price_dict = {'Swift':  700000,\n",
        "                       'Jazz' :  800000,\n",
        "                       'Civic' : 1600000,\n",
        "                       'Altis' : 1800000,\n",
        "                       'Gallardo': 30000000\n",
        "                      }\n",
        "car_price = pd.Series(car_price_dict)\n",
        "car_price"
      ],
      "metadata": {
        "id": "wMUDyZ6lQZaA"
      },
      "execution_count": null,
      "outputs": []
    },
    {
      "cell_type": "code",
      "source": [
        "#Creating a car price series with a dictionary\n",
        "car_price_dict = {'Swift':  700000,\n",
        "                       'Jazz' :  800000,\n",
        "                       'Civic' : 1600000,\n",
        "                       'Altis' : 1800000,\n",
        "                       'Gallardo': 30000000\n",
        "                      }\n",
        "car_price = pd.Series(car_price_dict)\n",
        "# Creating the car manufacturer series with a dictionary\n",
        "car_man_dict = {'Swift' : 'Maruti',\n",
        "                  'Jazz'   : 'Honda',\n",
        "                  'Civic'  : 'Honda',\n",
        "                  'Altis'  : 'Toyota',\n",
        "                   'Gallardo' : 'Lamborghini'}\n",
        "car_man = pd.Series(car_man_dict)\n",
        "print(car_price)\n",
        "print(car_man)"
      ],
      "metadata": {
        "id": "CyN0SuxPQvkh"
      },
      "execution_count": null,
      "outputs": []
    },
    {
      "cell_type": "code",
      "source": [
        "cars = pd.DataFrame({'Price': car_price , 'Manufacturer' : car_man})\n",
        "cars"
      ],
      "metadata": {
        "id": "u8JcBaJ6Q7xX"
      },
      "execution_count": null,
      "outputs": []
    },
    {
      "cell_type": "code",
      "source": [
        "cars['Price']"
      ],
      "metadata": {
        "id": "9RjBw3BNRJ7f"
      },
      "execution_count": null,
      "outputs": []
    },
    {
      "cell_type": "code",
      "source": [
        "#Using dictionary to create a series\n",
        "car_price_dict = {'Swift':  700000,\n",
        "                       'Jazz' :  800000,\n",
        "                       'Civic' : 1600000,\n",
        "                       'Altis' : 1800000,\n",
        "                       'Gallardo': 30000000\n",
        "                      }\n",
        "car_price = pd.Series(car_price_dict)\n",
        "print(car_price)\n",
        "#Creating a DataFrame from car_price Series\n",
        "pd.DataFrame(car_price, columns=['Car Price'])"
      ],
      "metadata": {
        "id": "laKeCf8hRWnZ"
      },
      "execution_count": null,
      "outputs": []
    },
    {
      "cell_type": "code",
      "source": [
        "data = [{'Name': 'Subodh', 'Marks': 28},\n",
        "        {'Name': 'Ram', 'Marks': 27}, \n",
        "        {'Name': 'Abdul', 'Marks': 26}, \n",
        "        {'Name': 'John', 'Marks': 28}]\n",
        "pd.DataFrame(data)"
      ],
      "metadata": {
        "id": "oqtXMJkbR23u"
      },
      "execution_count": null,
      "outputs": []
    },
    {
      "cell_type": "code",
      "source": [
        "pd.DataFrame([{'Subodh':20, 'Ram':25},\n",
        "              {'Abdul':29, 'John':24}], \n",
        "              index = ['Mathematics', 'Physics'])"
      ],
      "metadata": {
        "id": "lUadIlpUSER6"
      },
      "execution_count": null,
      "outputs": []
    },
    {
      "cell_type": "code",
      "source": [
        "#Using dictionary to create a series\n",
        "car_price_dict = {'Swift':  700000,\n",
        "                       'Jazz' :  800000,\n",
        "                       'Civic' : 1600000,\n",
        "                       'Altis' : 1800000,\n",
        "                       'Gallardo': 30000000\n",
        "                      }\n",
        "car_price = pd.Series(car_price_dict)\n",
        "car_man_dict = {'Swift' : 'Maruti',\n",
        "                  'Jazz'   : 'Honda',\n",
        "                  'Civic'  : 'Honda',\n",
        "                  'Altis'  : 'Toyota',\n",
        "                   'Gallardo' : 'Lamborghini'}\n",
        "car_man = pd.Series(car_man_dict)\n",
        "cars = pd.DataFrame({'Price': car_price , 'Manufacturer' : car_man})\n",
        "cars"
      ],
      "metadata": {
        "id": "hDK6O9aHSX12"
      },
      "execution_count": null,
      "outputs": []
    },
    {
      "cell_type": "code",
      "source": [
        "data_json = pd.read_json('example1626702607322.json',)\n",
        "data_json"
      ],
      "metadata": {
        "id": "QvmJUFdZSpeR"
      },
      "execution_count": null,
      "outputs": []
    },
    {
      "cell_type": "code",
      "source": [
        "import pandas as pd\n",
        "import numpy as np\n",
        "df = pd.read_csv('auto_mpg.csv')\n",
        "df"
      ],
      "metadata": {
        "id": "4uDHbnqgcO1f"
      },
      "execution_count": null,
      "outputs": []
    },
    {
      "cell_type": "code",
      "source": [
        "df.head()"
      ],
      "metadata": {
        "id": "aziwPrj4ca3f"
      },
      "execution_count": null,
      "outputs": []
    },
    {
      "cell_type": "code",
      "source": [
        "df.tail()"
      ],
      "metadata": {
        "id": "p3WS1-yocj-f"
      },
      "execution_count": null,
      "outputs": []
    },
    {
      "cell_type": "code",
      "source": [
        "df.info()"
      ],
      "metadata": {
        "id": "yw1_nW11cnGP"
      },
      "execution_count": null,
      "outputs": []
    },
    {
      "cell_type": "code",
      "source": [
        "df.dropna(inplace = True)\n",
        "df.info()"
      ],
      "metadata": {
        "id": "W2gfP-WBdA83"
      },
      "execution_count": null,
      "outputs": []
    },
    {
      "cell_type": "code",
      "source": [
        "df['name']"
      ],
      "metadata": {
        "id": "_Ua4StIudL7F"
      },
      "execution_count": null,
      "outputs": []
    },
    {
      "cell_type": "code",
      "source": [
        "df[['name']]"
      ],
      "metadata": {
        "id": "isf6fTbedq1Y"
      },
      "execution_count": null,
      "outputs": []
    },
    {
      "cell_type": "code",
      "source": [
        "df[['name', 'origin', 'model_year', 'mpg']]"
      ],
      "metadata": {
        "id": "bS-3tNYTdxwE"
      },
      "execution_count": null,
      "outputs": []
    },
    {
      "cell_type": "code",
      "source": [
        "#creating a subset using head\n",
        "df_head = df.head()\n",
        "#Setting name as custom index\n",
        "df_head.set_index('name', inplace = True)\n",
        "df_head"
      ],
      "metadata": {
        "id": "x0T9Rn2pd7lk"
      },
      "execution_count": null,
      "outputs": []
    },
    {
      "cell_type": "code",
      "source": [
        "df.iloc[2,1]"
      ],
      "metadata": {
        "id": "EAMe6Gt-ebd-"
      },
      "execution_count": null,
      "outputs": []
    },
    {
      "cell_type": "code",
      "source": [
        "print(df.iloc[2,-1],\n",
        "df.iloc[2,-2],\n",
        "df.iloc[2,-3],\n",
        "df.iloc[2,-4])"
      ],
      "metadata": {
        "id": "anUB4qpLek-c"
      },
      "execution_count": null,
      "outputs": []
    },
    {
      "cell_type": "code",
      "source": [
        "df.iloc[1:5, 4:6]"
      ],
      "metadata": {
        "id": "NSVwdXfBff1U"
      },
      "execution_count": null,
      "outputs": []
    },
    {
      "cell_type": "code",
      "source": [
        "#creating a subset using head. 'df' refers to XYZ Custom Cars DataFrame.\n",
        "df_head = df.head()\n",
        "#Setting name as custom index\n",
        "df_head.set_index('name', inplace = True)\n",
        "df_head.loc['buick skylark 320': 'amc rebel sst']"
      ],
      "metadata": {
        "id": "ryyb_uKlftqC"
      },
      "execution_count": null,
      "outputs": []
    },
    {
      "cell_type": "code",
      "source": [
        "#Subsetting from the full dataset\n",
        "df.loc[0:5, ['cylinders', 'horsepower', 'name']]"
      ],
      "metadata": {
        "id": "6_bLWhW1geb_"
      },
      "execution_count": null,
      "outputs": []
    },
    {
      "cell_type": "code",
      "source": [
        "marks = {'Chemistry': [67,90,66,32], \n",
        "        'Physics': [45,92,72,40],  \n",
        "        'Mathematics': [50,87,81,12],  \n",
        "        'English': [19,90,72,68]}\n",
        "marks_df = pd.DataFrame(marks, index = ['Subodh', 'Ram', 'Abdul', 'John'])\n",
        "marks_df"
      ],
      "metadata": {
        "id": "2ZcK5LdPgr6n"
      },
      "execution_count": null,
      "outputs": []
    },
    {
      "cell_type": "code",
      "source": [
        "marks_df['Total'] = marks_df['Chemistry'] + marks_df['Physics'] + marks_df['Mathematics'] + marks_df['English']\n",
        "marks_df"
      ],
      "metadata": {
        "id": "NpaQ7QBMg0-6"
      },
      "execution_count": null,
      "outputs": []
    },
    {
      "cell_type": "code",
      "source": [
        "marks_df.drop(columns = 'Total', inplace = True)\n",
        "marks_df"
      ],
      "metadata": {
        "id": "G59p2FWgg7gn"
      },
      "execution_count": null,
      "outputs": []
    },
    {
      "cell_type": "code",
      "source": [
        "df.loc[df['model_year'] == 72 ].head()"
      ],
      "metadata": {
        "id": "jKl7ONUWhN74"
      },
      "execution_count": null,
      "outputs": []
    },
    {
      "cell_type": "code",
      "source": [
        "df.loc[(df['origin'] == 'japan') & (df['cylinders'] == 6)]"
      ],
      "metadata": {
        "id": "4_bbNPpFhSre"
      },
      "execution_count": null,
      "outputs": []
    },
    {
      "cell_type": "code",
      "source": [
        "# Fuel efficient\n",
        "# MPG > 29, Horsepower < 93.5,\n",
        "# Weight < 2500\n",
        "df.loc[(df['mpg'] > 29) & (df['horsepower'] < 93.5) & (df['weight'] < 2500)]"
      ],
      "metadata": {
        "id": "uKr4SREchydS"
      },
      "execution_count": null,
      "outputs": []
    },
    {
      "cell_type": "code",
      "source": [
        "# Muscle cars\n",
        "# Displacement >262, Horsepower > 126, Weight in range[2800, 3600]\n",
        "df.loc[(df['displacement'] > 262) & (df['horsepower'] > 126) & (df['weight'] >=2800) & (df['weight'] <= 3600)]"
      ],
      "metadata": {
        "id": "OpMZ6-QxiDBF"
      },
      "execution_count": null,
      "outputs": []
    },
    {
      "cell_type": "code",
      "source": [
        "# SUV\n",
        "# Horsepower > 140 , Weight > 4500\n",
        "df.loc[(df['horsepower'] > 140) & (df['weight'] >=4500)]"
      ],
      "metadata": {
        "id": "pR3b2atqiPUG"
      },
      "execution_count": null,
      "outputs": []
    },
    {
      "cell_type": "code",
      "source": [
        "# Racecar\n",
        "# Weight <2223, acceleration > 17\n",
        "df.loc[(df['acceleration'] > 17) & (df['weight'] < 2223)]"
      ],
      "metadata": {
        "id": "2cj8tmULic1e"
      },
      "execution_count": null,
      "outputs": []
    },
    {
      "cell_type": "code",
      "source": [
        "f = marks_df < 33\n",
        "marks_df.mask(f, 'Fail')"
      ],
      "metadata": {
        "id": "B5m3vMEHikvh"
      },
      "execution_count": null,
      "outputs": []
    },
    {
      "cell_type": "code",
      "source": [
        "df.sort_values(by = 'cylinders')"
      ],
      "metadata": {
        "id": "aTi5e0gbjAxs"
      },
      "execution_count": null,
      "outputs": []
    },
    {
      "cell_type": "code",
      "source": [
        "df.sort_values(['acceleration', 'horsepower'], ascending = (1,0))"
      ],
      "metadata": {
        "id": "nTwj59uujNPM"
      },
      "execution_count": null,
      "outputs": []
    },
    {
      "cell_type": "code",
      "source": [
        "df.sort_values(['acceleration', 'horsepower'], ascending = (1,1))"
      ],
      "metadata": {
        "id": "Ji6BLcytj-4-"
      },
      "execution_count": null,
      "outputs": []
    },
    {
      "cell_type": "code",
      "source": [
        "marks = {'Chemistry': [67,90,66,32], \n",
        "        'Physics': [45,92,72,40],  \n",
        "        'Mathematics': [50,87,81,12],  \n",
        "        'English': [19,90,72,68]}\n",
        "marks_df = pd.DataFrame(marks, index = ['Subodh', 'Ram', 'Abdul', 'John'])\n",
        "marks_df"
      ],
      "metadata": {
        "id": "X0XlkR9rkDjb"
      },
      "execution_count": null,
      "outputs": []
    },
    {
      "cell_type": "code",
      "source": [
        "#encrypting marks as sine of marks\n",
        "encrypted_marks = np.sin(marks_df)\n",
        "encrypted_marks"
      ],
      "metadata": {
        "id": "YRpdUJVPkcep"
      },
      "execution_count": null,
      "outputs": []
    },
    {
      "cell_type": "code",
      "source": [
        "encrypted_marks.reset_index(inplace = True)\n",
        "encrypted_marks"
      ],
      "metadata": {
        "id": "KtYP1xO4kd1G"
      },
      "execution_count": null,
      "outputs": []
    },
    {
      "cell_type": "code",
      "source": [
        "new_marks = marks_df + 5\n",
        "new_marks"
      ],
      "metadata": {
        "id": "h40RyHYPkd4E"
      },
      "execution_count": null,
      "outputs": []
    },
    {
      "cell_type": "code",
      "source": [
        "new_marks = marks_df + [5,10,10,2]\n",
        "new_marks"
      ],
      "metadata": {
        "id": "rN8u1HKTkd7f"
      },
      "execution_count": null,
      "outputs": []
    },
    {
      "cell_type": "code",
      "source": [
        "#Creating the DataFrame\n",
        "marks = {'Chemistry': [67,90,66,32], \n",
        "        'Physics': [45,92,72,40],  \n",
        "        'Mathematics': [50,87,81,12],  \n",
        "        'English': [19,90,72,68]}\n",
        "marks_df = pd.DataFrame(marks, index = ['James', 'Lee', 'Anderson', 'John'])\n",
        "\n",
        "print(marks_df)"
      ],
      "metadata": {
        "id": "fFDxi4yekd-3"
      },
      "execution_count": null,
      "outputs": []
    },
    {
      "cell_type": "code",
      "source": [
        "marks_df.apply(np.sum, axis = 0)"
      ],
      "metadata": {
        "id": "G_hxeyYJkePd"
      },
      "execution_count": null,
      "outputs": []
    },
    {
      "cell_type": "code",
      "source": [
        "marks_df.apply(np.sum, axis = 1)"
      ],
      "metadata": {
        "id": "laRVDcggkedR"
      },
      "execution_count": null,
      "outputs": []
    },
    {
      "cell_type": "code",
      "source": [
        "marks_df.apply(func = np.mean, axis = 0, result_type = 'broadcast')"
      ],
      "metadata": {
        "id": "riAcP-w5kev-"
      },
      "execution_count": null,
      "outputs": []
    },
    {
      "cell_type": "code",
      "source": [
        "#Using list comprehension to get the numerical columns\n",
        "list1 = [col for col in df.columns if df[col].dtype in ['float', 'int64']]\n",
        "df[list1].agg(['min', 'max'])"
      ],
      "metadata": {
        "id": "sCSnd5y2ke-U"
      },
      "execution_count": null,
      "outputs": []
    },
    {
      "cell_type": "code",
      "source": [
        "df.groupby(['model_year']).count()[['name']]"
      ],
      "metadata": {
        "id": "xbG8nJDRkfQd"
      },
      "execution_count": null,
      "outputs": []
    },
    {
      "cell_type": "code",
      "source": [
        "#Creating a DataFrame grouped on cylinders and model_year and finding mean, min and max of horsepower\n",
        "grouped_multiple = df.groupby(['cylinders', 'model_year']).agg({'horsepower': ['mean', 'min', 'max']})\n",
        "#Naming columns in grouped DataFrame\n",
        "grouped_multiple.columns = ['hp_mean', 'hp_min', 'hp_max']\n",
        "#Resetting index\n",
        "grouped_multiple = grouped_multiple.reset_index()\n",
        "#Viewing head of resulting DataFrame\n",
        "grouped_multiple.head()"
      ],
      "metadata": {
        "id": "JY2xXEbwnNhR"
      },
      "execution_count": null,
      "outputs": []
    },
    {
      "cell_type": "code",
      "source": [
        "df.groupby(['model_year']).mean().sort_values('acceleration', ascending = False)[['acceleration']]"
      ],
      "metadata": {
        "id": "EewL5h8NnNlL"
      },
      "execution_count": null,
      "outputs": []
    },
    {
      "cell_type": "code",
      "source": [
        "marks_A = {'Chemistry': [67,90,66,32], \n",
        "        'Physics': [45,92,72,40],  \n",
        "          }\n",
        "marks_A_df = pd.DataFrame(marks_A, index = ['Subodh', 'Ram', 'Abdul', 'John'])\n",
        "marks_B = {'Chemistry': [72,45,60,98], \n",
        "        'Physics': [78,34,72,95],  \n",
        "          }\n",
        "marks_B_df = pd.DataFrame(marks_B, index = ['Nandini', 'Zoya', 'Shivam', 'James'])"
      ],
      "metadata": {
        "id": "l08YLsZknh7p"
      },
      "execution_count": null,
      "outputs": []
    },
    {
      "cell_type": "code",
      "source": [
        "pd.concat([marks_A_df,marks_B_df], sort = False)"
      ],
      "metadata": {
        "id": "hFCBVLIAnh_1"
      },
      "execution_count": null,
      "outputs": []
    },
    {
      "cell_type": "code",
      "source": [
        "df1 = pd.DataFrame({'employee': ['Jyoti', 'Sapna', 'Raj', 'Ramaswamy'],\n",
        "                    'group': ['Accounting', 'Engineering', 'Engineering', 'HR']})\n",
        "df2 = pd.DataFrame({'employee': ['Jyoti', 'Sapna', 'Raj', 'Ramaswamy'],\n",
        "                    'hire_date': [2004, 2008, 2012, 2014]})\n",
        "display(df1,df2)"
      ],
      "metadata": {
        "id": "WwgT8YMYniOz"
      },
      "execution_count": null,
      "outputs": []
    },
    {
      "cell_type": "code",
      "source": [
        "pd.concat([df1,df2], sort = False)"
      ],
      "metadata": {
        "id": "-4BRwWKxnifT"
      },
      "execution_count": null,
      "outputs": []
    },
    {
      "cell_type": "code",
      "source": [
        "df3 = pd.merge(df1,df2)\n",
        "df3"
      ],
      "metadata": {
        "id": "W1CDXHP8nirt"
      },
      "execution_count": null,
      "outputs": []
    },
    {
      "cell_type": "code",
      "source": [
        "pd.crosstab(df['model_year'], df['cylinders'])"
      ],
      "metadata": {
        "id": "gbOP6ppBni38"
      },
      "execution_count": null,
      "outputs": []
    },
    {
      "cell_type": "code",
      "source": [
        "pivot1 = pd.pivot_table(df, index = 'model_year', aggfunc=np.mean)\n",
        "pivot1"
      ],
      "metadata": {
        "id": "81DZb2qLnjDD"
      },
      "execution_count": null,
      "outputs": []
    },
    {
      "cell_type": "code",
      "source": [
        "df.plot(x = 'model_year', y = 'acceleration', marker = 'o', kind = 'scatter');"
      ],
      "metadata": {
        "id": "hnfZXPPnpVAR"
      },
      "execution_count": null,
      "outputs": []
    },
    {
      "cell_type": "code",
      "source": [
        "df.groupby('model_year').mean()[['acceleration']].plot(kind = 'bar');"
      ],
      "metadata": {
        "id": "4GV2jTZ3njQA"
      },
      "execution_count": null,
      "outputs": []
    },
    {
      "cell_type": "code",
      "source": [
        "df['cylinders'].plot(kind = 'hist')"
      ],
      "metadata": {
        "id": "oNX9XTJInjdY"
      },
      "execution_count": null,
      "outputs": []
    },
    {
      "cell_type": "code",
      "source": [
        "df.plot(x = 'weight', y = 'mpg', kind = 'scatter')"
      ],
      "metadata": {
        "id": "pwA2RBL8njrt"
      },
      "execution_count": null,
      "outputs": []
    },
    {
      "cell_type": "code",
      "source": [
        "df.groupby('cylinders').mean().sort_values('acceleration')[['acceleration']].plot(kind = 'bar')"
      ],
      "metadata": {
        "id": "hqp6fXOxnkQ0"
      },
      "execution_count": null,
      "outputs": []
    },
    {
      "cell_type": "code",
      "source": [
        "import pandas as pd\n",
        "\n",
        "df = pd.DataFrame({'Employee_Id':['A','B','C','D','E'],'Count':[100,200,300,400,250]})\n",
        "\n",
        "df.rename(columns = {‘Count’:’Employee_Count’})\n",
        "\n",
        "print(df.columns)"
      ],
      "metadata": {
        "id": "meTgKerMnNpO"
      },
      "execution_count": null,
      "outputs": []
    },
    {
      "cell_type": "code",
      "source": [
        "import pandas as pd\n",
        "\n",
        "ser = pd.Series([10,20,30,40,50], index = [1,2,3,4,5])\n",
        "\n",
        "print(ser)\n",
        "print(ser.iloc[1])\n",
        "print(ser.loc[1])"
      ],
      "metadata": {
        "id": "RYXjYp5BnNsc"
      },
      "execution_count": null,
      "outputs": []
    },
    {
      "cell_type": "code",
      "source": [
        "import numpy as np\n",
        "rng = np.array(list(range(10,20)))\n",
        "\n",
        "ser = pd.Series(rng)\n",
        "\n",
        "ser+=10\n",
        "\n",
        "print(ser.iloc[7])"
      ],
      "metadata": {
        "id": "Q-PfDNCCnNwB"
      },
      "execution_count": null,
      "outputs": []
    },
    {
      "cell_type": "code",
      "source": [
        "df = pd.DataFrame({'Chemistry': [67,90,66,32],\n",
        "\n",
        "        'Physics': [45,92,72,40], \n",
        "\n",
        "        'Mathematics': [50,87,81,12], \n",
        "\n",
        "        'English': [19,90,72,68]})\n",
        "\n",
        "df"
      ],
      "metadata": {
        "id": "Y0zgIIXFssNl"
      },
      "execution_count": null,
      "outputs": []
    },
    {
      "cell_type": "code",
      "source": [
        "df += 10\n",
        "print(df)"
      ],
      "metadata": {
        "id": "zk_8zrGbssbr"
      },
      "execution_count": null,
      "outputs": []
    },
    {
      "cell_type": "code",
      "source": [
        "df + [10,10,10,10]"
      ],
      "metadata": {
        "id": "iaoRqFFjssn4"
      },
      "execution_count": null,
      "outputs": []
    },
    {
      "cell_type": "code",
      "source": [
        "df += [10, 20, 10, 10]\n",
        "print(df)"
      ],
      "metadata": {
        "id": "eNVY-DJPss0Z"
      },
      "execution_count": null,
      "outputs": []
    },
    {
      "cell_type": "code",
      "source": [
        "df + [10, 20, 10, 10]"
      ],
      "metadata": {
        "id": "Tx9NqbhWstBD"
      },
      "execution_count": null,
      "outputs": []
    },
    {
      "cell_type": "code",
      "source": [
        "df = pd.DataFrame({'Chemistry': [67,90,66,32],\n",
        "\n",
        "        'Physics': [45,92,72,40], \n",
        "\n",
        "        'Mathematics': [50,87,81,12], \n",
        "\n",
        "        'English': [19,90,72,68]})"
      ],
      "metadata": {
        "id": "tBlvr6QJstIH"
      },
      "execution_count": null,
      "outputs": []
    },
    {
      "cell_type": "code",
      "source": [
        "df.groupby('Physics')\n",
        "print(df)"
      ],
      "metadata": {
        "id": "T9dHDwF1stTz"
      },
      "execution_count": null,
      "outputs": []
    },
    {
      "cell_type": "code",
      "source": [
        "df.sort_values(by = 'Physics')"
      ],
      "metadata": {
        "id": "uuuLb8Besthv"
      },
      "execution_count": null,
      "outputs": []
    },
    {
      "cell_type": "code",
      "source": [
        "df.sort(by = 'Physics')"
      ],
      "metadata": {
        "id": "gz0UjDZCstuF"
      },
      "execution_count": null,
      "outputs": []
    },
    {
      "cell_type": "code",
      "source": [
        "df.sortby('Physics')"
      ],
      "metadata": {
        "id": "KMxKOjAFst3k"
      },
      "execution_count": null,
      "outputs": []
    },
    {
      "cell_type": "code",
      "source": [
        "import pandas as pd\n",
        "\n",
        "df = pd.DataFrame([[54.2,'a'],[658,'d']],\n",
        "                  index = list('pq'))\n",
        "df.columns = df.index\n",
        "print(df)\n",
        "print(df.columns.values)"
      ],
      "metadata": {
        "id": "DxuVgrensuGv"
      },
      "execution_count": null,
      "outputs": []
    },
    {
      "cell_type": "markdown",
      "source": [
        "Problem Statement:\n",
        "Click here to find the rainfall dataset that is to be considered for the exercise.. This data contains region(district) wise rainfall across India. \n",
        "\n",
        "Import the data into Python environment as a Pandas DataFrame.\n",
        "Check for missing values, if any and drop the corresponding rows.\n",
        "Find the district that gets the highest annual rainfall.\n",
        "Display the top 5 states that get the highest annual rainfall.\n",
        "Drop the columns 'Jan-Feb', 'Mar-May', 'Jun-Sep', 'Oct-Dec'.\n",
        "Display the state-wise mean rainfall for all the months using a pivot table.\n",
        "Display the count of districts in each state.\n",
        "For each state, display the district that gets the highest rainfall in May. Also display the recorded rainfall."
      ],
      "metadata": {
        "id": "kuVn8RVcxeo0"
      }
    },
    {
      "cell_type": "code",
      "source": [
        "import pandas as pd\n",
        "import numpy as np\n",
        "df = pd.read_csv('rainfall.csv')\n",
        "df"
      ],
      "metadata": {
        "id": "ung7JCRysuVF"
      },
      "execution_count": null,
      "outputs": []
    },
    {
      "cell_type": "code",
      "source": [
        "df.info()"
      ],
      "metadata": {
        "id": "UUo5axqpxJ5s"
      },
      "execution_count": null,
      "outputs": []
    },
    {
      "cell_type": "code",
      "source": [
        "df.dropna(inplace = True)\n",
        "df.info()"
      ],
      "metadata": {
        "id": "X8cGpEASxZm7"
      },
      "execution_count": null,
      "outputs": []
    },
    {
      "cell_type": "code",
      "source": [
        "df[['STATE_UT_NAME', 'DISTRICT', 'ANNUAL']].max()"
      ],
      "metadata": {
        "id": "a8flJLhIxqfw"
      },
      "execution_count": null,
      "outputs": []
    },
    {
      "cell_type": "code",
      "source": [
        "print(df.loc[df['ANNUAL'].idxmax()])\n",
        "print(df.loc[df['ANNUAL'].idxmax()]['DISTRICT'])"
      ],
      "metadata": {
        "id": "cTG98NhNxqo2"
      },
      "execution_count": null,
      "outputs": []
    },
    {
      "cell_type": "code",
      "source": [
        "df.sort_values(by = 'ANNUAL')"
      ],
      "metadata": {
        "id": "D4mYFcu8xqtF"
      },
      "execution_count": null,
      "outputs": []
    },
    {
      "cell_type": "code",
      "source": [
        "#Using list comprehension to get the numerical columns\n",
        "list1 = [col for col in df.columns if df[col].dtype in ['float', 'int64']]\n",
        "df[list1].agg(['min', 'max'])"
      ],
      "metadata": {
        "id": "xwWgXQCC0DGW"
      },
      "execution_count": null,
      "outputs": []
    },
    {
      "cell_type": "code",
      "source": [
        "df.sort_values(by = 'ANNUAL', ascending = False).head()"
      ],
      "metadata": {
        "id": "PzpL6GtUxqw-"
      },
      "execution_count": null,
      "outputs": []
    },
    {
      "cell_type": "code",
      "source": [
        "df.drop(columns = ['Jan-Feb', 'Mar-May',\t'Jun-Sep',\t'Oct-Dec'], inplace = True)"
      ],
      "metadata": {
        "id": "_Ci0Dv4-xq0L"
      },
      "execution_count": null,
      "outputs": []
    },
    {
      "cell_type": "code",
      "source": [
        "df"
      ],
      "metadata": {
        "id": "6TrYQXDYxq33"
      },
      "execution_count": null,
      "outputs": []
    },
    {
      "cell_type": "code",
      "source": [
        "pivot1 = pd.pivot_table(df, index = 'STATE_UT_NAME', aggfunc=np.mean)\n",
        "pivot1['ANNUAL']"
      ],
      "metadata": {
        "id": "tb9kOaOhxrB7"
      },
      "execution_count": null,
      "outputs": []
    },
    {
      "cell_type": "code",
      "source": [
        "df.groupby(['STATE_UT_NAME']).count()[['DISTRICT']]"
      ],
      "metadata": {
        "id": "cVV2JjtrxrKJ"
      },
      "execution_count": null,
      "outputs": []
    },
    {
      "cell_type": "code",
      "source": [
        "df.groupby(['STATE_UT_NAME']).count()[['DISTRICT']].info()"
      ],
      "metadata": {
        "id": "vUANOdtSxrSd"
      },
      "execution_count": null,
      "outputs": []
    },
    {
      "cell_type": "code",
      "source": [
        "df.groupby(['STATE_UT_NAME', 'DISTRICT']).max()[['ANNUAL']]"
      ],
      "metadata": {
        "id": "OkSydVHJxrYw"
      },
      "execution_count": null,
      "outputs": []
    },
    {
      "cell_type": "code",
      "source": [
        "df.groupby(['STATE_UT_NAME', 'DISTRICT', 'MAY']).max()[['ANNUAL']]"
      ],
      "metadata": {
        "id": "EehYmlQSxrj4"
      },
      "execution_count": null,
      "outputs": []
    },
    {
      "cell_type": "code",
      "source": [
        "df.loc[df.groupby('STATE_UT_NAME')['MAY'].idxmax()][['STATE_UT_NAME','DISTRICT','MAY']]"
      ],
      "metadata": {
        "id": "BSgqFJG94egc"
      },
      "execution_count": null,
      "outputs": []
    },
    {
      "cell_type": "code",
      "source": [
        "df.groupby(['STATE_UT_NAME']).max()[['DISTRICT','MAY']]"
      ],
      "metadata": {
        "id": "FkgESCjk409K"
      },
      "execution_count": null,
      "outputs": []
    },
    {
      "cell_type": "code",
      "source": [
        "df.groupby(['STATE_UT_NAME']).max()[['DISTRICT','MAY']].plot(kind = 'bar')"
      ],
      "metadata": {
        "id": "HDOKS-yj6Z-P"
      },
      "execution_count": null,
      "outputs": []
    },
    {
      "cell_type": "code",
      "source": [
        "df.groupby(['STATE_UT_NAME']).max()[['DISTRICT','MAY']].plot(kind = 'bar', figsize=(20, 10))"
      ],
      "metadata": {
        "id": "_D4nZSySCwQ7"
      },
      "execution_count": null,
      "outputs": []
    },
    {
      "cell_type": "code",
      "source": [
        "df.groupby(['STATE_UT_NAME']).max()[['DISTRICT','MAY','JUN']].plot(kind = 'bar', figsize=(20, 10))"
      ],
      "metadata": {
        "id": "zOPGsaK28utS"
      },
      "execution_count": null,
      "outputs": []
    },
    {
      "cell_type": "code",
      "source": [
        "df['ANNUAL_AVERAGE'] = df['ANNUAL'] / 12\n",
        "df"
      ],
      "metadata": {
        "id": "VFbfDxzoL3H3"
      },
      "execution_count": null,
      "outputs": []
    },
    {
      "cell_type": "code",
      "source": [
        "df.groupby(['STATE_UT_NAME']).max()[['DISTRICT','MAY','ANNUAL_AVERAGE']].plot(kind = 'bar', figsize=(20, 10))"
      ],
      "metadata": {
        "id": "8RQ6uCruMKv3"
      },
      "execution_count": null,
      "outputs": []
    },
    {
      "cell_type": "markdown",
      "source": [
        "## Scikit learn"
      ],
      "metadata": {
        "id": "VVk57QQ_M3tP"
      }
    },
    {
      "cell_type": "code",
      "source": [
        "import numpy as np\n",
        "import pandas as pd\n",
        "import matplotlib.pyplot as plt\n",
        "import sklearn\n",
        "from sklearn.datasets import load_boston\n",
        "boston = load_boston()\n",
        "print(boston.data.shape)       # (506, 13)\n",
        "print(boston.feature_names)  # Column names\n",
        "print(boston.DESCR)        # brief desc.\n",
        "df = pd.DataFrame(boston.data)\n",
        "print(df.head(5))"
      ],
      "metadata": {
        "id": "lgyrPawfM29K"
      },
      "execution_count": null,
      "outputs": []
    },
    {
      "cell_type": "code",
      "source": [
        "df.columns = boston.feature_names\n",
        "print(df.head(5))"
      ],
      "metadata": {
        "id": "Qtntv2wZNoYF"
      },
      "execution_count": null,
      "outputs": []
    },
    {
      "cell_type": "code",
      "source": [
        "df['PRICE'] = boston.target\n",
        "print(df.head(5))"
      ],
      "metadata": {
        "id": "zL0RUxfOQrmN"
      },
      "execution_count": null,
      "outputs": []
    },
    {
      "cell_type": "code",
      "source": [
        "#X = df.drop('PRICE', axis = 1)\n",
        "              \n",
        "## (use sklearn.model_selection in case sklearn.cross_validation results into error)\n",
        "from sklearn.model_selection import train_test_split\n",
        "X_train, X_test, y_train, y_test = train_test_split(\n",
        "        X, df.PRICE, test_size = 0.33, # Test data (33%)\n",
        "        random_state = 42) # assign random_state to any value, to get same samples on each fresh run#"
      ],
      "metadata": {
        "id": "Y_GCovwuN7Nk"
      },
      "execution_count": null,
      "outputs": []
    },
    {
      "cell_type": "code",
      "source": [
        "from sklearn.linear_model import LinearRegression\n",
        "lm = LinearRegression()\n",
        "lm.fit(X_train, y_train)\n",
        "pred_test = lm.predict(X_test)"
      ],
      "metadata": {
        "id": "eCrr1DJKOl9W"
      },
      "execution_count": null,
      "outputs": []
    },
    {
      "cell_type": "code",
      "source": [
        "plt.scatter(y_test,pred_test)\n",
        "plt.plot(np.unique(y_test), \n",
        "      np.poly1d(np.polyfit(y_test, pred_test, 1))(np.unique(y_test)),\n",
        "      linewidth = 3)\n",
        "plt.xlabel('Actual Price')\n",
        "plt.ylabel('Predicted Price')"
      ],
      "metadata": {
        "id": "c1eEpYtBROls"
      },
      "execution_count": null,
      "outputs": []
    },
    {
      "cell_type": "code",
      "source": [
        "coeff_df = pd.DataFrame(X_train.columns, lm.coef_)\n",
        "print(coeff_df)\n",
        "mse = sklearn.metrics.mean_squared_error(y_test, pred_test)\n",
        "print(mse)"
      ],
      "metadata": {
        "id": "YrvhbAYFRZEA"
      },
      "execution_count": null,
      "outputs": []
    },
    {
      "cell_type": "markdown",
      "source": [
        "Problem Statement:\n",
        "\n",
        "Given an Airfare and Demand 2002Q4 dataset and attribute information. Build a linear regression model on the dataset to predict the price of the airfare."
      ],
      "metadata": {
        "id": "0VyPFCJISBV3"
      }
    },
    {
      "cell_type": "code",
      "source": [
        "import numpy as np\n",
        "import pandas as pd\n",
        "import matplotlib.pyplot as plt\n",
        "import sklearn\n",
        "from sklearn.datasets import load_boston\n",
        "boston = load_boston()\n",
        "print(boston.data.shape)       # (506, 13)\n",
        "print(boston.feature_names)  # Column names\n",
        "print(boston.DESCR)        # brief desc.\n",
        "df = pd.DataFrame(boston.data)\n",
        "print(df.head(5))"
      ],
      "metadata": {
        "id": "62Mqp3UASGqn"
      },
      "execution_count": null,
      "outputs": []
    },
    {
      "cell_type": "markdown",
      "source": [
        "## Exploratory Data Analysis\n",
        "\n",
        "Importing data\n",
        "\n",
        "Consider the following drug dataset.\n",
        "\n",
        "Import the given data file using pandas and create a dataframe drug_df.\n",
        "Dataset can be downloaded here.\n",
        "\n",
        "(Data set in csv format can be downloaded from Data and Code used in the course section and use drug.csv)"
      ],
      "metadata": {
        "id": "lrtLmYZW8J_T"
      }
    },
    {
      "cell_type": "code",
      "source": [
        "import numpy as np\n",
        "import pandas as pd\n",
        "import matplotlib.pyplot as plt\n",
        "import seaborn as sns"
      ],
      "metadata": {
        "id": "HDRLaxN88Tx5"
      },
      "execution_count": null,
      "outputs": []
    },
    {
      "cell_type": "code",
      "source": [
        "user_rating = pd.read_csv('drug.csv')\n",
        "user_rating.head()"
      ],
      "metadata": {
        "id": "gjYHroN0Agfg"
      },
      "execution_count": null,
      "outputs": []
    },
    {
      "cell_type": "code",
      "source": [
        "drug_df = pd.read_csv(\"drug.csv\")\n",
        "drug_df.head()"
      ],
      "metadata": {
        "id": "w_B50K_XFIBR"
      },
      "execution_count": null,
      "outputs": []
    },
    {
      "cell_type": "code",
      "source": [
        "drug_df.rename(columns = {'Unnamed: 0': 'url', 'urlDrugName': 'DrugName'}, inplace = True)\n",
        "drug_df.head()"
      ],
      "metadata": {
        "id": "XSMIaoGFG4iN"
      },
      "execution_count": null,
      "outputs": []
    },
    {
      "cell_type": "code",
      "source": [
        "drug_df = pd.read_table(\"drug.tsv\")\n",
        "drug_df.rename(columns = {'Unnamed: 0': 'url', 'urlDrugName': 'DrugName'}, inplace = True)\n",
        "drug_df.head()"
      ],
      "metadata": {
        "id": "zc_AkHTUJVTj"
      },
      "execution_count": null,
      "outputs": []
    },
    {
      "cell_type": "code",
      "source": [
        "drug_df = pd.read_csv('drug.tsv',sep = '\\t')\n",
        "drug_df.rename(columns = {'Unnamed: 0': 'url', 'urlDrugName': 'DrugName'}, inplace = True)\n",
        "drug_df.head()"
      ],
      "metadata": {
        "id": "FHK24yvWam7s"
      },
      "execution_count": null,
      "outputs": []
    },
    {
      "cell_type": "markdown",
      "source": [
        "###Preprocessing"
      ],
      "metadata": {
        "id": "e1nWh7cGr9Iy"
      }
    },
    {
      "cell_type": "markdown",
      "source": [
        "Return the number of rows in the dataframe.\n",
        "\n",
        "Find the number of missing values in each column.\n",
        "\n",
        "If there are any missing values in the column 'condition', fill them with 'No condition specified'.\n",
        "\n",
        "Display all the rows which have 'Highly Effective' or 'Considerably Effective' in the 'effectiveness' column. \n",
        "\n",
        "Create a column 'Side_Effect_Rating'. Follow the below rules to fill this column from the data points in 'SideEffects' column.\n",
        "\n",
        "SideEffects\tSide_Effect_Rating\n",
        "Extremely Severe Side Effects\t5\n",
        "\n",
        "Severe Side Effects\t4\n",
        "\n",
        "Moderate Side Effects\t3\n",
        "\n",
        "Mild Side Effects\t2\n",
        "\n",
        "No Side Effects\t1"
      ],
      "metadata": {
        "id": "k3e1JNBVavt8"
      }
    },
    {
      "cell_type": "code",
      "source": [
        "print(drug_df.shape)\n",
        "print('Number of rows in the dataframe = ', drug_df.shape[0])"
      ],
      "metadata": {
        "id": "krxjpvnfbNWn"
      },
      "execution_count": null,
      "outputs": []
    },
    {
      "cell_type": "code",
      "source": [
        "drug_df.isna().any()"
      ],
      "metadata": {
        "id": "jih1T4gzcP3U"
      },
      "execution_count": null,
      "outputs": []
    },
    {
      "cell_type": "code",
      "source": [
        "drug_df.isna().any(axis = 1)"
      ],
      "metadata": {
        "id": "eEPMn74fct00"
      },
      "execution_count": null,
      "outputs": []
    },
    {
      "cell_type": "code",
      "source": [
        "print('Number of missing values in each column: \\n', drug_df.isna().sum())"
      ],
      "metadata": {
        "id": "-ybkAkNXc1DK"
      },
      "execution_count": null,
      "outputs": []
    },
    {
      "cell_type": "code",
      "source": [
        "drug_df.isna()"
      ],
      "metadata": {
        "id": "f6KtHG9E1-SQ"
      },
      "execution_count": null,
      "outputs": []
    },
    {
      "cell_type": "code",
      "source": [
        "drug_df[drug_df.isna().any(axis = 1)]"
      ],
      "metadata": {
        "id": "ZgQnMQ5G2EHx"
      },
      "execution_count": null,
      "outputs": []
    },
    {
      "cell_type": "code",
      "source": [
        "drug_df[drug_df.isna().any(axis = 1)].index.tolist()"
      ],
      "metadata": {
        "id": "fsv7VLne2ymb"
      },
      "execution_count": null,
      "outputs": []
    },
    {
      "cell_type": "code",
      "source": [
        "drug_array = drug_df.loc[:,[\"condition\"]]\n",
        "drug_array[drug_array.isna().any(axis=1)].index.tolist()"
      ],
      "metadata": {
        "id": "-KI-gMvD7Tk2"
      },
      "execution_count": null,
      "outputs": []
    },
    {
      "cell_type": "code",
      "source": [
        "from sklearn.impute import SimpleImputer\n",
        "drug_array = np.array(drug_df['condition'])\n",
        "imputer = SimpleImputer(strategy = \"constant\", fill_value =\"No condition specified\")\n",
        "drug_df['condition'] = imputer.fit_transform(drug_array.reshape(-1,1))\n",
        "drug_df.loc[[2488],['condition']]"
      ],
      "metadata": {
        "id": "tleGWz-u3PTW"
      },
      "execution_count": null,
      "outputs": []
    },
    {
      "cell_type": "code",
      "source": [
        "drug_df.loc[(drug_df.effectiveness.isin(['Highly Effective', 'Considerably Effective'])), ['effectiveness']]"
      ],
      "metadata": {
        "id": "LhqCwnHiAyGs"
      },
      "execution_count": null,
      "outputs": []
    },
    {
      "cell_type": "code",
      "source": [
        "# create a list of our conditions\n",
        "conditions = [\n",
        "    (drug_df['sideEffects'] == 'Extremely Severe Side Effects'),\n",
        "    (drug_df['sideEffects'] == 'Severe Side Effects'),\n",
        "    (drug_df['sideEffects'] == 'Moderate Side Effects'),\n",
        "    (drug_df['sideEffects'] == 'Mild Side Effects'),\n",
        "    (drug_df['sideEffects'] == 'No Side Effects')\n",
        "    ]\n",
        "\n",
        "# create a list of the values we want to assign for each condition\n",
        "values = [5, 4, 3, 2, 1]\n",
        "\n",
        "# create a new column and use np.select to assign values to it using our lists as arguments\n",
        "drug_df['Side_Effect_Rating'] = np.select(conditions, values)\n",
        "drug_df"
      ],
      "metadata": {
        "id": "yDXdMvQcCWhs"
      },
      "execution_count": null,
      "outputs": []
    },
    {
      "cell_type": "markdown",
      "source": [
        "After performing the operations specified in exercise - 5. Plot the following.\n",
        "\n",
        "Plot a bar graph for the side effects and its frequencies and determine which has the highest frequency.\n",
        "\n",
        "Plot a bar graph for the effectiveness and determine which effectiveness is the highest in the data."
      ],
      "metadata": {
        "id": "_3khxGl3kcTc"
      }
    },
    {
      "cell_type": "code",
      "source": [
        "sns.countplot(x='sideEffects', data=drug_df)\n",
        "plt.title(\"Bar chart of sideEffects\")\n",
        "plt.tight_layout()\n",
        "plt.gcf().set_size_inches(15, 5)\n",
        "plt.show()"
      ],
      "metadata": {
        "id": "1H2_sFedkb60"
      },
      "execution_count": null,
      "outputs": []
    },
    {
      "cell_type": "code",
      "source": [
        "sns.countplot(x='effectiveness', data=drug_df)\n",
        "plt.title(\"Bar chart of effectiveness\")\n",
        "plt.tight_layout()\n",
        "plt.gcf().set_size_inches(15, 5)\n",
        "plt.show()"
      ],
      "metadata": {
        "id": "BrG1ClIBsuvE"
      },
      "execution_count": null,
      "outputs": []
    },
    {
      "cell_type": "markdown",
      "source": [
        "Given the following text file.\n",
        "\n",
        "Read the data from the file.\n",
        "\n",
        "Create a dataframe feedback_df.\n",
        "\n",
        "Store the data into a column named Reviews in the feedback_df. (Identify the delimiter for the text file).\n",
        "\n",
        "Create a column ID in feedback_df which has serial numbers starting from 0.\n",
        "\n",
        "Download the data file here."
      ],
      "metadata": {
        "id": "Hsj8li86GCRO"
      }
    },
    {
      "cell_type": "code",
      "source": [
        "pip install detect_delimiter"
      ],
      "metadata": {
        "id": "onPB8CFY-iek"
      },
      "execution_count": null,
      "outputs": []
    },
    {
      "cell_type": "code",
      "source": [
        "import pandas as pd\n",
        "from detect_delimiter import detect\n",
        "feedback_df = pd.read_table(\"feedback.txt\", names = ['Reviews'])\n",
        "feedback_df.head()"
      ],
      "metadata": {
        "id": "5DhP2WldFjfn"
      },
      "execution_count": null,
      "outputs": []
    },
    {
      "cell_type": "code",
      "source": [
        "feedback_df.index.name=\"Column ID\"\n",
        "feedback_df.head()"
      ],
      "metadata": {
        "id": "Dmndib7KBra8"
      },
      "execution_count": null,
      "outputs": []
    },
    {
      "cell_type": "markdown",
      "source": [
        "Semi-structured data"
      ],
      "metadata": {
        "id": "NTEpz3i_THdN"
      }
    },
    {
      "cell_type": "code",
      "source": [
        "#Importing Data from XML file\n",
        "import xml.etree.ElementTree as ET\n",
        "tree = ET.parse('reviews.xml')\n",
        "root = tree.getroot()\n",
        "print(root.tag,\"Id :\", root.attrib['id'])"
      ],
      "metadata": {
        "id": "1wkSa54BbGlm"
      },
      "execution_count": null,
      "outputs": []
    },
    {
      "cell_type": "code",
      "source": [
        "#Extract all the data from elements and sub elements\n",
        "restaurantDict = {}\n",
        "reviewDict = {}\n",
        "specialFeaturesList = []\n",
        "reviewsList = []\n",
        "\n",
        "for elem in root:\n",
        "    restaurantDict.update({elem.tag:elem.text})\n",
        "    for subelem in elem:\n",
        "        if elem.tag == \"SpecialFeatures\":\n",
        "            specialFeaturesList.append(subelem.text)\n",
        "            restaurantDict.update({\"SpecialFeatures\":specialFeaturesList})\n",
        "         \n",
        "        if elem.tag == \"Reviews\":\n",
        "            reviewDict = {}\n",
        "            reviewDict.update({\"Review Id\":subelem.attrib['id']})\n",
        "            for subsubelem in subelem:            \n",
        "                 reviewDict.update({subsubelem.tag:subsubelem.text})\n",
        "            reviewsList.append(reviewDict)\n",
        "            restaurantDict.update({\"Reviews\":reviewsList})\n",
        "\n",
        "#restaurantDict"
      ],
      "metadata": {
        "id": "CWzdr5xcfyHX"
      },
      "execution_count": null,
      "outputs": []
    },
    {
      "cell_type": "code",
      "source": [
        "#Display the data extracted from the Reviews.xml file\n",
        "print(root.tag,\"Id :\", root.attrib['id'])\n",
        "print(\"---------------------------------------------------------------------------------------------------------\")\n",
        "for key, val in restaurantDict.items():\n",
        "        if key == \"Reviews\":\n",
        "            print(key,\":\")\n",
        "            print(\"---------------------------------------------------------------------------------------------------------\\n\")\n",
        "            for reviews in val:\n",
        "                for keyR, valR in reviews.items():\n",
        "                    print(keyR,\":\",valR)\n",
        "                print(\"\\n-------------------------------------------------------------------------------------------------------\\n\")\n",
        "        else:\n",
        "            print(key,\":\", val)"
      ],
      "metadata": {
        "id": "9-1BPaQef3r9"
      },
      "execution_count": null,
      "outputs": []
    },
    {
      "cell_type": "markdown",
      "source": [
        "Given the following XML file.\n",
        "\n",
        "Read data from the file.\n",
        "\n",
        "Store data into a dataframe food_menu_df.\n",
        "\n",
        "Create columns name, price, description and calories and store their respective values from the file.\n",
        "\n",
        "Export the dataframe to the csv file Food Menu.csv.\n",
        "\n",
        "Download the XML file here."
      ],
      "metadata": {
        "id": "ZUKXLK32bHc6"
      }
    },
    {
      "cell_type": "code",
      "source": [
        "#Importing Data from XML file\n",
        "import xml.etree.ElementTree as ET\n",
        "tree = ET.parse('waffles.xml')\n",
        "root = tree.getroot()\n",
        "print(root.tag)"
      ],
      "metadata": {
        "id": "zWPzYmDBgUH_"
      },
      "execution_count": null,
      "outputs": []
    },
    {
      "cell_type": "code",
      "source": [
        "breakfastDict = {}\n",
        "foodList = []\n",
        "\n",
        "for elem in root:\n",
        "  foodDict = {}\n",
        "  \n",
        "  for subelem in elem:            \n",
        "      foodDict.update({subelem.tag:subelem.text})\n",
        "      \n",
        "  foodList.append(foodDict)\n",
        "  breakfastDict.update({elem.tag: foodList})\n",
        "\n",
        "for key, val in breakfastDict.items():\n",
        "  print(key,\":\", val)"
      ],
      "metadata": {
        "id": "lVt0yWtDwOj2"
      },
      "execution_count": null,
      "outputs": []
    },
    {
      "cell_type": "code",
      "source": [
        "print(root.tag)\n",
        "print('---------------------------------------------------------------------------------------------------------------------------------------------------------------\\n')\n",
        "\n",
        "for key, val in breakfastDict.items():\n",
        "    print(key, ':')\n",
        "    print('---------------------------------------------------------------------------------------------------------------------------------------------------------------\\n')\n",
        "\n",
        "    for i in val:\n",
        "      for entity, value in i.items():\n",
        "        print(entity, ':', value)\n",
        "    \n",
        "      print('')"
      ],
      "metadata": {
        "id": "6ZbHHgl30oo2"
      },
      "execution_count": null,
      "outputs": []
    },
    {
      "cell_type": "code",
      "source": [
        "food_df = pd.DataFrame(foodList)\n",
        "food_df.index += 1\n",
        "food_df = food_df.rename_axis('Serial no.')\n",
        "  \n",
        "# saving the dataframe\n",
        "food_df.to_csv('Food Menu.csv')"
      ],
      "metadata": {
        "id": "dDhW3TlsP-47"
      },
      "execution_count": null,
      "outputs": []
    },
    {
      "cell_type": "markdown",
      "source": [
        "Given the Air Passengers datasets perform the following operations. Download the Air passengers dataset here.\n",
        "\n",
        "(Data set in csv format can be downloaded from Data and Code used in the course section and use airpassengers.csv)\n",
        "\n",
        "Read the First six months of (Jan-Jun) data into the first_half_df dataframe.\n",
        "\n",
        "Read the next six months of data into the second_half_df dataframe.\n",
        "\n",
        "Create a new dataframe air_df from the dataframes first_half_df and second_half_df by inner join on their respective indices.\n",
        "\n",
        "Drop the columns key_0, Unnamed: 0_x, Unnamed: 0_y from the air_df dataframe.\n",
        "\n",
        "Fill any missing values with median strategy in the air_df.\n",
        "\n",
        "Create a column Year with values from 1949 to 1960 (both inclusive).\n",
        "\n",
        "Find if there is any column with the number of passengers in Jan are greater than the number of passengers in Dec. Return all such rows."
      ],
      "metadata": {
        "id": "O2Z1Qs4hEZRc"
      }
    },
    {
      "cell_type": "code",
      "source": [
        "import pandas as pd\n",
        "first_half_df = pd.read_csv('AirPassengers.csv', usecols=[0, 1, 2, 3, 4, 5])\n",
        "first_half_df"
      ],
      "metadata": {
        "id": "eyV3W9tsEgb3"
      },
      "execution_count": null,
      "outputs": []
    },
    {
      "cell_type": "code",
      "source": [
        "second_half_df = pd.read_csv('AirPassengers.csv', usecols=[6, 7, 8, 9, 10 ,11])\n",
        "second_half_df"
      ],
      "metadata": {
        "id": "DyaDJuTsGThv"
      },
      "execution_count": null,
      "outputs": []
    },
    {
      "cell_type": "code",
      "source": [
        "air_df = pd.read_csv('AirPassengers.csv')\n",
        "air_df"
      ],
      "metadata": {
        "id": "QJX5Ng-eHEJ4"
      },
      "execution_count": null,
      "outputs": []
    },
    {
      "cell_type": "code",
      "source": [
        "air_df[air_df.isna().any(axis=1)].index.tolist()"
      ],
      "metadata": {
        "id": "RCijrjQqIAgF"
      },
      "execution_count": null,
      "outputs": []
    },
    {
      "cell_type": "code",
      "source": [
        "air_df = air_df.fillna(air_df.median())\n",
        "air_df"
      ],
      "metadata": {
        "id": "pYfa1KGFkzgA"
      },
      "execution_count": null,
      "outputs": []
    },
    {
      "cell_type": "code",
      "source": [
        "air_df.loc[[0, 1, 2, 3, 5, 6, 9, 10]]"
      ],
      "metadata": {
        "id": "ARq-6dyATy7H"
      },
      "execution_count": null,
      "outputs": []
    },
    {
      "cell_type": "code",
      "source": [
        "air_df['Year'] = air_df.index + 1949\n",
        "air_df"
      ],
      "metadata": {
        "id": "d-CngpyGUNwt"
      },
      "execution_count": null,
      "outputs": []
    },
    {
      "cell_type": "code",
      "source": [
        "air_df.loc[air_df['Jan'] > air_df['Dec'], ['Jan', 'Dec', 'Year']]"
      ],
      "metadata": {
        "id": "XjonrfNEUjv2"
      },
      "execution_count": null,
      "outputs": []
    },
    {
      "cell_type": "code",
      "source": [
        "air_df[air_df['Jan'] > air_df['Dec']]"
      ],
      "metadata": {
        "id": "JK8UaZGmWoBg"
      },
      "execution_count": null,
      "outputs": []
    },
    {
      "cell_type": "code",
      "source": [
        "air_df = pd.read_csv('AirPassengersCompleted.csv')\n",
        "air_df.drop(['Unnamed: 0'], axis = 1, inplace = True)\n",
        "air_df"
      ],
      "metadata": {
        "id": "kQef3wlzTWbM"
      },
      "execution_count": null,
      "outputs": []
    },
    {
      "cell_type": "code",
      "source": [
        "air_df.to_csv('AirPassengersCompleted.csv')"
      ],
      "metadata": {
        "id": "qg3DMVdJSg9w"
      },
      "execution_count": null,
      "outputs": []
    },
    {
      "cell_type": "code",
      "source": [
        "# Setting up the partitions, length and width of the figure\n",
        "fig, ax = plt.subplots(3, 4)\n",
        "fig.set_figwidth(10)\n",
        "fig.set_figheight(7)\n",
        "#Accessing each partition[m][n] and providing the plot and its title\n",
        "ax[0][0].boxplot(air_df[\"Jan\"])\n",
        "ax[0][0].set_title('Jan')\n",
        "ax[0][1].boxplot(air_df[\"Feb\"])\n",
        "ax[0][1].set_title('Feb')\n",
        "ax[0][2].boxplot(air_df[\"Mar\"])\n",
        "ax[0][2].set_title('Mar')\n",
        "ax[0][3].boxplot(air_df[\"Apr\"])\n",
        "ax[0][3].set_title('Apr')\n",
        "ax[1][0].boxplot(air_df[\"May\"])\n",
        "ax[1][0].set_title('May')\n",
        "ax[1][1].boxplot(air_df[\"Jun\"])\n",
        "ax[1][1].set_title('Jun')\n",
        "ax[1][2].boxplot(air_df[\"Jul\"])\n",
        "ax[1][2].set_title('Jul')\n",
        "ax[1][3].boxplot(air_df[\"Aug\"])\n",
        "ax[1][3].set_title('Aug')\n",
        "ax[2][0].boxplot(air_df[\"Sep\"])\n",
        "ax[2][0].set_title('Sep')\n",
        "ax[2][1].boxplot(air_df[\"Oct\"])\n",
        "ax[2][1].set_title('Oct')\n",
        "ax[2][2].boxplot(air_df[\"Nov\"])\n",
        "ax[2][2].set_title('Nov')\n",
        "ax[2][3].boxplot(air_df[\"Dec\"])\n",
        "ax[2][3].set_title('Dec')\n",
        "plt.tight_layout()\n",
        "plt.show()"
      ],
      "metadata": {
        "id": "bXMHyIppVYN0"
      },
      "execution_count": null,
      "outputs": []
    },
    {
      "cell_type": "markdown",
      "source": [
        "Exploring and Summarizing Data - Exercise\n",
        "With the below data provided. Perform the following operations. Download the dataset here.\n",
        "\n",
        "(Data set in csv format can be downloaded from Data and Code used in the course section and use nhtemp.csv)\n",
        "\n",
        "Import the dataset into temp_df.\n",
        "\n",
        "Drop the unnamed column.\n",
        "\n",
        "Plot histogram of the temperature column and determine the range between which the frequency is highest.\n",
        "\n",
        "Are there any outliers? If so how many?\n",
        "\n",
        "Identify the five point summary using the above plot.\n",
        "\n",
        "Perform the same operations in matplotlib and seaborn as well and compare the difference in readability of the graphs."
      ],
      "metadata": {
        "id": "twvzhu0Zt6pD"
      }
    },
    {
      "cell_type": "code",
      "source": [
        "import pandas as pd\n",
        "temp_df = pd.read_csv('nhtemp.csv')\n",
        "temp_df.head()"
      ],
      "metadata": {
        "id": "mwsrJxKBuPFe"
      },
      "execution_count": null,
      "outputs": []
    },
    {
      "cell_type": "code",
      "source": [
        "temp_df = temp_df.drop(['Unnamed: 0'], axis = 1)\n",
        "temp_df.head()"
      ],
      "metadata": {
        "id": "fIlfMBEqvV0P"
      },
      "execution_count": null,
      "outputs": []
    },
    {
      "cell_type": "code",
      "source": [
        "import seaborn as sns\n",
        "import matplotlib.pyplot as plt\n",
        "sns.distplot(temp_df[\"nhtemp\"], kde = True)\n",
        "plt.title(\"Histogram of nhtemp\")\n",
        "plt.xlabel(\"nhtemp\")\n",
        "plt.ylabel(\"Frequency\")\n",
        "plt.show()"
      ],
      "metadata": {
        "id": "vMd6Barzv-jG"
      },
      "execution_count": null,
      "outputs": []
    },
    {
      "cell_type": "code",
      "source": [
        "sns.boxplot(y=temp_df.nhtemp)\n",
        "plt.title(\"Boxplot of nhtemp\")\n",
        "plt.show()"
      ],
      "metadata": {
        "id": "_mN4z53Iwcxa"
      },
      "execution_count": null,
      "outputs": []
    },
    {
      "cell_type": "code",
      "source": [
        "temp_df.nhtemp.describe()"
      ],
      "metadata": {
        "id": "wuTRktVmw0N4"
      },
      "execution_count": null,
      "outputs": []
    },
    {
      "cell_type": "markdown",
      "source": [
        "After analyzing the univariate data in exercise - 7. We find the relationship between different features. Perform the following tasks.\n",
        "\n",
        "Using pandas plotting method, plot a line chart with x-axis as year and y-axis as temperature.\n",
        "\n",
        "From the above plot determine the top 5 years where the temperature has been the highest.\n",
        "\n",
        "Plot a scatter plot with matplotlib with x-axis as time and y-axis as temperature. The plot must show:\n",
        "\n",
        "red circles for the temperature greater than 52\n",
        "\n",
        "green circles for temperature less than equal to 52 and greater than 49\n",
        "\n",
        "blue circles for temperature less than equal to 49\n",
        "\n",
        "Also plot a legend to mention each color plot\n",
        "\n",
        "(Note: All the points must be show in the same plot)"
      ],
      "metadata": {
        "id": "ac68_pV_Q4Ou"
      }
    },
    {
      "cell_type": "code",
      "source": [
        "sns.lineplot(x = 'time', y = 'nhtemp', data = temp_df)\n",
        "plt.xlabel('Year')\n",
        "plt.ylabel('Temperature')\n",
        "plt.title('Temperature vs Year')\n",
        "plt.show()"
      ],
      "metadata": {
        "id": "8ymRO3uJQ3Fo"
      },
      "execution_count": null,
      "outputs": []
    },
    {
      "cell_type": "code",
      "source": [
        "print(temp_df[\"nhtemp\"].nlargest(5).values)"
      ],
      "metadata": {
        "id": "ieKQ5imYSTiJ"
      },
      "execution_count": null,
      "outputs": []
    },
    {
      "cell_type": "code",
      "source": [
        "temp_df.describe()"
      ],
      "metadata": {
        "id": "iKwc2F-aUD2P"
      },
      "execution_count": null,
      "outputs": []
    },
    {
      "cell_type": "code",
      "source": [
        "temp_df.sort_values(by=['nhtemp'], ascending = False).loc[:,['time',\t'nhtemp']].head()"
      ],
      "metadata": {
        "id": "MouAdIJQUUEv"
      },
      "execution_count": null,
      "outputs": []
    },
    {
      "cell_type": "code",
      "source": [
        "sns.scatterplot(x = 'time', y = 'nhtemp', data = temp_df[temp_df['nhtemp'] > 52], color = 'red', label = 'greater than 52')\n",
        "sns.scatterplot(x = 'time', y = 'nhtemp', data = temp_df[(temp_df['nhtemp'] <= 52) & (temp_df['nhtemp'] > 49)], color = 'green', label = 'less than equal to 52 and greater than 49')\n",
        "sns.scatterplot(x = 'time', y = 'nhtemp', data = temp_df[temp_df['nhtemp'] <= 49], color = 'blue', label = 'less than equal to 49')\n",
        "plt.legend(loc='upper left')\n",
        "plt.xlabel('Year')\n",
        "plt.ylabel('Temperature')\n",
        "plt.title('Temperature vs Year')\n",
        "plt.show()"
      ],
      "metadata": {
        "id": "6y2zzRH0VblQ"
      },
      "execution_count": null,
      "outputs": []
    },
    {
      "cell_type": "markdown",
      "source": [
        "Develop Insights from data:-\n",
        "\n",
        "Download the car dataset from here and perform the following tasks.\n",
        "\n",
        "(Data set in csv format can be downloaded from Data and Code used in the course section and use car.csv)\n",
        "\n",
        "Draw Pair plot and find if any features are linearly related.\n",
        "\n",
        "What can you infer from the histogram in pair plot?\n",
        "\n",
        "Explore the linearly related features with a line plot and see if there is any trend in the relationship.\n",
        "\n",
        " "
      ],
      "metadata": {
        "id": "XsceX6BWMJHc"
      }
    },
    {
      "cell_type": "code",
      "source": [
        "car_df = pd.read_csv('car.csv')\n",
        "car_df.head()"
      ],
      "metadata": {
        "id": "HkW1KNLyMeOh"
      },
      "execution_count": null,
      "outputs": []
    },
    {
      "cell_type": "markdown",
      "source": [
        "Download the Air Passengers complete dataset here and perform the following tasks.\n",
        "\n",
        "Draw a box plot with all the years as x axis.\n",
        "\n",
        "Determine the year with the lowest 1st quartile.\n",
        "\n",
        "Determine the year with highest 3rd quartile.\n",
        "\n",
        "Is the median increasing with the increase in years?\n",
        "\n",
        "Draw line chart for all the years and months in the same plot. What do you infer from the graph? "
      ],
      "metadata": {
        "id": "oTlRUT4HOatl"
      }
    },
    {
      "cell_type": "code",
      "source": [
        "airc_df = pd.read_csv('AirPassengerscomplete.csv')\n",
        "airc_df.head()"
      ],
      "metadata": {
        "id": "X4d2NbO4O2ln"
      },
      "execution_count": null,
      "outputs": []
    },
    {
      "cell_type": "markdown",
      "source": [
        "###Capstone Project"
      ],
      "metadata": {
        "id": "4YYk03_gpUWK"
      }
    },
    {
      "cell_type": "markdown",
      "source": [
        "A company wants to study the demographic data to make predictions about the earning potential of the population. However, the data gathered is not clean for analysis.\n",
        "\n",
        "The company requests you, as a data scientist, to perform the following operations and gain some insights from the data for data driven competitive advantage.\n",
        "\n",
        "Remove data with missing values\n",
        "\n",
        "Remove outliers\n",
        "\n",
        "Establish the importance of the weekly working hours on earning potential\n",
        "\n",
        "Find the features that are highly correlated with the earning potential\n",
        "\n",
        "Find the relation between the number of years spent to get the degree and earning potential\n",
        "\n",
        "Find the relationship between age and earning potential\n",
        "\n",
        "Data Source\n",
        "\n",
        "The dataset for the problem is available here.\n",
        "\n",
        "Contents of the folder are as follows. \n",
        "\n",
        "Dataset\n",
        "\n",
        "Dataset Description"
      ],
      "metadata": {
        "id": "RFEVBWq5ppQv"
      }
    },
    {
      "cell_type": "code",
      "source": [
        "import pandas as pd\n",
        "adult_df = pd.read_csv('adult_data.csv')\n",
        "adult_df.columns = ['age', 'workclass', 'fnlwgt', 'education', 'education-num', 'marital-status', 'occupation', 'relationship', 'race', 'sex', 'capital-gain', 'capital-loss', 'hours-per-week', 'native-country', 'gross-income']\n",
        "adult_df.head()"
      ],
      "metadata": {
        "id": "_OG0AH7_po1S"
      },
      "execution_count": null,
      "outputs": []
    },
    {
      "cell_type": "code",
      "source": [
        "adult_df.tail(-10)"
      ],
      "metadata": {
        "id": "27dTOijo845I"
      },
      "execution_count": null,
      "outputs": []
    },
    {
      "cell_type": "code",
      "source": [
        "len(adult_df.isna().index.tolist())"
      ],
      "metadata": {
        "id": "CwRLGaDHtijp"
      },
      "execution_count": null,
      "outputs": []
    },
    {
      "cell_type": "code",
      "source": [
        "adult_df= adult_df.dropna(axis = 0, inplace = True)"
      ],
      "metadata": {
        "id": "jPJ78z_MuSIh"
      },
      "execution_count": null,
      "outputs": []
    },
    {
      "cell_type": "code",
      "source": [
        "adult_df"
      ],
      "metadata": {
        "id": "gso58TnY7wE8"
      },
      "execution_count": null,
      "outputs": []
    },
    {
      "cell_type": "markdown",
      "source": [
        "##Explore Machine Learning"
      ],
      "metadata": {
        "id": "lRgE_2MerwlO"
      }
    },
    {
      "cell_type": "markdown",
      "source": [
        "###Decision Tree"
      ],
      "metadata": {
        "id": "9DraJW86sXqh"
      }
    },
    {
      "cell_type": "code",
      "source": [
        "import pandas as pd\n",
        "\n",
        "bank_df = pd.read_csv('bank-additional-full.csv')\n",
        "bank_df.head()"
      ],
      "metadata": {
        "id": "__s6pEOPr4As"
      },
      "execution_count": null,
      "outputs": []
    },
    {
      "cell_type": "code",
      "source": [
        "# Selecting the predictor attributes\n",
        "X = bank_df.columns.drop([\"duration\", \"y\"])\n",
        "\n",
        "# Selecting  the target\n",
        "y = bank_df['y']\n",
        "\n",
        "print('X = ', X)\n",
        "print('y = ', y)"
      ],
      "metadata": {
        "id": "fQWEzkFKuKye"
      },
      "execution_count": null,
      "outputs": []
    },
    {
      "cell_type": "code",
      "source": [
        "# Encoding all the predictor variables to convert the categorical values to numerical values.\n",
        "bank_df_encoded = pd.get_dummies(bank_df[X])\n",
        "print(\"Total number of predictors after encoding = \", len(bank_df_encoded.columns))\n",
        "\n",
        "# Printing the list of columns after encoding to understand the encoding process\n",
        "print(bank_df_encoded.columns)\n",
        "bank_df_encoded"
      ],
      "metadata": {
        "id": "5jtFr43mvKV7"
      },
      "execution_count": null,
      "outputs": []
    },
    {
      "cell_type": "code",
      "source": [
        "# Import the required function\n",
        "from sklearn.model_selection import train_test_split\n",
        "\n",
        "#splitting data into train and test datasets\n",
        "X_train, X_test, y_train, y_test = train_test_split(bank_df_encoded, y, test_size = 0.2, random_state=100)\n",
        "\n",
        "# Printing the shape of the resulting datasets\n",
        "print(\"Shape of X_train and y_train are:\", X_train.shape, \"and\", y_train.shape, \" respectively\")\n",
        "print(\"Shape of X_test and y_test are:\", X_test.shape, \"and\", y_test.shape, \" respectively\")"
      ],
      "metadata": {
        "id": "rjsKpDjdwPBc"
      },
      "execution_count": null,
      "outputs": []
    },
    {
      "cell_type": "code",
      "source": [
        "# Importing required class \n",
        "from sklearn.tree import DecisionTreeClassifier\n",
        "\n",
        "# Creating an object of the DecisionTreeClassifier model\n",
        "model = DecisionTreeClassifier(random_state = 1)\n",
        "\n",
        "# Training model on the training data\n",
        "model.fit(X_train,y_train)"
      ],
      "metadata": {
        "id": "rguyAZ9_w3D6"
      },
      "execution_count": null,
      "outputs": []
    },
    {
      "cell_type": "code",
      "source": [
        "# Predicting target values using the model built on training data\n",
        "train_predictions = model.predict(X_train)\n",
        "test_predictions = model.predict(X_test)"
      ],
      "metadata": {
        "id": "LDQW-nq4xtGh"
      },
      "execution_count": null,
      "outputs": []
    },
    {
      "cell_type": "code",
      "source": [
        "# Importing the required libraries (Ensure that they are already installed.)\n",
        "from sklearn.tree import export_graphviz\n",
        "import graphviz\n",
        "\n",
        "# Generating the tree\n",
        "dot_data = export_graphviz(model, out_file= None,\n",
        "                          feature_names=bank_df_encoded.columns,  \n",
        "                          class_names=model.classes_,  \n",
        "                          ) \n",
        "graph = graphviz.Source(dot_data) \n",
        "graph"
      ],
      "metadata": {
        "id": "VhHV2lYSxyyD"
      },
      "execution_count": null,
      "outputs": []
    },
    {
      "cell_type": "code",
      "source": [
        "# Selecting the predictor attributes\n",
        "X = bank_df[['duration', 'age', 'campaign']]\n",
        "\n",
        "# Selecting  the target\n",
        "y = bank_df['y']\n",
        "\n",
        "print('X = ', X)\n",
        "print('y = ', y)\n",
        "\n",
        "# Import the required function\n",
        "from sklearn.model_selection import train_test_split\n",
        "\n",
        "#splitting data into train and test datasets\n",
        "X_train, X_test, y_train, y_test = train_test_split(bank_df_encoded, y, test_size = 0.2, random_state=100)\n",
        "\n",
        "# Printing the shape of the resulting datasets\n",
        "print(\"Shape of X_train and y_train are:\", X_train.shape, \"and\", y_train.shape, \" respectively\")\n",
        "print(\"Shape of X_test and y_test are:\", X_test.shape, \"and\", y_test.shape, \" respectively\")\n",
        "\n",
        "# Importing required class \n",
        "from sklearn.tree import DecisionTreeClassifier\n",
        "\n",
        "# Creating an object of the DecisionTreeClassifier model\n",
        "model = DecisionTreeClassifier(random_state = 1)\n",
        "\n",
        "# Training model on the training data\n",
        "model.fit(X_train,y_train)\n",
        "\n",
        "#Visualize with Plot_tree\n",
        "import matplotlib.pyplot as plt\n",
        "from sklearn import tree\n",
        "fig = plt.figure(figsize=(25,20))\n",
        "_ = tree.plot_tree(model, filled=True)\n",
        "plt.show()"
      ],
      "metadata": {
        "id": "50crr33jl6DS"
      },
      "execution_count": null,
      "outputs": []
    },
    {
      "cell_type": "code",
      "source": [
        "# Getting the accuracy on train data\n",
        "train_accuracy = model.score(X_train,y_train)\n",
        "print(\"Accuracy of the model on train data = \",train_accuracy)\n",
        "\n",
        "# Getting the accuracy on test data\n",
        "test_accuracy = model.score(X_test,y_test)\n",
        "print(\"Accuracy of the model on test data = \",test_accuracy)"
      ],
      "metadata": {
        "id": "Z0Tw677zzWwS"
      },
      "execution_count": null,
      "outputs": []
    },
    {
      "cell_type": "code",
      "source": [
        "from sklearn.metrics import confusion_matrix\n",
        "cm_train = confusion_matrix(y_train, train_predictions)\n",
        "pd.DataFrame(cm_train,columns=model.classes_,index=model.classes_)"
      ],
      "metadata": {
        "id": "ZDx4Wqvvz52B"
      },
      "execution_count": null,
      "outputs": []
    },
    {
      "cell_type": "code",
      "source": [
        "cm_test = confusion_matrix(y_test, test_predictions)\n",
        "pd.DataFrame(cm_test,columns=model.classes_,index=model.classes_)"
      ],
      "metadata": {
        "id": "MtfOqlGS0TT1"
      },
      "execution_count": null,
      "outputs": []
    },
    {
      "cell_type": "markdown",
      "source": [
        "###Logistic Regression\n"
      ],
      "metadata": {
        "id": "1zAOOP-Ch9ht"
      }
    },
    {
      "cell_type": "markdown",
      "source": [
        "Exercise 1"
      ],
      "metadata": {
        "id": "voFZpwCb4e5I"
      }
    },
    {
      "cell_type": "code",
      "source": [
        "import pandas as pd\n",
        "bank_df = pd.read_csv('bank-additional-full.csv')\n",
        "bank_df.head()"
      ],
      "metadata": {
        "id": "XN5xzN9fiATe"
      },
      "execution_count": null,
      "outputs": []
    },
    {
      "cell_type": "code",
      "source": [
        "# Selecting the predictor attributes\n",
        "X = bank_df[['duration', 'age', 'campaign']]\n",
        "\n",
        "# Selecting  the target\n",
        "y = bank_df['y']\n",
        "\n",
        "print('X = ', X)\n",
        "print('y = ', y)"
      ],
      "metadata": {
        "id": "0zJy-QJ_ioFO"
      },
      "execution_count": null,
      "outputs": []
    },
    {
      "cell_type": "code",
      "source": [
        "# Understanding the values(our target column in this analysis) can take\n",
        "display('Possible values of duration', bank_df['duration'].unique())\n",
        "display('Possible values of age', bank_df['age'].unique())\n",
        "display('Possible values of campaign', bank_df['campaign'].unique())\n",
        "display('Possible values of y', bank_df['y'].unique())"
      ],
      "metadata": {
        "id": "wDnyDYwotUkG"
      },
      "execution_count": null,
      "outputs": []
    },
    {
      "cell_type": "code",
      "source": [
        "# Importing the required library\n",
        "import matplotlib.pyplot as plt\n",
        "%matplotlib inline\n",
        "# Plotting the 'chd' values against 'age' values\n",
        "plt.scatter(\"duration\", \"y\", data = bank_df, label = \"duration vs. y\")\n",
        "#plt.scatter(\"age\", \"y\", data = bank_df, label = \"age vs. y\")\n",
        "#plt.scatter(\"campaign\", \"y\", data = bank_df, label = \"campaign vs. y\")\n",
        "plt.xlabel(\"Input\")\n",
        "plt.ylabel(\"Output\")\n",
        "plt.legend()\n",
        "plt.title(\"Input vs. Output\")\n",
        "plt.show()"
      ],
      "metadata": {
        "id": "f4BkEm_SjLTl"
      },
      "execution_count": null,
      "outputs": []
    },
    {
      "cell_type": "code",
      "source": [
        "# Import the required function\n",
        "from sklearn.model_selection import train_test_split\n",
        "\n",
        "#splitting data into train and test datasets\n",
        "X_train, X_test, y_train, y_test = train_test_split(X, y, test_size = 0.3, random_state = 100)\n",
        "\n",
        "# Printing the shape of the resulting datasets\n",
        "print(\"Shape of X_train and y_train are:\", X_train.shape, \"and\", y_train.shape, \" respectively\")\n",
        "print(\"Shape of X_test and y_test are:\", X_test.shape, \"and\", y_test.shape, \" respectively\")"
      ],
      "metadata": {
        "id": "CK7n8Ey6p062"
      },
      "execution_count": null,
      "outputs": []
    },
    {
      "cell_type": "code",
      "source": [
        "# Importing the required class\n",
        "from sklearn.linear_model import LogisticRegression\n",
        "\n",
        "# Creating the object of the class LogisticRegression\n",
        "model = LogisticRegression()\n",
        "\n",
        "# Training the model using the training data\n",
        "model.fit(X_train, y_train)\n",
        "\n",
        "# Getting the intercept and the coefficients of the model\n",
        "print(\"Intercept:\", model.intercept_, \"\\nCoefficients:\", model.coef_)"
      ],
      "metadata": {
        "id": "3d2ZqxImq10C"
      },
      "execution_count": null,
      "outputs": []
    },
    {
      "cell_type": "code",
      "source": [
        "# Creating a sample data\n",
        "import numpy as np\n",
        "test = np.array([15, 50, 11]).reshape(1,-1)\n",
        "\n",
        "# Predicting the probabilities for each of the class labels\n",
        "print(\"Predicted probability for class '0' and '1' respectively:\", model.predict_proba(test))\n",
        "\n",
        "# Predicting the final class label or target value\n",
        "print(\"\\nPredicted target i.e. 'chd' value:\", model.predict(test))"
      ],
      "metadata": {
        "id": "inOKtNhvrYGG"
      },
      "execution_count": null,
      "outputs": []
    },
    {
      "cell_type": "code",
      "source": [
        "print(\"Accuracy score of the model on training data:\", model.score(X_train, y_train))\n",
        "print(\"Accuracy score of the model on test data:\", model.score(X_test, y_test))"
      ],
      "metadata": {
        "id": "AswpBKbss3BT"
      },
      "execution_count": null,
      "outputs": []
    },
    {
      "cell_type": "code",
      "source": [
        "# Predicting targets based on the model built\n",
        "train_predictions = model.predict(X_train)\n",
        "test_predictions = model.predict(X_test)\n",
        "\n",
        "# Importing the required function\n",
        "from sklearn.metrics import confusion_matrix\n",
        "\n",
        "# Creating a confusion matrix on the training data\n",
        "train_conf_matrix = confusion_matrix(y_train, train_predictions)\n",
        "\n",
        "# Converting the train_conf_matrix into a DataFrame for better readability\n",
        "pd.DataFrame(train_conf_matrix, columns = model.classes_, index = model.classes_)"
      ],
      "metadata": {
        "id": "MeVQUhVXurXt"
      },
      "execution_count": null,
      "outputs": []
    },
    {
      "cell_type": "code",
      "source": [
        "# Confusion matrix for the test data\n",
        "test_conf_matrix = confusion_matrix(y_test, test_predictions)\n",
        "pd.DataFrame(test_conf_matrix, columns = model.classes_, index = model.classes_)"
      ],
      "metadata": {
        "id": "PDcIKj2VvJ2O"
      },
      "execution_count": null,
      "outputs": []
    },
    {
      "cell_type": "code",
      "source": [
        "# Calculating train accuracy from confusion matrix\n",
        "train_correct_predictions = train_conf_matrix[0][0] + train_conf_matrix[1][1]\n",
        "train_total_predictions = train_conf_matrix.sum()\n",
        "train_accuracy = train_correct_predictions/train_total_predictions\n",
        "print(train_accuracy)"
      ],
      "metadata": {
        "id": "55SsG4UhvU6l"
      },
      "execution_count": null,
      "outputs": []
    },
    {
      "cell_type": "code",
      "source": [
        "# Calculating test accuracy from confusion matrix\n",
        "test_correct_predictions = test_conf_matrix[0][0] + test_conf_matrix[1][1]\n",
        "total_predictions = test_conf_matrix.sum()\n",
        "test_accuracy = test_correct_predictions / total_predictions\n",
        "print(test_accuracy)"
      ],
      "metadata": {
        "id": "_AJ7awuivm9B"
      },
      "execution_count": null,
      "outputs": []
    },
    {
      "cell_type": "markdown",
      "source": [
        "Exercise 2"
      ],
      "metadata": {
        "id": "GNsaccP1FXpi"
      }
    },
    {
      "cell_type": "code",
      "source": [
        "import pandas as pd\n",
        "banknote = pd.read_csv('data_banknote_authentication.csv')\n",
        "banknote.head()"
      ],
      "metadata": {
        "id": "Yb-TMYCPFZZ2"
      },
      "execution_count": null,
      "outputs": []
    },
    {
      "cell_type": "code",
      "source": [
        "# Importing the required class\n",
        "from sklearn.model_selection import train_test_split\n",
        "\n",
        "X = banknote[['variance',\t'skewness',\t'curtosis',\t'entropy']] # X contains the predictor values or input data \n",
        "y = banknote['class'] # y contains the target labels\n",
        "\n",
        "# Spliting the data in training and test set in 70:30 ratio\n",
        "X_train, X_test, y_train, y_test = train_test_split(X, y, test_size=0.3, random_state=0)\n",
        "\n",
        "# Checking the shapes of the resulting datasets\n",
        "print(\"Shape of X_train:\", X_train.shape)\n",
        "print(\"Shape of y_train:\", y_train.shape)\n",
        "print(\"Shape of X_test:\", X_test.shape)\n",
        "print(\"Shape of y_test:\", y_test.shape)"
      ],
      "metadata": {
        "id": "C0-9aBIhFudV"
      },
      "execution_count": null,
      "outputs": []
    },
    {
      "cell_type": "code",
      "source": [
        "# Importing the required class\n",
        "from sklearn.linear_model import LogisticRegression\n",
        "\n",
        "# Creating the object of the class LogisticRegression\n",
        "model = LogisticRegression()\n",
        "\n",
        "# Training the model using the training data\n",
        "model.fit(X_train,y_train)\n",
        "\n",
        "# Getting the intercept and the coefficients of the model\n",
        "print(\"Intercept:\", model.intercept_, \"\\nCoefficients:\", model.coef_)"
      ],
      "metadata": {
        "id": "hNK0HVvLHUVP"
      },
      "execution_count": null,
      "outputs": []
    },
    {
      "cell_type": "code",
      "source": [
        "print(\"Accuracy score of the model on training data:\", model.score(X_train, y_train))\n",
        "print(\"Accuracy score of the model on test data:\", model.score(X_test, y_test))"
      ],
      "metadata": {
        "id": "CVKEoUz1Hn_c"
      },
      "execution_count": null,
      "outputs": []
    },
    {
      "cell_type": "code",
      "source": [
        "# Predicting targets based on the model built\n",
        "train_predictions = model.predict(X_train)\n",
        "test_predictions = model.predict(X_test)\n",
        "\n",
        "# Importing the required function\n",
        "from sklearn.metrics import confusion_matrix\n",
        "\n",
        "# Creating a confusion matrix on the training data\n",
        "train_conf_matrix = confusion_matrix(y_train,train_predictions)\n",
        "\n",
        "# Converting the train_conf_matrix into a DataFrame for better readability\n",
        "pd.DataFrame(train_conf_matrix,columns=model.classes_,index=model.classes_)"
      ],
      "metadata": {
        "id": "lD6QWBj1H1Ol"
      },
      "execution_count": null,
      "outputs": []
    },
    {
      "cell_type": "code",
      "source": [
        "# Confusion matrix for the test data\n",
        "test_conf_matrix = confusion_matrix(y_test,test_predictions)\n",
        "pd.DataFrame(test_conf_matrix,columns=model.classes_,index=model.classes_)"
      ],
      "metadata": {
        "id": "lAn2BrcxIE5T"
      },
      "execution_count": null,
      "outputs": []
    },
    {
      "cell_type": "code",
      "source": [
        "# Calculating train accuracy from confusion matrix\n",
        "train_correct_predictions = train_conf_matrix[0][0]+train_conf_matrix[1][1]\n",
        "train_total_predictions = train_conf_matrix.sum()\n",
        "train_accuracy = train_correct_predictions/train_total_predictions\n",
        "print(train_accuracy)"
      ],
      "metadata": {
        "id": "vqk2LA5dIRDo"
      },
      "execution_count": null,
      "outputs": []
    },
    {
      "cell_type": "code",
      "source": [
        "# Calculating test accuracy from confusion matrix\n",
        "test_correct_predictions = test_conf_matrix[0][0]+test_conf_matrix[1][1]\n",
        "total_predictions = test_conf_matrix.sum()\n",
        "test_accuracy = test_correct_predictions/total_predictions\n",
        "print(test_accuracy)"
      ],
      "metadata": {
        "id": "vppMmENcITWZ"
      },
      "execution_count": null,
      "outputs": []
    },
    {
      "cell_type": "code",
      "source": [
        "# Importing the required function\n",
        "from sklearn.metrics import classification_report\n",
        "\n",
        "# Generating the report and printing the same\n",
        "print(classification_report(y_test,test_predictions))"
      ],
      "metadata": {
        "id": "Wy1--itxIlwq"
      },
      "execution_count": null,
      "outputs": []
    },
    {
      "cell_type": "code",
      "source": [
        "precision_0 = test_conf_matrix[0][0] / (test_conf_matrix[0][0] + test_conf_matrix[1][0])\n",
        "print(round(precision_0, 2))\n",
        "precision_1 = test_conf_matrix[1][1] / (test_conf_matrix[1][1] + test_conf_matrix[0][1])\n",
        "print(round(precision_1, 2))\n",
        "recall_0 = test_conf_matrix[0][0] / (test_conf_matrix[0][0] + test_conf_matrix[0][1])\n",
        "print(round(recall_0, 2))\n",
        "recall_1 = test_conf_matrix[1][1] / (test_conf_matrix[1][0] + test_conf_matrix[1][1])\n",
        "print(round(recall_1, 2))\n",
        "f1_0 = 2 * ((precision_0 * recall_0) / (precision_0 + recall_0))\n",
        "print(round(f1_0, 2))\n",
        "f1_1 = 2 * ((precision_1 * recall_1) / (precision_1 + recall_1))\n",
        "print(round(f1_1, 2))"
      ],
      "metadata": {
        "id": "KMiaTwWiJU5H"
      },
      "execution_count": null,
      "outputs": []
    },
    {
      "cell_type": "code",
      "source": [
        "data = {'Precision': [precision_0, precision_1], 'Recall': [recall_0, recall_1], 'F1 score': [f1_0, f1_1]}\n",
        "pd.DataFrame(data).round(2)"
      ],
      "metadata": {
        "id": "0QSlrkecNEEw"
      },
      "execution_count": null,
      "outputs": []
    },
    {
      "cell_type": "markdown",
      "source": [
        "###K-Nearest Neighbor"
      ],
      "metadata": {
        "id": "mxFpDGGIxA5C"
      }
    },
    {
      "cell_type": "code",
      "source": [
        "import pandas as pd\n",
        "bank_df = pd.read_csv('bank-additional-full.csv')\n",
        "bank_df.head()"
      ],
      "metadata": {
        "id": "RrD5crh30Fh5"
      },
      "execution_count": null,
      "outputs": []
    },
    {
      "cell_type": "code",
      "source": [
        "#visualizing data using seaborn - pariplot\n",
        "import seaborn as sns\n",
        "sns.pairplot(bank_df, hue=\"y\", x_vars=\"duration\", y_vars=\"age\", height=4)"
      ],
      "metadata": {
        "id": "Ua8bEtX5vlQu"
      },
      "execution_count": null,
      "outputs": []
    },
    {
      "cell_type": "code",
      "source": [
        "import numpy as np\n",
        "\n",
        "# retrieving first data point from the dataset\n",
        "x1 = bank_df.loc[0, [\"duration\", \"age\"]]\n",
        "\n",
        "# retrieving second data point from the dataset\n",
        "x2 = bank_df.loc[1, [\"duration\", \"age\"]]\n",
        "\n",
        "# Euclidean distance between first and second data point\n",
        "np.linalg.norm(x1 - x2)\n",
        "#output"
      ],
      "metadata": {
        "id": "oH0z3HpKwZG9"
      },
      "execution_count": null,
      "outputs": []
    },
    {
      "cell_type": "code",
      "source": [
        "from sklearn.preprocessing import MinMaxScaler\n",
        "\n",
        "#applying MinMaxScaler to the default dataset\n",
        "scaler = MinMaxScaler()\n",
        "features_to_scale = [\"duration\", \"age\"]\n",
        "scaled_values = scaler.fit_transform(bank_df[features_to_scale])\n",
        "bank_df[\"norm_duration\"] = scaled_values[:,0]\n",
        "bank_df[\"norm_age\"] = scaled_values[:,1]\n",
        "bank_df.head()"
      ],
      "metadata": {
        "id": "ntYwIDAQ3c-8"
      },
      "execution_count": null,
      "outputs": []
    },
    {
      "cell_type": "code",
      "source": [
        "#distance between two normalized data points\n",
        "x1_n = bank_df.loc[0, [\"norm_duration\",\t\"norm_age\"]]\n",
        "x2_n = bank_df.loc[1, [\"norm_duration\",\t\"norm_age\"]]\n",
        "np.linalg.norm(x1_n-x2_n)\n",
        "#output"
      ],
      "metadata": {
        "id": "r8MaiepnxQTH"
      },
      "execution_count": null,
      "outputs": []
    },
    {
      "cell_type": "code",
      "source": [
        "# Lambda function to calculate Euclidean distance\n",
        "x11 = bank_df.loc[10, [\"norm_duration\",\t\"norm_age\"]]\n",
        "dist_to_X11 = lambda x: np.linalg.norm(x - x11)\n",
        "\n",
        "# calculating Euclidean Distance\n",
        "bank_df[\"dist_toX11\"] = bank_df[[\"norm_duration\",\t\"norm_age\"]].apply(dist_to_X11,axis=1)\n",
        "\n",
        "# sorting the datapoints based on distance to find the 'k' nearest neighbors\n",
        "bank_df.sort_values(\"dist_toX11\")"
      ],
      "metadata": {
        "id": "OBINYAKBxzBG"
      },
      "execution_count": null,
      "outputs": []
    },
    {
      "cell_type": "code",
      "source": [
        "from sklearn.model_selection import train_test_split\n",
        "\n",
        "# selecting the predictors and target\n",
        "X = bank_df[['norm_duration','norm_age']]\n",
        "Y = bank_df['y']\n",
        "\n",
        "# splitting data into train and test data set\n",
        "X_train, X_test, Y_train, Y_test = train_test_split(X, Y, test_size = 0.4, random_state=100)\n",
        "\n",
        "# Checking the shapes of the resulting datasets\n",
        "print(\"Shape of X_train:\", X_train.shape)\n",
        "print(\"Shape of y_train:\", Y_train.shape)\n",
        "print(\"Shape of X_test:\", X_test.shape)\n",
        "print(\"Shape of y_test:\", Y_test.shape)"
      ],
      "metadata": {
        "id": "8iyTOv8p4Bfq"
      },
      "execution_count": null,
      "outputs": []
    },
    {
      "cell_type": "code",
      "source": [
        "from sklearn.neighbors import KNeighborsClassifier\n",
        "\n",
        "#kNN with k=3\n",
        "model = KNeighborsClassifier(n_neighbors = 3, metric = \"euclidean\")\n",
        "model.fit(X_train, Y_train)"
      ],
      "metadata": {
        "id": "KRsLF9Ov53GO"
      },
      "execution_count": null,
      "outputs": []
    },
    {
      "cell_type": "code",
      "source": [
        "train_accuracy = model.score(X_train,Y_train)\n",
        "test_accuracy = model.score(X_test,Y_test)\n",
        "print(train_accuracy,test_accuracy)"
      ],
      "metadata": {
        "id": "TDcK2p7v5_At"
      },
      "execution_count": null,
      "outputs": []
    },
    {
      "cell_type": "code",
      "source": [
        "train_accuracies = []\n",
        "test_accuracies = []\n",
        "\n",
        "# building KNN model for values of k from 1 to 10\n",
        "k_vals = [i for i in range(1,20)]\n",
        "features = ['norm_duration','norm_age']\n",
        "target = \"y\"\n",
        "\n",
        "for k in k_vals:\n",
        "    model = KNeighborsClassifier(n_neighbors = k, metric='euclidean')\n",
        "    model.fit(X_train, Y_train)\n",
        "    train_accuracy_k = model.score(X_train, Y_train)\n",
        "    test_accuracy_k = model.score(X_test, Y_test)\n",
        "    train_accuracies.append(train_accuracy_k)\n",
        "    test_accuracies.append(test_accuracy_k)\n",
        "\n",
        "print('Training performance')\n",
        "for k in k_vals:\n",
        "    print(k, train_accuracies[k - 1])\n",
        "\n",
        "print('------------------------')\n",
        "print('Test performance')\n",
        "for k in k_vals:\n",
        "    print(k, test_accuracies[k - 1])"
      ],
      "metadata": {
        "id": "_Hw47sse6LOu"
      },
      "execution_count": null,
      "outputs": []
    },
    {
      "cell_type": "code",
      "source": [
        "import matplotlib.pyplot as plt\n",
        "plt.plot(k_vals, train_accuracies)\n",
        "plt.plot(k_vals, test_accuracies)\n",
        "plt.show()"
      ],
      "metadata": {
        "id": "gQwuTmJkzIjy"
      },
      "execution_count": null,
      "outputs": []
    },
    {
      "cell_type": "markdown",
      "source": [
        "###SVM Classifier"
      ],
      "metadata": {
        "id": "HwzP3JDb6Tkf"
      }
    },
    {
      "cell_type": "code",
      "source": [
        "#reading input from csv file\n",
        "import pandas as pd\n",
        "iris_data = pd.read_csv(\"iris.csv\")\n",
        "iris_data.head()"
      ],
      "metadata": {
        "id": "0gVOOkFX6YHU"
      },
      "execution_count": null,
      "outputs": []
    },
    {
      "cell_type": "code",
      "source": [
        "#creating new column 'v_nv', to distinguish versicolor species from rest\n",
        "#the below lambda function returns 0 for 'versicolor' species and returns 1 for rest.\n",
        "v_nv_fn = lambda x: 0 if x==\"versicolor\" else 1\n",
        "\n",
        "# new column added into dataframe\n",
        "iris_data[\"v_nv\"] = iris_data[\"Species\"].apply(v_nv_fn)\n",
        "iris_data[iris_data['v_nv']==0].head()"
      ],
      "metadata": {
        "id": "OqS1uLGD6z0Y"
      },
      "execution_count": null,
      "outputs": []
    },
    {
      "cell_type": "code",
      "source": [
        "#visualization using seaborn - pairplot\n",
        "import seaborn as sns\n",
        "sns.pairplot(iris_data, x_vars = \"Petal.Length\", y_vars=\"Petal.Width\", hue=\"v_nv\", height=5)"
      ],
      "metadata": {
        "id": "lzgIvDtb68SA"
      },
      "execution_count": null,
      "outputs": []
    },
    {
      "cell_type": "code",
      "source": [
        "#Support Vector Classification\n",
        "from sklearn.svm import SVC\n",
        "#setting predictors and target\n",
        "X = iris_data[[\"Petal.Length\",\"Petal.Width\"]]\n",
        "Y = iris_data[\"v_nv\"]\n",
        "# model building\n",
        "model = SVC()\n",
        "model.fit(X,Y)\n",
        "model.score(X,Y)"
      ],
      "metadata": {
        "id": "KvYiL94R7R3A"
      },
      "execution_count": null,
      "outputs": []
    },
    {
      "cell_type": "code",
      "source": [
        "from mlxtend.plotting import plot_decision_regions\n",
        "features = np.array(X)\n",
        "target = np.array(Y).ravel()\n",
        "plot_decision_regions(features, target, clf = model)\n",
        "plt.xlabel(\"Petal length\")\n",
        "plt.ylabel(\"Petal width\")\n",
        "plt.title('Decision boundary of SVM on iris data')\n",
        "plt.show()"
      ],
      "metadata": {
        "id": "VBJX4e5Q7jg0"
      },
      "execution_count": null,
      "outputs": []
    },
    {
      "cell_type": "code",
      "source": [
        "# encoding the species column\n",
        "iris_data.loc[iris_data.Species==\"setosa\",\"Species\"] = 0\n",
        "iris_data.loc[iris_data.Species==\"versicolor\",\"Species\"] = 1\n",
        "iris_data.loc[iris_data.Species==\"virginica\",\"Species\"] = 2\n",
        "\n",
        "#data type (dtype) of the column will be converted to 'category'\n",
        "iris_data.Species = iris_data.Species.astype(\"category\")\n",
        "\n",
        "#https://pandas.pydata.org/pandas-docs/stable/user_guide/categorical.html\n",
        "iris_data.head()"
      ],
      "metadata": {
        "id": "7pVHHPYC8Wfd"
      },
      "execution_count": null,
      "outputs": []
    },
    {
      "cell_type": "code",
      "source": [
        "X = iris_data[[\"Petal.Length\",\"Petal.Width\"]]\n",
        "Y = iris_data[\"Species\"]\n",
        "model = SVC()\n",
        "model.fit(X,Y)"
      ],
      "metadata": {
        "id": "gvrvcLra81NL"
      },
      "execution_count": null,
      "outputs": []
    },
    {
      "cell_type": "code",
      "source": [
        "from mlxtend.plotting import plot_decision_regions\n",
        "features = np.array(X)\n",
        "target = np.array(Y)\n",
        "plot_decision_regions(features,target,clf=model)\n",
        "plt.xlabel(\"Petal length\")\n",
        "plt.ylabel(\"Petal width\")\n",
        "plt.title('Multiclass classification on iris using SVM')"
      ],
      "metadata": {
        "id": "K7FnDNhy87uV"
      },
      "execution_count": null,
      "outputs": []
    },
    {
      "cell_type": "markdown",
      "source": [
        "###Cross Validation"
      ],
      "metadata": {
        "id": "FH2KV6vERLaP"
      }
    },
    {
      "cell_type": "code",
      "source": [
        "import pandas as pd\n",
        "bank_df = pd.read_csv('bank-additional-full.csv')\n",
        "bank_df.head()"
      ],
      "metadata": {
        "id": "N4p2SxoCSO7X"
      },
      "execution_count": null,
      "outputs": []
    },
    {
      "cell_type": "code",
      "source": [
        "#visualizing data using seaborn - pairplot\n",
        "import seaborn as sns\n",
        "sns.pairplot(bank_df, hue = \"y\", x_vars = \"duration\", y_vars = \"age\", height = 4)"
      ],
      "metadata": {
        "id": "l__doKTDSO7Y"
      },
      "execution_count": null,
      "outputs": []
    },
    {
      "cell_type": "code",
      "source": [
        "import numpy as np\n",
        "\n",
        "# retrieving first data point from the dataset\n",
        "x1 = bank_df.loc[0, [\"duration\", \"age\"]]\n",
        "\n",
        "# retrieving second data point from the dataset\n",
        "x2 = bank_df.loc[1, [\"duration\", \"age\"]]\n",
        "\n",
        "# Euclidean distance between first and second data point\n",
        "np.linalg.norm(x1 - x2)\n",
        "#output"
      ],
      "metadata": {
        "id": "h445XpyCSO7Z"
      },
      "execution_count": null,
      "outputs": []
    },
    {
      "cell_type": "code",
      "source": [
        "from sklearn.preprocessing import MinMaxScaler\n",
        "\n",
        "#applying MinMaxScaler to the default dataset\n",
        "scaler = MinMaxScaler()\n",
        "features_to_scale = [\"duration\", \"age\"]\n",
        "scaled_values = scaler.fit_transform(bank_df[features_to_scale])\n",
        "bank_df[\"norm_duration\"] = scaled_values[:,0]\n",
        "bank_df[\"norm_age\"] = scaled_values[:,1]\n",
        "bank_df.head()"
      ],
      "metadata": {
        "id": "dzzMn20QSO7a"
      },
      "execution_count": null,
      "outputs": []
    },
    {
      "cell_type": "code",
      "source": [
        "#distance between two normalized data points\n",
        "x1_n = bank_df.loc[0, [\"norm_duration\",\t\"norm_age\"]]\n",
        "x2_n = bank_df.loc[1, [\"norm_duration\",\t\"norm_age\"]]\n",
        "np.linalg.norm(x1_n-x2_n)\n",
        "#output"
      ],
      "metadata": {
        "id": "GLs8PXRaSO7a"
      },
      "execution_count": null,
      "outputs": []
    },
    {
      "cell_type": "code",
      "source": [
        "# Lambda function to calculate Euclidean distance\n",
        "x11 = bank_df.loc[10, [\"norm_duration\",\t\"norm_age\"]]\n",
        "dist_to_X11 = lambda x: np.linalg.norm(x - x11)\n",
        "\n",
        "# calculating Euclidean Distance\n",
        "bank_df[\"dist_toX11\"] = bank_df[[\"norm_duration\",\t\"norm_age\"]].apply(dist_to_X11,axis=1)\n",
        "\n",
        "# sorting the datapoints based on distance to find the 'k' nearest neighbors\n",
        "bank_df.sort_values(\"dist_toX11\")"
      ],
      "metadata": {
        "id": "J3Knd5EmSO7b"
      },
      "execution_count": null,
      "outputs": []
    },
    {
      "cell_type": "code",
      "source": [
        "from sklearn.model_selection import train_test_split\n",
        "\n",
        "# selecting the predictors and target\n",
        "X = bank_df[['norm_duration','norm_age']]\n",
        "Y = bank_df['y']\n",
        "\n",
        "# splitting data into train and test data set\n",
        "X_train, X_test, Y_train, Y_test = train_test_split(X, Y, test_size = 0.4, random_state=100)\n",
        "\n",
        "# Checking the shapes of the resulting datasets\n",
        "print(\"Shape of X_train:\", X_train.shape)\n",
        "print(\"Shape of y_train:\", Y_train.shape)\n",
        "print(\"Shape of X_test:\", X_test.shape)\n",
        "print(\"Shape of y_test:\", Y_test.shape)"
      ],
      "metadata": {
        "id": "YWGtrLY4SO7c"
      },
      "execution_count": null,
      "outputs": []
    },
    {
      "cell_type": "code",
      "source": [
        "from sklearn.neighbors import KNeighborsClassifier\n",
        "from sklearn.model_selection import GridSearchCV\n",
        "\n",
        "#create new a knn model\n",
        "knn = KNeighborsClassifier()\n",
        "\n",
        "#create a dictionary of all k neighbor values\n",
        "param_grid = {'n_neighbors': np.arange(1, 15,2)}\n",
        "\n",
        "'''using GridSearchCV to perform k-fold validation'''\n",
        "knn_gscv = GridSearchCV(knn, param_grid,return_train_score=True, verbose=1,scoring='accuracy')\n",
        "\n",
        "#fit model to data\n",
        "knn_gscv.fit(X_train,Y_train)\n",
        "\n",
        "#storing results to dataframe\n",
        "print(knn_gscv.cv_results_)"
      ],
      "metadata": {
        "id": "25CbZcgGSO7d"
      },
      "execution_count": null,
      "outputs": []
    },
    {
      "cell_type": "code",
      "source": [
        "df=pd.DataFrame(knn_gscv.cv_results_)\n",
        "\n",
        "#filtering out columns\n",
        "df=df[['param_n_neighbors','mean_train_score','mean_test_score']]\n",
        "df"
      ],
      "metadata": {
        "id": "HnkUkUtwUDkq"
      },
      "execution_count": null,
      "outputs": []
    },
    {
      "cell_type": "code",
      "source": [
        "model = KNeighborsClassifier(n_neighbors = 7, metric=\"euclidean\")\n",
        "model.fit(X_train,Y_train)\n",
        "train_accuracy = model.score(X_train,Y_train)\n",
        "test_accuracy = model.score(X_test,Y_test)\n",
        "print(train_accuracy,test_accuracy)"
      ],
      "metadata": {
        "id": "a-UgrENnSO7d"
      },
      "execution_count": null,
      "outputs": []
    },
    {
      "cell_type": "markdown",
      "source": [
        "###RandomForest"
      ],
      "metadata": {
        "id": "0jCgC3CIRu1z"
      }
    },
    {
      "cell_type": "code",
      "source": [
        "import pandas as pd\n",
        "banknote = pd.read_csv('data_banknote_authentication.csv')\n",
        "banknote.head()"
      ],
      "metadata": {
        "id": "lrk2XyqsWyFl"
      },
      "execution_count": null,
      "outputs": []
    },
    {
      "cell_type": "code",
      "source": [
        "#visualizing data using seaborn - pairplot\n",
        "import seaborn as sns\n",
        "sns.pairplot(banknote, hue = \"class\", x_vars = \"skewness\", y_vars = \"curtosis\", height = 4)"
      ],
      "metadata": {
        "id": "Mkipo84sOqYQ"
      },
      "execution_count": null,
      "outputs": []
    },
    {
      "cell_type": "code",
      "source": [
        "import seaborn as sns\n",
        "sns.scatterplot(data = banknote, x = \"skewness\", y = \"curtosis\")"
      ],
      "metadata": {
        "id": "bHy8KlycPG0A"
      },
      "execution_count": null,
      "outputs": []
    },
    {
      "cell_type": "code",
      "source": [
        "from sklearn.model_selection import train_test_split\n",
        "\n",
        "# selecting the predictors and target\n",
        "X = banknote[['variance',\t'skewness',\t'curtosis',\t'entropy']]\n",
        "Y = banknote['class']\n",
        "\n",
        "# splitting data into train and test data set\n",
        "X_train, X_test, Y_train, Y_test = train_test_split(X, Y, test_size = 0.4, random_state=100)\n",
        "\n",
        "# Checking the shapes of the resulting datasets\n",
        "print(\"Shape of X_train:\", X_train.shape)\n",
        "print(\"Shape of y_train:\", Y_train.shape)\n",
        "print(\"Shape of X_test:\", X_test.shape)\n",
        "print(\"Shape of y_test:\", Y_test.shape)"
      ],
      "metadata": {
        "id": "4uiik0ayOqYV"
      },
      "execution_count": null,
      "outputs": []
    },
    {
      "cell_type": "code",
      "source": [
        "from sklearn.ensemble import RandomForestClassifier\n",
        "\n",
        "# building model with RandomforestClassifier with 10 underlying Decision tree models/ estimators\n",
        "model = RandomForestClassifier(n_estimators=10,\n",
        "                               min_samples_split=20,\n",
        "                               min_impurity_decrease=0.05)\n",
        "model.fit(X_train,Y_train)\n",
        "\n",
        "# Evaluate the model performance\n",
        "train_accuracy = model.score(X_train,Y_train)\n",
        "test_accuracy = model.score(X_test,Y_test)\n",
        "print(train_accuracy,test_accuracy)"
      ],
      "metadata": {
        "id": "lA_Eqwx6OqYW"
      },
      "execution_count": null,
      "outputs": []
    },
    {
      "cell_type": "code",
      "source": [
        "import numpy as np\n",
        "feature_imps = pd.DataFrame(np.array([['variance',\t'skewness',\t'curtosis',\t'entropy'],\n",
        "                                      model.feature_importances_]).T,\n",
        "                            columns=[\"feature\",\"importance\"])\n",
        "feature_imps.sort_values(by=\"importance\",ascending=False)"
      ],
      "metadata": {
        "id": "1gpP832uSNig"
      },
      "execution_count": null,
      "outputs": []
    },
    {
      "cell_type": "markdown",
      "source": [
        "Since entropy is not important lets perform analysis again without it"
      ],
      "metadata": {
        "id": "glwotGrHSxDn"
      }
    },
    {
      "cell_type": "code",
      "source": [
        "from sklearn.model_selection import train_test_split\n",
        "\n",
        "# selecting the predictors and target\n",
        "X = banknote[['variance',\t'skewness',\t'curtosis']]\n",
        "Y = banknote['class']\n",
        "\n",
        "# splitting data into train and test data set\n",
        "X_train, X_test, Y_train, Y_test = train_test_split(X, Y, test_size = 0.4, random_state=100)\n",
        "\n",
        "# Checking the shapes of the resulting datasets\n",
        "print(\"Shape of X_train:\", X_train.shape)\n",
        "print(\"Shape of y_train:\", Y_train.shape)\n",
        "print(\"Shape of X_test:\", X_test.shape)\n",
        "print(\"Shape of y_test:\", Y_test.shape)"
      ],
      "metadata": {
        "id": "KHdMt5BdSv1I"
      },
      "execution_count": null,
      "outputs": []
    },
    {
      "cell_type": "code",
      "source": [
        "from sklearn.ensemble import RandomForestClassifier\n",
        "\n",
        "# building model with RandomforestClassifier with 10 underlying Decision tree models/ estimators\n",
        "model = RandomForestClassifier(n_estimators=10,\n",
        "                               min_samples_split=20,\n",
        "                               min_impurity_decrease=0.05)\n",
        "model.fit(X_train,Y_train)\n",
        "\n",
        "# Evaluate the model performance\n",
        "train_accuracy = model.score(X_train,Y_train)\n",
        "test_accuracy = model.score(X_test,Y_test)\n",
        "print(train_accuracy,test_accuracy)"
      ],
      "metadata": {
        "id": "kFA3-dY5TFtT"
      },
      "execution_count": null,
      "outputs": []
    },
    {
      "cell_type": "code",
      "source": [
        "import numpy as np\n",
        "feature_imps = pd.DataFrame(np.array([['variance',\t'skewness',\t'curtosis'],\n",
        "                                      model.feature_importances_]).T,\n",
        "                            columns=[\"feature\",\"importance\"])\n",
        "feature_imps.sort_values(by=\"importance\",ascending=False)"
      ],
      "metadata": {
        "id": "_PHcw7ApTSaI"
      },
      "execution_count": null,
      "outputs": []
    },
    {
      "cell_type": "markdown",
      "source": [
        "###AdaBoost"
      ],
      "metadata": {
        "id": "2buNQXy-RqeR"
      }
    },
    {
      "cell_type": "code",
      "source": [
        "from sklearn.model_selection import train_test_split\n",
        "\n",
        "# selecting the predictors and target\n",
        "X = banknote[['variance',\t'skewness',\t'curtosis', 'entropy']]\n",
        "Y = banknote['class']\n",
        "\n",
        "# splitting data into train and test data set\n",
        "X_train, X_test, Y_train, Y_test = train_test_split(X, Y, test_size = 0.4, random_state=100)\n",
        "\n",
        "# Checking the shapes of the resulting datasets\n",
        "print(\"Shape of X_train:\", X_train.shape)\n",
        "print(\"Shape of y_train:\", Y_train.shape)\n",
        "print(\"Shape of X_test:\", X_test.shape)\n",
        "print(\"Shape of y_test:\", Y_test.shape)"
      ],
      "metadata": {
        "id": "-1MEzvBTUdS3"
      },
      "execution_count": null,
      "outputs": []
    },
    {
      "cell_type": "code",
      "source": [
        "from sklearn.tree import DecisionTreeClassifier\n",
        "from sklearn.ensemble import AdaBoostClassifier\n",
        "\n",
        "#building AdaBoostClassifier with 10 models, also called as estimators.\n",
        "model = AdaBoostClassifier(n_estimators=10)\n",
        "model.fit(X_train,Y_train)\n",
        "\n",
        "# Evaluating the model performance\n",
        "train_accuracy = model.score(X_train,Y_train)\n",
        "test_accuracy = model.score(X_test,Y_test)\n",
        "print(train_accuracy,test_accuracy)"
      ],
      "metadata": {
        "id": "x7yoai8bWzaS"
      },
      "execution_count": null,
      "outputs": []
    },
    {
      "cell_type": "code",
      "source": [
        "import numpy as np\n",
        "feature_imps = pd.DataFrame(np.array([['variance',\t'skewness',\t'curtosis',\t'entropy'],\n",
        "                                      model.feature_importances_]).T,\n",
        "                            columns=[\"feature\",\"importance\"])\n",
        "feature_imps.sort_values(by=\"importance\", ascending=False)"
      ],
      "metadata": {
        "id": "w298c43qUueR"
      },
      "execution_count": null,
      "outputs": []
    },
    {
      "cell_type": "markdown",
      "source": [
        "###Simple Linear Regression"
      ],
      "metadata": {
        "id": "HMrOaYhwXtW5"
      }
    },
    {
      "cell_type": "code",
      "source": [
        "import pandas as pd\n",
        "housing_df = pd.read_csv('boston_housing.csv')\n",
        "housing_df.head()"
      ],
      "metadata": {
        "id": "zFX_NSHAXs8I"
      },
      "execution_count": null,
      "outputs": []
    },
    {
      "cell_type": "code",
      "source": [
        "# Setting the 'Units' column as the input data or predictor column\n",
        "X = housing_df[['RM']]\n",
        "\n",
        "# Setting the 'Minutes' column as the output data or target column\n",
        "y=housing_df['MEDV']\n",
        "\n",
        "# Importing the required class\n",
        "from sklearn.linear_model import LinearRegression\n",
        "\n",
        "# Creating a linear regression model\n",
        "model = LinearRegression()\n",
        "\n",
        "# Fitting the model to the data i.e. building the model\n",
        "model.fit(X, y)\n",
        "\n",
        "# Fetching intercept and coefficient\n",
        "print(\"Intercept:\", model.intercept_)\n",
        "print(\"Coefficients:\",model.coef_)\n",
        "print('Datatype of X', type(X))\n",
        "print('Datatype of y', type(y))"
      ],
      "metadata": {
        "id": "SAf0jBkpZS26"
      },
      "execution_count": null,
      "outputs": []
    },
    {
      "cell_type": "code",
      "source": [
        "X = housing_df.RM\n",
        "y = housing_df.MEDV\n",
        "xiyi = X * y\n",
        "n = len(housing_df)\n",
        "xmean = housing_df.RM.mean()\n",
        "ymean = housing_df.MEDV.mean()\n",
        "numerator = xiyi.sum() - n * xmean * ymean\n",
        "denominator = (X**2).sum() - n * (xmean**2)\n",
        "m = numerator / denominator\n",
        "c = ymean - (m * xmean)\n",
        "print('intercept : ', c, ' coefficient : ', m)\n",
        "print('Datatype of X', type(X))\n",
        "print('Datatype of y', type(y))"
      ],
      "metadata": {
        "id": "YXkLdv3mhzqv"
      },
      "execution_count": null,
      "outputs": []
    },
    {
      "cell_type": "code",
      "source": [
        "# Estimating time using the intercept and the coefficient of the best fit model\n",
        "min_best_fit_model = c + m * housing_df.RM\n",
        "\n",
        "# Adding the predicted values to the dataset\n",
        "housing_df['min_best_fit_model'] = min_best_fit_model\n",
        "\n",
        "# Printing the values predicted by the best fit model\n",
        "housing_df[[\"RM\", \"MEDV\", \"min_best_fit_model\"]]"
      ],
      "metadata": {
        "id": "0QvhY1mVjmjA"
      },
      "execution_count": null,
      "outputs": []
    },
    {
      "cell_type": "code",
      "source": [
        "import matplotlib.pyplot as plt\n",
        "fig,ax = plt.subplots()\n",
        "\n",
        "# Plotting the actual target values\n",
        "ax.scatter(x = \"RM\", y = \"MEDV\", data = housing_df)\n",
        "\n",
        "# Plotting the target values predicted by the best fit model\n",
        "ax.set_ylabel(\"MEDV\")\n",
        "ax.set_xlabel(\"RM\")\n",
        "ax.set_title(\"Best fit model line\")\n",
        "ax.plot(housing_df.RM, housing_df.min_best_fit_model, color = \"red\")"
      ],
      "metadata": {
        "id": "EQ94iV2Valwf"
      },
      "execution_count": null,
      "outputs": []
    },
    {
      "cell_type": "code",
      "source": [
        "# Computing the individual errors for the best fit model\n",
        "pd.DataFrame({\"RM\": housing_df.RM,\n",
        "              \"Actual MEDV\": housing_df.MEDV,\n",
        "              \"Predicted MEDV\": housing_df.min_best_fit_model,\n",
        "              \"Error\": housing_df.min_best_fit_model - housing_df.MEDV})"
      ],
      "metadata": {
        "id": "6HWqLQm6kVnd"
      },
      "execution_count": null,
      "outputs": []
    },
    {
      "cell_type": "code",
      "source": [
        "# Evaluate the performance of the model\n",
        "from sklearn import metrics\n",
        "mse = metrics.mean_squared_error(housing_df.MEDV, housing_df.min_best_fit_model)\n",
        "import numpy as np\n",
        "rmse = np.sqrt(mse)\n",
        "print(\"Root Mean Squared Error: \",rmse)\n",
        "r2 = metrics.r2_score(housing_df.MEDV, housing_df.min_best_fit_model)\n",
        "print(\"R Squared value: \", r2)"
      ],
      "metadata": {
        "id": "ybQovw7RlKBp"
      },
      "execution_count": null,
      "outputs": []
    },
    {
      "cell_type": "markdown",
      "source": [
        "##Regression Analysis\n"
      ],
      "metadata": {
        "id": "WRXzFUDIikUG"
      }
    },
    {
      "cell_type": "markdown",
      "source": [
        "###Simple Linear Regression\n",
        "\n",
        "Exercise:\n",
        "\n",
        "Use the Boston dataset (Click here to download the Boston dataset) and perform the following activities:\n",
        "\n",
        "1.    Consider the column, ‘RM’, as predictor, and ‘MEDV’ as the target variable\n",
        "\n",
        "2.    Visualize the association between the predictor and the target using scatter plot.\n",
        "\n",
        "3.    Split the data into train and test datasets, in the ratio of 67:33.\n",
        "\n",
        "4.    Build a staristical model (OLS model) to perform the t-test and f-test, and infer the observations from p-value.\n",
        "\n",
        "5.    Observe the coefficient and intercept values for the model.\n",
        "\n",
        "6.    Evaluate the model using mean squared error values and R-squared values on the training and the testing datasets.\n",
        "\n",
        "7.   Build Q-Q plot to verify the normal distribution of the residuals."
      ],
      "metadata": {
        "id": "Jn4rB2YDi7U8"
      }
    },
    {
      "cell_type": "code",
      "source": [
        "# Importing the required libraries\n",
        "import numpy as np\n",
        "import pandas as pd\n",
        "import matplotlib.pyplot as plt\n",
        "%matplotlib inline\n",
        "boston_df = pd.read_csv('boston_housing.csv')\n",
        "boston_df"
      ],
      "metadata": {
        "id": "qWBas127ir-a"
      },
      "execution_count": null,
      "outputs": []
    },
    {
      "cell_type": "code",
      "source": [
        "x = boston_df.RM \n",
        "y = boston_df.MEDV\n",
        "xiyi = x*y\n",
        "n = len(boston_df)\n",
        "xmean = boston_df.RM.mean()\n",
        "ymean = boston_df.MEDV.mean()\n",
        "numerator = xiyi.sum() - n*xmean*ymean\n",
        "denominator = (x**2).sum() - n*(xmean**2)\n",
        "m = numerator/denominator\n",
        "c = ymean - (m*xmean)\n",
        "print('intercept : ',c,' coefficient : ',m)"
      ],
      "metadata": {
        "id": "sx8tchfQkT81"
      },
      "execution_count": null,
      "outputs": []
    },
    {
      "cell_type": "code",
      "source": [
        "# Estimating time using the intercept and the coefficient of the best fit model\n",
        "min_best_fit_model = c + m * boston_df.RM\n",
        "\n",
        "# Adding the predicted values to the dataset\n",
        "boston_df['min_best_fit_model'] = min_best_fit_model\n",
        "\n",
        "# Printing the values predicted by the best fit model\n",
        "boston_df[[\"RM\",\"MEDV\",\"min_best_fit_model\"]]"
      ],
      "metadata": {
        "id": "5mfD34UEkw_0"
      },
      "execution_count": null,
      "outputs": []
    },
    {
      "cell_type": "code",
      "source": [
        "# Plotting the actual time taken for various values of number of faulty units.\n",
        "plt.scatter(boston_df['RM'], boston_df['MEDV'])\n",
        "plt.xlabel(\"RM\")\n",
        "plt.ylabel(\"MEDV\")\n",
        "plt.title(\"MEDV vs. RM\")\n",
        "plt.plot(boston_df.RM, boston_df.min_best_fit_model, color = \"red\")"
      ],
      "metadata": {
        "id": "ZrrlI67SkBhV"
      },
      "execution_count": null,
      "outputs": []
    },
    {
      "cell_type": "code",
      "source": [
        "# building statistics model\n",
        "import statsmodels.api as sm\n",
        "X = sm.add_constant(boston_df[[\"RM\"]])\n",
        "y = boston_df['MEDV']\n",
        "\n",
        "# regression model using Ordinary Least Squares\n",
        "model = sm.OLS(y,X).fit()\n",
        "\n",
        "model.summary()"
      ],
      "metadata": {
        "id": "IyILC4aFlMAn"
      },
      "execution_count": null,
      "outputs": []
    },
    {
      "cell_type": "code",
      "source": [
        "boston_df"
      ],
      "metadata": {
        "id": "0EZVGAwOnMUn"
      },
      "execution_count": null,
      "outputs": []
    },
    {
      "cell_type": "code",
      "source": [
        "SST = sum((boston_df.MEDV.mean() - boston_df.MEDV)**2)\n",
        "print('SST = ', SST)\n",
        "# 27768.357142857145\n",
        "SSE = sum((boston_df.MEDV - boston_df.min_best_fit_model)**2)\n",
        "print('SSE = ', SSE)\n",
        "# 348.848370927318\n",
        "Rsq = (SST - SSE)/SST\n",
        "print('Rsq = ', Rsq)"
      ],
      "metadata": {
        "id": "I0_i5PWrl2Re"
      },
      "execution_count": null,
      "outputs": []
    },
    {
      "cell_type": "code",
      "source": [
        "import seaborn as sns\n",
        "\n",
        "# standard deviation of residuals\n",
        "predictions = boston_df[\"min_best_fit_model\"]\n",
        "residual_error = boston_df[\"MEDV\"] - predictions\n",
        "sd = np.sqrt(np.sum(np.square(residual_error)) / (residual_error.size - 2))\n",
        "\n",
        "# standardised residuals\n",
        "sd_error = residual_error / sd\n",
        "sq_abs_sd_err = np.sqrt(np.abs(sd_error))\n",
        "plt.figure(figsize = (7, 7))\n",
        "sns.regplot(predictions, sq_abs_sd_err, scatter=True, lowess=True,\n",
        "           line_kws={'color':'red', 'lw':1, 'alpha':1})\n",
        "plt.xlabel(\"Fitted value\")\n",
        "plt.ylabel(\"Standardized residuals\")"
      ],
      "metadata": {
        "id": "ni7_z43AxO5Y"
      },
      "execution_count": null,
      "outputs": []
    },
    {
      "cell_type": "markdown",
      "source": [
        "No specific pattern observed by the residuals in the plot, confirms that the linear regression model abide by the homoscedasticity assumption."
      ],
      "metadata": {
        "id": "GcZbO4pK0Alk"
      }
    },
    {
      "cell_type": "code",
      "source": [
        "import seaborn as sns\n",
        "sns.residplot('RM','MEDV',data = boston_df, lowess=True,\n",
        "             line_kws={'color':'red', 'lw':1, 'alpha':1})\n",
        "plt.xlabel(\"RM\")\n",
        "plt.title(\"Residual plot\")"
      ],
      "metadata": {
        "id": "epYcoYKa0CHw"
      },
      "execution_count": null,
      "outputs": []
    },
    {
      "cell_type": "code",
      "source": [
        "from sklearn.model_selection import train_test_split\n",
        "X_train, X_test, y_train, y_test = train_test_split(\n",
        "        X, y, test_size = 0.33, # Test data (33%)\n",
        "        random_state = 42)"
      ],
      "metadata": {
        "id": "DKLt1Z9U01oy"
      },
      "execution_count": null,
      "outputs": []
    },
    {
      "cell_type": "code",
      "source": [
        "# Creating a linear regression model\n",
        "from sklearn.linear_model import LinearRegression\n",
        "model = LinearRegression()\n",
        "\n",
        "# Fitting the model to the data i.e. building the model\n",
        "model.fit(X_train, y_train)\n",
        "predictions = model.predict(X_test)\n",
        "\n",
        "# Fetching intercept (b0) and coefficient (b1)\n",
        "print(\"Intercept:\", model.intercept_)\n",
        "print(\"Coefficients:\",model.coef_)"
      ],
      "metadata": {
        "id": "dmAM-Fe30sYw"
      },
      "execution_count": null,
      "outputs": []
    },
    {
      "cell_type": "code",
      "source": [
        "pd.DataFrame({'Actual': y_test, 'Predicted': predictions})"
      ],
      "metadata": {
        "id": "NX6zLv8UhSw3"
      },
      "execution_count": null,
      "outputs": []
    },
    {
      "cell_type": "code",
      "source": [
        "sns.residplot(boston_df.RM, boston_df.MEDV, lowess=True,\n",
        "             line_kws={'color':'red', 'lw':1, 'alpha':1})\n",
        "plt.xlabel(\"RM\")\n",
        "plt.title(\"Residual plot\")"
      ],
      "metadata": {
        "id": "pkAuptbu1gxx"
      },
      "execution_count": null,
      "outputs": []
    },
    {
      "cell_type": "code",
      "source": [
        "from scipy import stats\n",
        "residual_error = boston_df['MEDV'] - boston_df['min_best_fit_model']\n",
        "plt.figure(figsize = (7, 7))\n",
        "stats.probplot(residual_error, dist = 'norm', plot = plt)\n",
        "plt.title(\"Normal Q-Q Plot\")"
      ],
      "metadata": {
        "id": "XmVUAg34187B"
      },
      "execution_count": null,
      "outputs": []
    },
    {
      "cell_type": "markdown",
      "source": [
        "Shapiro-Wilk Test: is a stastical test to check the normal distribution of a sample.\n",
        "\n",
        "Null hypothesis: The sample is part of normal distribution population. The null hypothesis is accepted if the p-value is greater than 0.05\n",
        "Alternate hypothesis: The sample is not from normal distribution. If p-value on the sample is less than 0.05, alternate hypothesis is accepted, and null hypothesis gets rejected."
      ],
      "metadata": {
        "id": "ZfWUc4AClMQn"
      }
    },
    {
      "cell_type": "code",
      "source": [
        "from scipy.stats import shapiro\n",
        "stat, p = shapiro(residual_error)\n",
        "print(p)"
      ],
      "metadata": {
        "id": "XiNqAS2G2enw"
      },
      "execution_count": null,
      "outputs": []
    },
    {
      "cell_type": "markdown",
      "source": [
        "### Exponential regression"
      ],
      "metadata": {
        "id": "cSMXoTGjK2L0"
      }
    },
    {
      "cell_type": "code",
      "source": [
        "import pandas as pd\n",
        "Tire_useability = pd.read_csv(\"Tire_useability.csv\")\n",
        "Tire_useability.head()"
      ],
      "metadata": {
        "id": "hkh_u_6kK73w"
      },
      "execution_count": null,
      "outputs": []
    },
    {
      "cell_type": "code",
      "source": [
        "import matplotlib.pyplot as plt\n",
        "plt.figure(figsize=(12,7))\n",
        "plt.scatter(x = \"Miles_driven\", y = \"Percentage_Useable\", data = Tire_useability)\n",
        "plt.title(\"Scatter plot of Miles driven vs. Percentage Useable\")\n",
        "plt.xlabel(\"Miles driven\")\n",
        "plt.ylabel(\"Percentage Useable\")"
      ],
      "metadata": {
        "id": "5beWIrXRLWDS"
      },
      "execution_count": null,
      "outputs": []
    },
    {
      "cell_type": "code",
      "source": [
        "import numpy as np\n",
        "plt.figure(figsize=(12,7))\n",
        "plt.scatter(x = Tire_useability[\"Miles_driven\"], y = np.log(Tire_useability[\"Percentage_Useable\"]))\n",
        "plt.title(\"Scatter plot of Miles driven vs. Log of Percentage Useable\")\n",
        "plt.xlabel(\"Miles driven\")\n",
        "plt.ylabel(\"Log of Percentage Useable\")"
      ],
      "metadata": {
        "id": "KCPlDalnLgRs"
      },
      "execution_count": null,
      "outputs": []
    },
    {
      "cell_type": "code",
      "source": [
        "import statsmodels.formula.api as smf\n",
        "exp_model = smf.ols(formula='np.log(Percentage_Useable) ~ Miles_driven ',\n",
        "                    data = Tire_useability).fit()"
      ],
      "metadata": {
        "id": "S67SKN-RL9-c"
      },
      "execution_count": null,
      "outputs": []
    },
    {
      "cell_type": "code",
      "source": [
        "exp_model.summary()"
      ],
      "metadata": {
        "id": "FI0ulO3dMC6L"
      },
      "execution_count": null,
      "outputs": []
    },
    {
      "cell_type": "code",
      "source": [
        "predictions = exp_model.predict(Tire_useability[[\"Miles_driven\"]])\n",
        "plt.figure(figsize=(12,7))\n",
        "plt.scatter(x = \"Miles_driven\", y = \"Percentage_Useable\",data = Tire_useability)\n",
        "plt.plot(Tire_useability[\"Miles_driven\"],np.exp(predictions),'r')\n",
        "plt.title(\"Scatter plot of Miles driven vs. Percentage Useable\")\n",
        "plt.xlabel(\"Miles driven\")\n",
        "plt.ylabel(\"Percentage Useable\")"
      ],
      "metadata": {
        "id": "iMAMgkskMPVk"
      },
      "execution_count": null,
      "outputs": []
    },
    {
      "cell_type": "markdown",
      "source": [
        "## Time Series Analysis"
      ],
      "metadata": {
        "id": "nTgBTgDaA1aF"
      }
    },
    {
      "cell_type": "code",
      "source": [
        "# Importing necessary library\n",
        "import pandas as pd\n",
        "\n",
        "# Reading dataset without parsing\n",
        "AirPassengers = pd.read_csv('AirPassengers.csv')\n",
        "\n",
        "# Analysing the datatype of columns\n",
        "AirPassengers.dtypes"
      ],
      "metadata": {
        "id": "zP8p3FlAB24C"
      },
      "execution_count": null,
      "outputs": []
    },
    {
      "cell_type": "code",
      "source": [
        "# Importing necessary library\n",
        "import pandas as pd\n",
        "\n",
        "# Changing the datatype of Travel date\n",
        "AirPassengers['Travel date'] = pd.to_datetime(AirPassengers['Travel date'])\n",
        "AirPassengers.dtypes"
      ],
      "metadata": {
        "id": "g1IaFFxuCW2-"
      },
      "execution_count": null,
      "outputs": []
    },
    {
      "cell_type": "code",
      "source": [
        "# Making Travel date as Index and dropping current column to change the frequency\n",
        "AirPassengers.index = AirPassengers['Travel date']\n",
        "AirPassengers.drop(['Travel date'], axis=1, inplace=True)\n",
        "\n",
        "# Changing frequency from daily to month end and getting the mean passenger for each month\n",
        "AirPassengers.resample('M').mean()\n",
        "# Note - M is one of the DateOffset object provided by Pandas."
      ],
      "metadata": {
        "id": "Hlzap4_SCfTP"
      },
      "execution_count": null,
      "outputs": []
    },
    {
      "cell_type": "code",
      "source": [
        "#importing necessary libraries\n",
        "import numpy as np\n",
        "\n",
        "# Generating 10 random values\n",
        "np.random.seed(42)\n",
        "val = np.arange(500)\n",
        "np.random.shuffle(val)\n",
        "val = val[:10]\n",
        "val"
      ],
      "metadata": {
        "id": "Z7Q8YmJZCqlA"
      },
      "execution_count": null,
      "outputs": []
    },
    {
      "cell_type": "code",
      "source": [
        "# importing necessary library\n",
        "import pandas as pd\n",
        "#creating dataframe with dummy values\n",
        "dummy_ = pd.DataFrame(val, index=pd.date_range(start='1/1/1910', end='1/10/1910', freq='D'), \n",
        "                      # DateOffset 'D' refers to daily \n",
        "                      columns=['RandomData'])\n",
        "dummy_"
      ],
      "metadata": {
        "id": "C3i_viXRC-HX"
      },
      "execution_count": null,
      "outputs": []
    },
    {
      "cell_type": "code",
      "source": [
        "#importing necessary libraries\n",
        "import numpy as np\n",
        "import pandas as pd\n",
        "\n",
        "# Creation of unordered date\n",
        "np.random.seed(42)\n",
        "date = pd.date_range(start='1/1/1910', end='1/10/1910', freq='D')\n",
        "\n",
        "# generating unordered index\n",
        "idx_ = np.arange(10) \n",
        "np.random.shuffle(idx_)\n",
        "unordered_data = pd.DataFrame(val, index=date[idx_], columns=['Random data'])\n",
        "unordered_data"
      ],
      "metadata": {
        "id": "wGKy5kFWDO73"
      },
      "execution_count": null,
      "outputs": []
    },
    {
      "cell_type": "code",
      "source": [
        "# sorting dataframe based on date index\n",
        "unordered_data.sort_index(inplace=True)\n",
        "unordered_data"
      ],
      "metadata": {
        "id": "XZ4gxNXRDjOq"
      },
      "execution_count": null,
      "outputs": []
    },
    {
      "cell_type": "markdown",
      "source": [
        "Create a time series data on a monthly basis starting from April 2007 to March 2012 considering random numbers as values with seed value as 42."
      ],
      "metadata": {
        "id": "sMSyHkI8Dx2f"
      }
    },
    {
      "cell_type": "code",
      "source": [
        "#importing necessary libraries\n",
        "import numpy as np\n",
        "\n",
        "# Generating 10 random values\n",
        "np.random.seed(42)\n",
        "val = np.arange(500)\n",
        "np.random.shuffle(val)\n",
        "val = val[:63]\n",
        "val"
      ],
      "metadata": {
        "id": "rY6-oalADw2A"
      },
      "execution_count": null,
      "outputs": []
    },
    {
      "cell_type": "code",
      "source": [
        "# importing necessary library\n",
        "import pandas as pd\n",
        "#creating dataframe with dummy values\n",
        "dummy_ = pd.DataFrame(val, index=pd.date_range(start='1/1/2007', end='4/1/2012', freq='M'), \n",
        "                      # DateOffset 'M' refers to daily \n",
        "                      columns=['RandomData'])\n",
        "dummy_"
      ],
      "metadata": {
        "id": "goXyiNNJEFI_"
      },
      "execution_count": null,
      "outputs": []
    },
    {
      "cell_type": "code",
      "source": [
        "#importing necessary libraries\n",
        "import numpy as np\n",
        "import pandas as pd\n",
        "\n",
        "# Creation of unordered date\n",
        "np.random.seed(42)\n",
        "date = pd.date_range(start='1/1/2007', end='4/1/2012', freq='M')\n",
        "\n",
        "# generating unordered index\n",
        "idx_ = np.arange(63) \n",
        "np.random.shuffle(idx_)\n",
        "unordered_data = pd.DataFrame(val, index=date[idx_], columns=['Random data'])\n",
        "unordered_data"
      ],
      "metadata": {
        "id": "_N46aOJNE1NH"
      },
      "execution_count": null,
      "outputs": []
    },
    {
      "cell_type": "code",
      "source": [
        "# sorting dataframe based on date index\n",
        "unordered_data.sort_index(inplace=True)\n",
        "unordered_data"
      ],
      "metadata": {
        "id": "_NO7POhdE6_u"
      },
      "execution_count": null,
      "outputs": []
    },
    {
      "cell_type": "markdown",
      "source": [
        "### Patterns in time series data"
      ],
      "metadata": {
        "id": "7mQK8r9tIu72"
      }
    },
    {
      "cell_type": "code",
      "source": [
        "#Importing libraries\n",
        "import pandas as pd\n",
        "import matplotlib.pyplot as plt\n",
        "\n",
        "# Loading statsmodel method to perform decomposition\n",
        "from statsmodels.tsa.seasonal import seasonal_decompose\n",
        "\n",
        "# Another way to load a time series data by defining a date format\n",
        "dateparse = lambda dates: pd.datetime.strptime(dates, \"%m/%d/%Y\")\n",
        "AirPassenger = pd.read_csv('AirPassengers.csv', index_col='Travel date', date_parser=dateparse)\n",
        "\n",
        "# Visualizing trend of Airpassengers data\n",
        "plt.plot(seasonal_decompose(AirPassengers).trend)\n",
        "plt.xlabel('Year', fontsize=15)\n",
        "plt.ylabel('Number of Passengers', fontsize=15)\n",
        "plt.title('Upward Trend in AirPassengers data', weight='bold', fontsize=18)\n",
        "plt.show()"
      ],
      "metadata": {
        "id": "ngIl1c5CIuKu"
      },
      "execution_count": null,
      "outputs": []
    },
    {
      "cell_type": "code",
      "source": [
        "#Importing libraries\n",
        "import pandas as pd\n",
        "import matplotlib.pyplot as plt\n",
        "\n",
        "# Reading file\n",
        "dateparse = lambda dates: pd.datetime.strptime(dates, '%m/%d/%Y')\n",
        "GOOG_stock = pd.read_csv('Google_stock.csv', index_col='Date', date_parser=dateparse)\n",
        "\n",
        "# Visualizing upward and downward trends\n",
        "plt.figure(figsize=(12, 6))\n",
        "ax1 = plt.subplot2grid((1, 2), (0,0))\n",
        "ax1.plot(GOOG_stock.index.day, # Labeling only days\n",
        "        GOOG_stock.Volume)\n",
        "ax1.set_xlabel('Days', fontsize=15)\n",
        "ax1.set_ylabel('Volume', fontsize=15)\n",
        "ax1.set_title('GOOG Stock between July 7th, 2006 \\n and July 28th, 2006', weight='bold', fontsize=18)\n",
        "ax2 = plt.subplot2grid((1, 2), (0,1))\n",
        "ax2.plot(GOOG_stock.index.day, seasonal_decompose(GOOG_stock.Volume).trend)\n",
        "ax2.set_xlabel('Days', fontsize=15)\n",
        "ax2.set_ylabel('Volume', fontsize=15)\n",
        "ax2.set_title('Days 12-20: Upward Trend \\n Days 20-26: Downward Trend', weight='bold', fontsize=18)\n",
        "plt.tight_layout()"
      ],
      "metadata": {
        "id": "ljJkGlC5p0N7"
      },
      "execution_count": null,
      "outputs": []
    },
    {
      "cell_type": "code",
      "source": [
        "#importing libraries\n",
        "import matplotlib.pyplot as plt\n",
        "# Visualizing seasonality of Airpassengers data\n",
        "plt.plot(seasonal_decompose(AirPassengers).seasonal)\n",
        "plt.xlabel('Jan 1949 to Dec 1960', fontsize=15)\n",
        "plt.ylabel('Number of Passengers', fontsize=15)\n",
        "plt.title('Seasonal', weight='bold', fontsize=18)\n",
        "plt.show()\n",
        "\n",
        "# Visualizing seasonality of Airpassengers data for year 1949\n",
        "plt.figure(figsize=(10, 4))\n",
        "plt.plot(seasonal_decompose(AirPassengers).seasonal.iloc[1:12,:])\n",
        "plt.xlabel('January 1949 to December 1949', fontsize=15)\n",
        "plt.ylabel('Number of Passengers', fontsize=15)\n",
        "plt.title('Seasonal monthly data for 1949', weight='bold', fontsize=18)\n",
        "plt.show()"
      ],
      "metadata": {
        "id": "nQBL7PVGqO4K"
      },
      "execution_count": null,
      "outputs": []
    },
    {
      "cell_type": "code",
      "source": [
        "# Importing libraries\n",
        "import pandas as pd\n",
        "import matplotlib.pyplot as plt\n",
        "\n",
        "# Reading data\n",
        "dateparse = lambda dates: pd.datetime.strptime(dates, '%m/%d/%Y')\n",
        "hsales = pd.read_csv('hsales.csv', index_col='date', date_parser=dateparse)\n",
        "\n",
        "# Visualizing house sales data\n",
        "plt.plot(hsales)\n",
        "plt.xlabel('January 1973 to Novermber 1995', fontsize=15)\n",
        "plt.ylabel('Monthly housing sales', fontsize=15)\n",
        "plt.title('house sale data', weight='bold', fontsize=18)\n",
        "plt.show()"
      ],
      "metadata": {
        "id": "48lRLJ4Aqfsq"
      },
      "execution_count": null,
      "outputs": []
    },
    {
      "cell_type": "code",
      "source": [
        "# Importing libraries\n",
        "import matplotlib.pyplot as plt\n",
        "\n",
        "# Visualizing monthly sales of new one-family houses\n",
        "plt.plot(seasonal_decompose(hsales).trend)\n",
        "plt.xlabel('January 1973 to Novermber 1995', fontsize=15)\n",
        "plt.ylabel('Monthly housing sales', fontsize=15)\n",
        "plt.title('Monthly sales of new one-family houses \\n sold in the USA since 1973', weight='bold', fontsize=18)\n",
        "plt.show()"
      ],
      "metadata": {
        "id": "2tVlEIK7qrCL"
      },
      "execution_count": null,
      "outputs": []
    },
    {
      "cell_type": "code",
      "source": [
        "# Importing libraries\n",
        "import matplotlib.pyplot as plt\n",
        "\n",
        "# Visualizing residuals of house sales data\n",
        "plt.plot(seasonal_decompose(hsales).resid)\n",
        "plt.xlabel('January 1973 to Novermber 1995', fontsize=15)\n",
        "plt.ylabel('Monthly housing sales', fontsize=15)\n",
        "plt.title('house sales data residuals', weight='bold', fontsize=18)\n",
        "plt.show()"
      ],
      "metadata": {
        "id": "8Xbh4FEnq7el"
      },
      "execution_count": null,
      "outputs": []
    },
    {
      "cell_type": "markdown",
      "source": [
        "Plot the trend, seasonality, and residuals of the number of appliances present against the date feature for the Appliance dataset."
      ],
      "metadata": {
        "id": "CjielKJXrGuG"
      }
    },
    {
      "cell_type": "code",
      "source": [
        "# Importing necessary library\n",
        "import pandas as pd\n",
        "\n",
        "# Reading dataset without parsing\n",
        "appl_df = pd.read_csv('Appliance.csv')\n",
        "\n",
        "# Analysing the datatype of columns\n",
        "appl_df.dtypes"
      ],
      "metadata": {
        "id": "R9A2LQhVFnnL"
      },
      "execution_count": null,
      "outputs": []
    },
    {
      "cell_type": "code",
      "source": [
        "# Importing necessary library\n",
        "import pandas as pd\n",
        "\n",
        "# Changing the datatype of Travel date\n",
        "appl_df['date'] = pd.to_datetime(appl_df['date'])\n",
        "appl_df.dtypes"
      ],
      "metadata": {
        "id": "s0ypszsGGEK4"
      },
      "execution_count": null,
      "outputs": []
    },
    {
      "cell_type": "code",
      "source": [
        "#importing libraries\n",
        "import pandas as pd\n",
        "import matplotlib.pyplot as plt\n",
        "\n",
        "# Loading statsmodel method to perform decomposition\n",
        "from statsmodels.tsa.seasonal import seasonal_decompose\n",
        "\n",
        "# Another way to load a time series data by defining a date format\n",
        "dateparse = lambda dates: pd.datetime.strptime(dates, \"%m/%d/%Y %H:%M\")\n",
        "appl_df = pd.read_csv('Appliance.csv', index_col = 'date', date_parser = dateparse)"
      ],
      "metadata": {
        "id": "JwO1e7jRYT_l"
      },
      "execution_count": null,
      "outputs": []
    },
    {
      "cell_type": "code",
      "source": [
        "# Visualizing trend of Appliance data\n",
        "plt.figure(figsize = [25, 5])\n",
        "plt.plot(seasonal_decompose(appl_df, freq = 1440).trend.iloc[:2924,:])\n",
        "plt.xlabel('Dates', fontsize = 15)\n",
        "plt.ylabel('Number of Appliances', fontsize = 15)\n",
        "plt.title('Trend in Appliance data for January', weight = 'bold', fontsize = 18)\n",
        "plt.show()"
      ],
      "metadata": {
        "id": "qqqaDmlSGXzS"
      },
      "execution_count": null,
      "outputs": []
    },
    {
      "cell_type": "code",
      "source": [
        "# Visualizing seasonality of Appliance data\n",
        "plt.figure(figsize = [25, 5])\n",
        "plt.plot(seasonal_decompose(appl_df, freq = 1440).seasonal.iloc[:2924,:])\n",
        "plt.xlabel('Dates', fontsize = 15)\n",
        "plt.ylabel('Number of Appliances', fontsize = 15)\n",
        "plt.title('Seasonality in Appliance data for January', weight = 'bold', fontsize = 18)\n",
        "plt.show()"
      ],
      "metadata": {
        "id": "eS0Fi0XwUuYe"
      },
      "execution_count": null,
      "outputs": []
    },
    {
      "cell_type": "code",
      "source": [
        "# Importing libraries\n",
        "import matplotlib.pyplot as plt\n",
        "\n",
        "# Visualizing residuals of house sales data\n",
        "plt.figure(figsize = [25, 5])\n",
        "plt.plot(seasonal_decompose(appl_df, freq = 1440).resid.iloc[:2924,:])\n",
        "plt.xlabel('Dates', fontsize = 15)\n",
        "plt.ylabel('Number of Appliances', fontsize = 15)\n",
        "plt.title('Residual in Appliance data for January', weight = 'bold', fontsize = 18)\n",
        "plt.show()"
      ],
      "metadata": {
        "id": "DXIipSABaHX-"
      },
      "execution_count": null,
      "outputs": []
    },
    {
      "cell_type": "code",
      "source": [
        "# Visualizing trend of Appliance data\n",
        "plt.figure(figsize = [25, 5])\n",
        "plt.plot(seasonal_decompose(appl_df, freq = 1440).trend.iloc[2924:7100,:])\n",
        "plt.xlabel('Dates', fontsize = 15)\n",
        "plt.ylabel('Number of Appliances', fontsize = 15)\n",
        "plt.title('Trend in Appliance data for February', weight = 'bold', fontsize = 18)\n",
        "plt.show()"
      ],
      "metadata": {
        "id": "7FU9H38eaNCf"
      },
      "execution_count": null,
      "outputs": []
    },
    {
      "cell_type": "code",
      "source": [
        "# Visualizing seasonality of Appliance data\n",
        "plt.figure(figsize = [25, 5])\n",
        "plt.plot(seasonal_decompose(appl_df, freq = 1440).seasonal.iloc[2924:7100,:])\n",
        "plt.xlabel('Dates', fontsize = 15)\n",
        "plt.ylabel('Number of Appliances', fontsize = 15)\n",
        "plt.title('Seasonality in Appliance data for February', weight = 'bold', fontsize = 18)\n",
        "plt.show()"
      ],
      "metadata": {
        "id": "theFJyHaVYm_"
      },
      "execution_count": null,
      "outputs": []
    },
    {
      "cell_type": "code",
      "source": [
        "# Importing libraries\n",
        "import matplotlib.pyplot as plt\n",
        "\n",
        "# Visualizing residuals of house sales data\n",
        "plt.figure(figsize = [25, 5])\n",
        "plt.plot(seasonal_decompose(appl_df, freq = 1440).resid.iloc[2924:7100,:])\n",
        "plt.xlabel('Dates', fontsize = 15)\n",
        "plt.ylabel('Number of Appliances', fontsize = 15)\n",
        "plt.title('Residual in Appliance data for February', weight = 'bold', fontsize = 18)\n",
        "plt.show()"
      ],
      "metadata": {
        "id": "c9xe329xagCG"
      },
      "execution_count": null,
      "outputs": []
    },
    {
      "cell_type": "code",
      "source": [
        "# Visualizing trend of Appliance data\n",
        "plt.figure(figsize = [25, 5])\n",
        "plt.plot(seasonal_decompose(appl_df, freq = 1440).trend.iloc[7100:11564,:])\n",
        "plt.xlabel('Dates', fontsize = 15)\n",
        "plt.ylabel('Number of Appliances', fontsize = 15)\n",
        "plt.title('Trend in Appliance data for March', weight = 'bold', fontsize = 18)\n",
        "plt.show()"
      ],
      "metadata": {
        "id": "tAvH9HFge1FL"
      },
      "execution_count": null,
      "outputs": []
    },
    {
      "cell_type": "code",
      "source": [
        "# Visualizing seasonality of Appliance data\n",
        "plt.figure(figsize = [25, 5])\n",
        "plt.plot(seasonal_decompose(appl_df, freq = 1440).seasonal.iloc[7100:11564,:])\n",
        "plt.xlabel('Dates', fontsize = 15)\n",
        "plt.ylabel('Number of Appliances', fontsize = 15)\n",
        "plt.title('Seasonality in Appliance data for March', weight = 'bold', fontsize = 18)\n",
        "plt.show()"
      ],
      "metadata": {
        "id": "D7DgPI5dWMoG"
      },
      "execution_count": null,
      "outputs": []
    },
    {
      "cell_type": "code",
      "source": [
        "# Importing libraries\n",
        "import matplotlib.pyplot as plt\n",
        "\n",
        "# Visualizing residuals of house sales data\n",
        "plt.figure(figsize = [25, 5])\n",
        "plt.plot(seasonal_decompose(appl_df, freq = 1440).resid.iloc[7100:11564,:])\n",
        "plt.xlabel('Dates', fontsize = 15)\n",
        "plt.ylabel('Number of Appliances', fontsize = 15)\n",
        "plt.title('Residual in Appliance data for March', weight = 'bold', fontsize = 18)\n",
        "plt.show()"
      ],
      "metadata": {
        "id": "0xvSknqXbIzK"
      },
      "execution_count": null,
      "outputs": []
    },
    {
      "cell_type": "code",
      "source": [
        "# Visualizing trend of Appliance data\n",
        "plt.figure(figsize = [25, 5])\n",
        "plt.plot(seasonal_decompose(appl_df, freq = 1440).trend.iloc[11564:15884,:])\n",
        "plt.xlabel('Dates', fontsize = 15)\n",
        "plt.ylabel('Number of Appliances', fontsize = 15)\n",
        "plt.title('Trend in Appliance data for April', weight = 'bold', fontsize = 18)\n",
        "plt.show()"
      ],
      "metadata": {
        "id": "AZgeSSpAgh4L"
      },
      "execution_count": null,
      "outputs": []
    },
    {
      "cell_type": "code",
      "source": [
        "# Visualizing seasonality of Appliance data\n",
        "plt.figure(figsize = [25, 5])\n",
        "plt.plot(seasonal_decompose(appl_df, freq = 1440).seasonal.iloc[11564:15884,:])\n",
        "plt.xlabel('Dates', fontsize = 15)\n",
        "plt.ylabel('Number of Appliances', fontsize = 15)\n",
        "plt.title('Seasonality in Appliance data for April', weight = 'bold', fontsize = 18)\n",
        "plt.show()"
      ],
      "metadata": {
        "id": "CgULdkZgXLvO"
      },
      "execution_count": null,
      "outputs": []
    },
    {
      "cell_type": "code",
      "source": [
        "# Visualizing seasonality of Appliance data\n",
        "plt.figure(figsize = [25, 5])\n",
        "plt.plot(seasonal_decompose(appl_df, freq = 1440).resid.iloc[11564:15884,:])\n",
        "plt.xlabel('Dates', fontsize = 15)\n",
        "plt.ylabel('Number of Appliances', fontsize = 15)\n",
        "plt.title('Residual in Appliance data for April', weight = 'bold', fontsize = 18)\n",
        "plt.show()"
      ],
      "metadata": {
        "id": "StCorRpTbaPM"
      },
      "execution_count": null,
      "outputs": []
    },
    {
      "cell_type": "code",
      "source": [
        "# Visualizing trend of Appliance data\n",
        "plt.figure(figsize = [25, 5])\n",
        "plt.plot(seasonal_decompose(appl_df, freq = 1440).trend.iloc[15884:,:])\n",
        "plt.xlabel('Dates', fontsize = 15)\n",
        "plt.ylabel('Number of Appliances', fontsize = 15)\n",
        "plt.title('Trend in Appliance data for May', weight = 'bold', fontsize = 18)\n",
        "plt.show()"
      ],
      "metadata": {
        "id": "fRz98BYpg8RU"
      },
      "execution_count": null,
      "outputs": []
    },
    {
      "cell_type": "code",
      "source": [
        "# Visualizing seasonality of Appliance data\n",
        "plt.figure(figsize = [25, 5])\n",
        "plt.plot(seasonal_decompose(appl_df, freq = 1440).seasonal.iloc[15884:,:])\n",
        "plt.xlabel('Dates', fontsize = 15)\n",
        "plt.ylabel('Number of Appliances', fontsize = 15)\n",
        "plt.title('Seasonality in Appliance data for May', weight = 'bold', fontsize = 18)\n",
        "plt.show()"
      ],
      "metadata": {
        "id": "VEB3xwJ9XfIm"
      },
      "execution_count": null,
      "outputs": []
    },
    {
      "cell_type": "code",
      "source": [
        "# Visualizing seasonality of Appliance data\n",
        "plt.figure(figsize = [25, 5])\n",
        "plt.plot(seasonal_decompose(appl_df, freq = 1440).resid.iloc[15884:,:])\n",
        "plt.xlabel('Dates', fontsize = 15)\n",
        "plt.ylabel('Number of Appliances', fontsize = 15)\n",
        "plt.title('Residual in Appliance data for May', weight = 'bold', fontsize = 18)\n",
        "plt.show()"
      ],
      "metadata": {
        "id": "IqfxXqzdbXMx"
      },
      "execution_count": null,
      "outputs": []
    },
    {
      "cell_type": "markdown",
      "source": [
        "### Decomposition models - Additive"
      ],
      "metadata": {
        "id": "dwV5Mg0nc8x-"
      }
    },
    {
      "cell_type": "code",
      "source": [
        "# Importing libraries\n",
        "import pandas as pd\n",
        "import matplotlib.pyplot as plt\n",
        "# Load fresh data\n",
        "dateparse = lambda dates: pd.datetime.strptime(dates, '%m/%d/%Y')\n",
        "AirPassenger = pd.read_csv('AirPassengers.csv', index_col='Travel date', date_parser=dateparse)\n",
        "# Loading statsmodel method to perform decomposition\n",
        "from statsmodels.tsa.seasonal import seasonal_decompose\n",
        "# Getting data corresponding to each month\n",
        "cols = ['Jan', 'Feb', 'Mar', 'Apr', 'May', 'Jun', 'Jul', 'Aug', 'Sep', 'Oct', 'Nov', 'Dec']\n",
        "AP_reshaped = pd.DataFrame(AirPassenger.values.reshape(-1, 12), \n",
        "                         columns=cols,                        # Month \n",
        "                         index=range(1949, 1961))             # Year\n",
        "AP_reshaped"
      ],
      "metadata": {
        "id": "mFugQD0wdWE1"
      },
      "execution_count": null,
      "outputs": []
    },
    {
      "cell_type": "code",
      "source": [
        "# Importing libraries\n",
        "import numpy as np\n",
        "import pandas as pd\n",
        "# Extracting the seasonal values\n",
        "seasonal_data = np.round(seasonal_decompose(AirPassenger, model='additive').seasonal, 2)\n",
        "# Getting output corresponding to each month\n",
        "AP_season = pd.DataFrame(seasonal_data.values.reshape(-1, 12), \n",
        "                         columns=cols,                        # Month \n",
        "                         index=range(1949, 1961))             # Year\n",
        "AP_season"
      ],
      "metadata": {
        "id": "bEMa_fa2gyKU"
      },
      "execution_count": null,
      "outputs": []
    },
    {
      "cell_type": "code",
      "source": [
        "# Importing libraries\n",
        "import matplotlib.pyplot as plt\n",
        "# Decomposition of Airpassengers data on year end taking mean of monthly values\n",
        "year_end = AirPassenger.resample('A').mean() # Here, DateOffset 'A' represents Year end\n",
        "seasonal_decompose(year_end, model='additive').plot()\n",
        "plt.suptitle('Decomposition on Year end', weight='bold', fontsize=18, y=1.05)\n",
        "plt.show()"
      ],
      "metadata": {
        "id": "hc6FcwVkg6p0"
      },
      "execution_count": null,
      "outputs": []
    },
    {
      "cell_type": "code",
      "source": [
        "# Importing libraries\n",
        "import matplotlib.pyplot as plt\n",
        "# Decomposition of Airpassengers data on quarter end taking mean of monthly values\n",
        "quarter_end = AirPassenger.resample('Q').mean() # Here, DateOffset 'Q' represents Quarter end\n",
        "seasonal_decompose(quarter_end, model='additive').plot()\n",
        "plt.suptitle('Decomposition on Quarter end', weight='bold', fontsize=18, y=1.05)\n",
        "plt.show()"
      ],
      "metadata": {
        "id": "Fw_n2QyEhLKe"
      },
      "execution_count": null,
      "outputs": []
    },
    {
      "cell_type": "code",
      "source": [
        "# Deseasonalized data\n",
        "AP_deseasonalized = AP_reshaped - AP_season\n",
        "AP_deseasonalized"
      ],
      "metadata": {
        "id": "N_qmO9zohXDH"
      },
      "execution_count": null,
      "outputs": []
    },
    {
      "cell_type": "code",
      "source": [
        "# Importing libraries\n",
        "import numpy as np\n",
        "import pandas as pd\n",
        "import matplotlib.pyplot as plt\n",
        "# Melting the data by forming a 1D data to proceed with visualization\n",
        "plt.plot(AirPassenger)\n",
        "plt.xlabel('Year', fontsize=15)\n",
        "plt.ylabel('Passengers', fontsize=15)\n",
        "plt.title('Original Airpassengers data', weight='bold', fontsize=18)\n",
        "plt.show()\n",
        "# Melting the data by forming it to a 1D data to proceed with visualization\n",
        "plt.plot(pd.melt(AP_deseasonalized.T).value)\n",
        "plt.xticks(np.linspace(0, 140, 6), np.unique(pd.melt(AP_deseasonalized.T).variable)[::2])\n",
        "plt.xlabel('Year', fontsize=15)\n",
        "plt.ylabel('Passengers', fontsize=15)\n",
        "plt.title('Deseasonalized data', weight='bold', fontsize=18)\n",
        "plt.show()"
      ],
      "metadata": {
        "id": "13D0s4Ljhs3G"
      },
      "execution_count": null,
      "outputs": []
    },
    {
      "cell_type": "markdown",
      "source": [
        "### Decomposition models - Multiplicative"
      ],
      "metadata": {
        "id": "ZpVMt1bBdQTn"
      }
    },
    {
      "cell_type": "code",
      "source": [
        "# Importing libraries\n",
        "import numpy as np\n",
        "import pandas as pd\n",
        "# Extracting the seasonal values\n",
        "seasonal_data_mult = np.round(seasonal_decompose(AirPassenger, model='multiplicative').seasonal, 2)\n",
        "# Getting output corresponding to each month\n",
        "AP_season_mult = pd.DataFrame(seasonal_data_mult.values.reshape(-1, 12), \n",
        "                         columns=cols,                        # Month \n",
        "                         index=range(1949, 1961))             # Year\n",
        "AP_season_mult"
      ],
      "metadata": {
        "id": "_zVnyfQPdVA1"
      },
      "execution_count": null,
      "outputs": []
    },
    {
      "cell_type": "code",
      "source": [
        "# Importing libraries\n",
        "import matplotlib.pyplot as plt\n",
        "# Decomposition of Airpassengers data on year end taking mean of monthly values\n",
        "year_end = AirPassenger.resample('A').mean() # Here, DateOffset 'A' represents Year end\n",
        "seasonal_decompose(year_end, model='multiplicative').plot()\n",
        "plt.suptitle('Decomposition on Year end', weight='bold', fontsize=18, y=1.05)\n",
        "plt.show()\n",
        "\n",
        "# Importing libraries\n",
        "import matplotlib.pyplot as plt\n",
        "# Decomposition of Airpassengers data on quarter end taking mean of monthly values\n",
        "quarter_end = AirPassenger.resample('Q').mean() # Here, DateOffset 'Q' represents Quarter end\n",
        "seasonal_decompose(quarter_end, model='multiplicative').plot()\n",
        "plt.suptitle('Decomposition on Quarter end', weight='bold', fontsize=18, y=1.05)\n",
        "plt.show()"
      ],
      "metadata": {
        "id": "yC5p7BRGiXIx"
      },
      "execution_count": null,
      "outputs": []
    },
    {
      "cell_type": "code",
      "source": [
        "# Importing libraries\n",
        "import numpy as np\n",
        "# Multiplicative Deseasonalized data\n",
        "AP_deseasonalized_mult = np.round(AP_reshaped / AP_season_mult, 2)\n",
        "AP_deseasonalized_mult"
      ],
      "metadata": {
        "id": "XO7sipw8ivJU"
      },
      "execution_count": null,
      "outputs": []
    },
    {
      "cell_type": "code",
      "source": [
        "# Importing libraries\n",
        "import numpy as np\n",
        "import pandas as pd\n",
        "import matplotlib.pyplot as plt\n",
        "# Melting the data by forming a 1D data to proceed with visualization\n",
        "plt.plot(AirPassenger)\n",
        "plt.xlabel('Year', fontsize=15)\n",
        "plt.ylabel('Passengers', fontsize=15)\n",
        "plt.title('Original Airpassengers data', weight='bold', fontsize=18)\n",
        "plt.show()\n",
        "# Melting the data by forming a 1D data to proceed with visualization\n",
        "plt.plot(pd.melt(AP_deseasonalized_mult.T).value)\n",
        "plt.xticks(np.linspace(0, 140, 6), np.unique(pd.melt(AP_deseasonalized.T).variable)[::2])\n",
        "plt.xlabel('Year', fontsize=15)\n",
        "plt.ylabel('Passengers', fontsize=15)\n",
        "plt.title('Deseasonalized data', weight='bold', fontsize=18)\n",
        "plt.show()"
      ],
      "metadata": {
        "id": "abbGzhnui6CI"
      },
      "execution_count": null,
      "outputs": []
    },
    {
      "cell_type": "markdown",
      "source": [
        "Plot the deseasonalized values of AirPassengers data by assigning its frequency to the beginning of the business year. Using both the models (additive as well as multiplicative). The DateOffset to be used is 'BAS'."
      ],
      "metadata": {
        "id": "B7WjXV_1h7zf"
      }
    },
    {
      "cell_type": "markdown",
      "source": [
        "### Additive BAS"
      ],
      "metadata": {
        "id": "hv6OeU38jQa_"
      }
    },
    {
      "cell_type": "code",
      "source": [
        "# Importing libraries\n",
        "import pandas as pd\n",
        "import matplotlib.pyplot as plt\n",
        "# Load fresh data\n",
        "dateparse = lambda dates: pd.datetime.strptime(dates, '%m/%d/%Y')\n",
        "AirPassenger = pd.read_csv('AirPassengers.csv', index_col='Travel date', date_parser=dateparse)\n",
        "# Loading statsmodel method to perform decomposition\n",
        "from statsmodels.tsa.seasonal import seasonal_decompose\n",
        "# Getting data corresponding to each month\n",
        "cols = ['Jan', 'Feb', 'Mar', 'Apr', 'May', 'Jun', 'Jul', 'Aug', 'Sep', 'Oct', 'Nov', 'Dec']\n",
        "AP_reshaped = pd.DataFrame(AirPassenger.values.reshape(-1, 12), \n",
        "                         columns=cols,                        # Month \n",
        "                         index=range(1949, 1961))             # Year\n",
        "AP_reshaped"
      ],
      "metadata": {
        "id": "pM1yF1aDiF3X"
      },
      "execution_count": null,
      "outputs": []
    },
    {
      "cell_type": "code",
      "source": [
        "# Importing libraries\n",
        "import numpy as np\n",
        "import pandas as pd\n",
        "# Extracting the seasonal values\n",
        "seasonal_data = np.round(seasonal_decompose(AirPassenger, model='additive').seasonal, 2)\n",
        "# Getting output corresponding to each month\n",
        "AP_season = pd.DataFrame(seasonal_data.values.reshape(-1, 12), \n",
        "                         columns=cols,                        # Month \n",
        "                         index=range(1949, 1961))             # Year\n",
        "AP_season"
      ],
      "metadata": {
        "id": "ZCssGsejjuI-"
      },
      "execution_count": null,
      "outputs": []
    },
    {
      "cell_type": "code",
      "source": [
        "# Importing libraries\n",
        "import matplotlib.pyplot as plt\n",
        "# Decomposition of Airpassengers data on year end taking mean of monthly values\n",
        "business_year_end = AirPassenger.resample('BAS').mean() # Here, DateOffset 'BAS' represents Business Year Start\n",
        "seasonal_decompose(business_year_end, model='additive', freq=1).plot() # freq<=half of total number of years(13)\n",
        "plt.suptitle('Decomposition on Business Year end', weight='bold', fontsize=18, y=1.05)\n",
        "plt.show()"
      ],
      "metadata": {
        "id": "GHCN85MGj4kR"
      },
      "execution_count": null,
      "outputs": []
    },
    {
      "cell_type": "markdown",
      "source": [
        "### Multiplicative BAS"
      ],
      "metadata": {
        "id": "wwCeXQ6XjcUi"
      }
    },
    {
      "cell_type": "code",
      "source": [
        "# Importing libraries\n",
        "import pandas as pd\n",
        "import matplotlib.pyplot as plt\n",
        "# Load fresh data\n",
        "dateparse = lambda dates: pd.datetime.strptime(dates, '%m/%d/%Y')\n",
        "AirPassenger = pd.read_csv('AirPassengers.csv', index_col='Travel date', date_parser=dateparse)\n",
        "# Loading statsmodel method to perform decomposition\n",
        "from statsmodels.tsa.seasonal import seasonal_decompose\n",
        "# Getting data corresponding to each month\n",
        "cols = ['Jan', 'Feb', 'Mar', 'Apr', 'May', 'Jun', 'Jul', 'Aug', 'Sep', 'Oct', 'Nov', 'Dec']\n",
        "AP_reshaped = pd.DataFrame(AirPassenger.values.reshape(-1, 12), \n",
        "                         columns=cols,                        # Month \n",
        "                         index=range(1949, 1961))             # Year\n",
        "AP_reshaped"
      ],
      "metadata": {
        "id": "LzYJgBvonXjb"
      },
      "execution_count": null,
      "outputs": []
    },
    {
      "cell_type": "code",
      "source": [
        "# Importing libraries\n",
        "import numpy as np\n",
        "import pandas as pd\n",
        "# Extracting the seasonal values\n",
        "seasonal_data = np.round(seasonal_decompose(AirPassenger, model='multiplicative').seasonal, 2)\n",
        "# Getting output corresponding to each month\n",
        "AP_season = pd.DataFrame(seasonal_data.values.reshape(-1, 12), \n",
        "                         columns=cols,                        # Month \n",
        "                         index=range(1949, 1961))             # Year\n",
        "AP_season"
      ],
      "metadata": {
        "id": "RU9EPTtWcOlx"
      },
      "execution_count": null,
      "outputs": []
    },
    {
      "cell_type": "code",
      "source": [
        "# Importing libraries\n",
        "import matplotlib.pyplot as plt\n",
        "# Decomposition of Airpassengers data on year end taking mean of monthly values\n",
        "business_year_end = AirPassenger.resample('BAS').mean() # Here, DateOffset 'BAS' represents Business Year Start\n",
        "seasonal_decompose(business_year_end, model='multiplicative', freq=1).plot() # freq<=half of total number of years(13)\n",
        "plt.suptitle('Decomposition on Business Year end', weight='bold', fontsize=18, y=1.05)\n",
        "plt.show()"
      ],
      "metadata": {
        "id": "d0YBIfPojgZl"
      },
      "execution_count": null,
      "outputs": []
    },
    {
      "cell_type": "markdown",
      "source": [
        "### Smoothing Time Series - Moving Averages"
      ],
      "metadata": {
        "id": "JyP8Q5wEIBox"
      }
    },
    {
      "cell_type": "code",
      "source": [
        "# Importing libraries\n",
        "import matplotlib.pyplot as plt\n",
        "\n",
        "# 4 period moving average\n",
        "plt.plot(AirPassenger, label='Original')\n",
        "plt.plot(AirPassenger.rolling(4, center=False).mean(), label='Moving Average')\n",
        "plt.legend()\n",
        "plt.xlabel('Year', fontsize=15)\n",
        "plt.ylabel('Passengers', fontsize=15)\n",
        "plt.title('Moving Average with period=4', weight='bold', fontsize=18)\n",
        "plt.show()\n",
        "\n",
        "# 8 period moving average\n",
        "plt.plot(AirPassenger, label='Original')\n",
        "plt.plot(AirPassenger.rolling(8, center=False).mean(), label='Moving Average')\n",
        "plt.legend()\n",
        "plt.xlabel('Year', fontsize=15)\n",
        "plt.ylabel('Passengers', fontsize=15)\n",
        "plt.title('Moving Average with period=8', weight='bold', fontsize=18)\n",
        "plt.show()"
      ],
      "metadata": {
        "id": "aQs56T7QIGET"
      },
      "execution_count": null,
      "outputs": []
    },
    {
      "cell_type": "code",
      "source": [
        "# Importing libraries\n",
        "import matplotlib.pyplot as plt\n",
        "\n",
        "# Centered Moving Averages\n",
        "plt.figure(figsize=(10, 5))\n",
        "plt.plot(AirPassenger.iloc[1:12], label='Original')\n",
        "plt.plot(AirPassenger.iloc[1:12].rolling(2, center=True).mean(), '--', label='CMA Period=2')\n",
        "plt.plot(AirPassenger.iloc[1:12].rolling(3, center=True).mean(), '--', label='CMA Period=3')\n",
        "plt.plot(AirPassenger.iloc[1:12].rolling(4, center=True).mean(), '--', label='CMA Period=4')\n",
        "plt.plot(AirPassenger.iloc[1:12].rolling(5, center=True).mean(), '--', label='CMA Period=5')\n",
        "plt.legend()\n",
        "plt.xlabel('Year', fontsize=15)\n",
        "plt.ylabel('Passengers', fontsize=15)\n",
        "plt.title('Centered Moving Average with different periods', weight='bold', fontsize=18)\n",
        "plt.show()"
      ],
      "metadata": {
        "id": "roSM3HRBMcko"
      },
      "execution_count": null,
      "outputs": []
    },
    {
      "cell_type": "markdown",
      "source": [
        "### Exponential Smoothing"
      ],
      "metadata": {
        "id": "Z9GQHLc9N-jB"
      }
    },
    {
      "cell_type": "code",
      "source": [
        "# Importing libraries\n",
        "import numpy as np\n",
        "import pandas as pd\n",
        "\n",
        "AirPassenger = pd.read_csv('AirPassengers.csv')\n",
        "\n",
        "# Exponential smoothing is calculated and rounded off to 2 decimal values\n",
        "np.round(AirPassenger.ewm(alpha=0.2,adjust=False).mean().head(12), 2)"
      ],
      "metadata": {
        "colab": {
          "base_uri": "https://localhost:8080/",
          "height": 426
        },
        "id": "pCMuP-u1gE3P",
        "outputId": "f0e444b6-63ce-4cca-d13d-7bcf2e4fca62"
      },
      "execution_count": null,
      "outputs": [
        {
          "output_type": "execute_result",
          "data": {
            "text/plain": [
              "    Passengers\n",
              "0       112.00\n",
              "1       113.20\n",
              "2       116.96\n",
              "3       119.37\n",
              "4       119.69\n",
              "5       122.76\n",
              "6       127.80\n",
              "7       131.84\n",
              "8       132.67\n",
              "9       129.94\n",
              "10      124.75\n",
              "11      123.40"
            ],
            "text/html": [
              "\n",
              "  <div id=\"df-6f45c4ad-2e02-49d3-9e16-4b23909babb8\">\n",
              "    <div class=\"colab-df-container\">\n",
              "      <div>\n",
              "<style scoped>\n",
              "    .dataframe tbody tr th:only-of-type {\n",
              "        vertical-align: middle;\n",
              "    }\n",
              "\n",
              "    .dataframe tbody tr th {\n",
              "        vertical-align: top;\n",
              "    }\n",
              "\n",
              "    .dataframe thead th {\n",
              "        text-align: right;\n",
              "    }\n",
              "</style>\n",
              "<table border=\"1\" class=\"dataframe\">\n",
              "  <thead>\n",
              "    <tr style=\"text-align: right;\">\n",
              "      <th></th>\n",
              "      <th>Passengers</th>\n",
              "    </tr>\n",
              "  </thead>\n",
              "  <tbody>\n",
              "    <tr>\n",
              "      <th>0</th>\n",
              "      <td>112.00</td>\n",
              "    </tr>\n",
              "    <tr>\n",
              "      <th>1</th>\n",
              "      <td>113.20</td>\n",
              "    </tr>\n",
              "    <tr>\n",
              "      <th>2</th>\n",
              "      <td>116.96</td>\n",
              "    </tr>\n",
              "    <tr>\n",
              "      <th>3</th>\n",
              "      <td>119.37</td>\n",
              "    </tr>\n",
              "    <tr>\n",
              "      <th>4</th>\n",
              "      <td>119.69</td>\n",
              "    </tr>\n",
              "    <tr>\n",
              "      <th>5</th>\n",
              "      <td>122.76</td>\n",
              "    </tr>\n",
              "    <tr>\n",
              "      <th>6</th>\n",
              "      <td>127.80</td>\n",
              "    </tr>\n",
              "    <tr>\n",
              "      <th>7</th>\n",
              "      <td>131.84</td>\n",
              "    </tr>\n",
              "    <tr>\n",
              "      <th>8</th>\n",
              "      <td>132.67</td>\n",
              "    </tr>\n",
              "    <tr>\n",
              "      <th>9</th>\n",
              "      <td>129.94</td>\n",
              "    </tr>\n",
              "    <tr>\n",
              "      <th>10</th>\n",
              "      <td>124.75</td>\n",
              "    </tr>\n",
              "    <tr>\n",
              "      <th>11</th>\n",
              "      <td>123.40</td>\n",
              "    </tr>\n",
              "  </tbody>\n",
              "</table>\n",
              "</div>\n",
              "      <button class=\"colab-df-convert\" onclick=\"convertToInteractive('df-6f45c4ad-2e02-49d3-9e16-4b23909babb8')\"\n",
              "              title=\"Convert this dataframe to an interactive table.\"\n",
              "              style=\"display:none;\">\n",
              "        \n",
              "  <svg xmlns=\"http://www.w3.org/2000/svg\" height=\"24px\"viewBox=\"0 0 24 24\"\n",
              "       width=\"24px\">\n",
              "    <path d=\"M0 0h24v24H0V0z\" fill=\"none\"/>\n",
              "    <path d=\"M18.56 5.44l.94 2.06.94-2.06 2.06-.94-2.06-.94-.94-2.06-.94 2.06-2.06.94zm-11 1L8.5 8.5l.94-2.06 2.06-.94-2.06-.94L8.5 2.5l-.94 2.06-2.06.94zm10 10l.94 2.06.94-2.06 2.06-.94-2.06-.94-.94-2.06-.94 2.06-2.06.94z\"/><path d=\"M17.41 7.96l-1.37-1.37c-.4-.4-.92-.59-1.43-.59-.52 0-1.04.2-1.43.59L10.3 9.45l-7.72 7.72c-.78.78-.78 2.05 0 2.83L4 21.41c.39.39.9.59 1.41.59.51 0 1.02-.2 1.41-.59l7.78-7.78 2.81-2.81c.8-.78.8-2.07 0-2.86zM5.41 20L4 18.59l7.72-7.72 1.47 1.35L5.41 20z\"/>\n",
              "  </svg>\n",
              "      </button>\n",
              "      \n",
              "  <style>\n",
              "    .colab-df-container {\n",
              "      display:flex;\n",
              "      flex-wrap:wrap;\n",
              "      gap: 12px;\n",
              "    }\n",
              "\n",
              "    .colab-df-convert {\n",
              "      background-color: #E8F0FE;\n",
              "      border: none;\n",
              "      border-radius: 50%;\n",
              "      cursor: pointer;\n",
              "      display: none;\n",
              "      fill: #1967D2;\n",
              "      height: 32px;\n",
              "      padding: 0 0 0 0;\n",
              "      width: 32px;\n",
              "    }\n",
              "\n",
              "    .colab-df-convert:hover {\n",
              "      background-color: #E2EBFA;\n",
              "      box-shadow: 0px 1px 2px rgba(60, 64, 67, 0.3), 0px 1px 3px 1px rgba(60, 64, 67, 0.15);\n",
              "      fill: #174EA6;\n",
              "    }\n",
              "\n",
              "    [theme=dark] .colab-df-convert {\n",
              "      background-color: #3B4455;\n",
              "      fill: #D2E3FC;\n",
              "    }\n",
              "\n",
              "    [theme=dark] .colab-df-convert:hover {\n",
              "      background-color: #434B5C;\n",
              "      box-shadow: 0px 1px 3px 1px rgba(0, 0, 0, 0.15);\n",
              "      filter: drop-shadow(0px 1px 2px rgba(0, 0, 0, 0.3));\n",
              "      fill: #FFFFFF;\n",
              "    }\n",
              "  </style>\n",
              "\n",
              "      <script>\n",
              "        const buttonEl =\n",
              "          document.querySelector('#df-6f45c4ad-2e02-49d3-9e16-4b23909babb8 button.colab-df-convert');\n",
              "        buttonEl.style.display =\n",
              "          google.colab.kernel.accessAllowed ? 'block' : 'none';\n",
              "\n",
              "        async function convertToInteractive(key) {\n",
              "          const element = document.querySelector('#df-6f45c4ad-2e02-49d3-9e16-4b23909babb8');\n",
              "          const dataTable =\n",
              "            await google.colab.kernel.invokeFunction('convertToInteractive',\n",
              "                                                     [key], {});\n",
              "          if (!dataTable) return;\n",
              "\n",
              "          const docLinkHtml = 'Like what you see? Visit the ' +\n",
              "            '<a target=\"_blank\" href=https://colab.research.google.com/notebooks/data_table.ipynb>data table notebook</a>'\n",
              "            + ' to learn more about interactive tables.';\n",
              "          element.innerHTML = '';\n",
              "          dataTable['output_type'] = 'display_data';\n",
              "          await google.colab.output.renderOutput(dataTable, element);\n",
              "          const docLink = document.createElement('div');\n",
              "          docLink.innerHTML = docLinkHtml;\n",
              "          element.appendChild(docLink);\n",
              "        }\n",
              "      </script>\n",
              "    </div>\n",
              "  </div>\n",
              "  "
            ]
          },
          "metadata": {},
          "execution_count": 24
        }
      ]
    },
    {
      "cell_type": "code",
      "source": [
        "# Importing libraries\n",
        "import numpy as np\n",
        "\n",
        "# Exponential smoothing is calculated and rounded off to 2 decimal values\n",
        "np.round(AirPassenger.ewm(alpha=0.2,adjust=False).mean().head(-12), 2)"
      ],
      "metadata": {
        "id": "jOLXmxbmOAe_"
      },
      "execution_count": null,
      "outputs": []
    },
    {
      "cell_type": "code",
      "source": [
        "# Importing libraries\n",
        "import pandas as pd\n",
        "\n",
        "# Setting frequency\n",
        "dateparse = lambda dates: pd.datetime.strptime(dates, \"%m/%d/%Y\")\n",
        "AirPassenger = pd.read_csv('AirPassengers.csv', index_col='Travel date', date_parser=dateparse)\n",
        "AirPassenger = AirPassenger.resample('M').mean()\n",
        "AirPassenger.head()"
      ],
      "metadata": {
        "colab": {
          "base_uri": "https://localhost:8080/",
          "height": 292
        },
        "id": "o10rEKCFdVLx",
        "outputId": "1835eac1-1246-4fe0-a015-226824be8a50"
      },
      "execution_count": null,
      "outputs": [
        {
          "output_type": "stream",
          "name": "stderr",
          "text": [
            "/usr/local/lib/python3.7/dist-packages/ipykernel_launcher.py:5: FutureWarning: The pandas.datetime class is deprecated and will be removed from pandas in a future version. Import from datetime module instead.\n",
            "  \"\"\"\n"
          ]
        },
        {
          "output_type": "execute_result",
          "data": {
            "text/plain": [
              "             Passengers\n",
              "Travel date            \n",
              "1949-01-31        112.0\n",
              "1949-02-28        118.0\n",
              "1949-03-31        132.0\n",
              "1949-04-30        129.0\n",
              "1949-05-31        121.0"
            ],
            "text/html": [
              "\n",
              "  <div id=\"df-997a69c6-f450-46bd-bd34-cbdb5d45a74b\">\n",
              "    <div class=\"colab-df-container\">\n",
              "      <div>\n",
              "<style scoped>\n",
              "    .dataframe tbody tr th:only-of-type {\n",
              "        vertical-align: middle;\n",
              "    }\n",
              "\n",
              "    .dataframe tbody tr th {\n",
              "        vertical-align: top;\n",
              "    }\n",
              "\n",
              "    .dataframe thead th {\n",
              "        text-align: right;\n",
              "    }\n",
              "</style>\n",
              "<table border=\"1\" class=\"dataframe\">\n",
              "  <thead>\n",
              "    <tr style=\"text-align: right;\">\n",
              "      <th></th>\n",
              "      <th>Passengers</th>\n",
              "    </tr>\n",
              "    <tr>\n",
              "      <th>Travel date</th>\n",
              "      <th></th>\n",
              "    </tr>\n",
              "  </thead>\n",
              "  <tbody>\n",
              "    <tr>\n",
              "      <th>1949-01-31</th>\n",
              "      <td>112.0</td>\n",
              "    </tr>\n",
              "    <tr>\n",
              "      <th>1949-02-28</th>\n",
              "      <td>118.0</td>\n",
              "    </tr>\n",
              "    <tr>\n",
              "      <th>1949-03-31</th>\n",
              "      <td>132.0</td>\n",
              "    </tr>\n",
              "    <tr>\n",
              "      <th>1949-04-30</th>\n",
              "      <td>129.0</td>\n",
              "    </tr>\n",
              "    <tr>\n",
              "      <th>1949-05-31</th>\n",
              "      <td>121.0</td>\n",
              "    </tr>\n",
              "  </tbody>\n",
              "</table>\n",
              "</div>\n",
              "      <button class=\"colab-df-convert\" onclick=\"convertToInteractive('df-997a69c6-f450-46bd-bd34-cbdb5d45a74b')\"\n",
              "              title=\"Convert this dataframe to an interactive table.\"\n",
              "              style=\"display:none;\">\n",
              "        \n",
              "  <svg xmlns=\"http://www.w3.org/2000/svg\" height=\"24px\"viewBox=\"0 0 24 24\"\n",
              "       width=\"24px\">\n",
              "    <path d=\"M0 0h24v24H0V0z\" fill=\"none\"/>\n",
              "    <path d=\"M18.56 5.44l.94 2.06.94-2.06 2.06-.94-2.06-.94-.94-2.06-.94 2.06-2.06.94zm-11 1L8.5 8.5l.94-2.06 2.06-.94-2.06-.94L8.5 2.5l-.94 2.06-2.06.94zm10 10l.94 2.06.94-2.06 2.06-.94-2.06-.94-.94-2.06-.94 2.06-2.06.94z\"/><path d=\"M17.41 7.96l-1.37-1.37c-.4-.4-.92-.59-1.43-.59-.52 0-1.04.2-1.43.59L10.3 9.45l-7.72 7.72c-.78.78-.78 2.05 0 2.83L4 21.41c.39.39.9.59 1.41.59.51 0 1.02-.2 1.41-.59l7.78-7.78 2.81-2.81c.8-.78.8-2.07 0-2.86zM5.41 20L4 18.59l7.72-7.72 1.47 1.35L5.41 20z\"/>\n",
              "  </svg>\n",
              "      </button>\n",
              "      \n",
              "  <style>\n",
              "    .colab-df-container {\n",
              "      display:flex;\n",
              "      flex-wrap:wrap;\n",
              "      gap: 12px;\n",
              "    }\n",
              "\n",
              "    .colab-df-convert {\n",
              "      background-color: #E8F0FE;\n",
              "      border: none;\n",
              "      border-radius: 50%;\n",
              "      cursor: pointer;\n",
              "      display: none;\n",
              "      fill: #1967D2;\n",
              "      height: 32px;\n",
              "      padding: 0 0 0 0;\n",
              "      width: 32px;\n",
              "    }\n",
              "\n",
              "    .colab-df-convert:hover {\n",
              "      background-color: #E2EBFA;\n",
              "      box-shadow: 0px 1px 2px rgba(60, 64, 67, 0.3), 0px 1px 3px 1px rgba(60, 64, 67, 0.15);\n",
              "      fill: #174EA6;\n",
              "    }\n",
              "\n",
              "    [theme=dark] .colab-df-convert {\n",
              "      background-color: #3B4455;\n",
              "      fill: #D2E3FC;\n",
              "    }\n",
              "\n",
              "    [theme=dark] .colab-df-convert:hover {\n",
              "      background-color: #434B5C;\n",
              "      box-shadow: 0px 1px 3px 1px rgba(0, 0, 0, 0.15);\n",
              "      filter: drop-shadow(0px 1px 2px rgba(0, 0, 0, 0.3));\n",
              "      fill: #FFFFFF;\n",
              "    }\n",
              "  </style>\n",
              "\n",
              "      <script>\n",
              "        const buttonEl =\n",
              "          document.querySelector('#df-997a69c6-f450-46bd-bd34-cbdb5d45a74b button.colab-df-convert');\n",
              "        buttonEl.style.display =\n",
              "          google.colab.kernel.accessAllowed ? 'block' : 'none';\n",
              "\n",
              "        async function convertToInteractive(key) {\n",
              "          const element = document.querySelector('#df-997a69c6-f450-46bd-bd34-cbdb5d45a74b');\n",
              "          const dataTable =\n",
              "            await google.colab.kernel.invokeFunction('convertToInteractive',\n",
              "                                                     [key], {});\n",
              "          if (!dataTable) return;\n",
              "\n",
              "          const docLinkHtml = 'Like what you see? Visit the ' +\n",
              "            '<a target=\"_blank\" href=https://colab.research.google.com/notebooks/data_table.ipynb>data table notebook</a>'\n",
              "            + ' to learn more about interactive tables.';\n",
              "          element.innerHTML = '';\n",
              "          dataTable['output_type'] = 'display_data';\n",
              "          await google.colab.output.renderOutput(dataTable, element);\n",
              "          const docLink = document.createElement('div');\n",
              "          docLink.innerHTML = docLinkHtml;\n",
              "          element.appendChild(docLink);\n",
              "        }\n",
              "      </script>\n",
              "    </div>\n",
              "  </div>\n",
              "  "
            ]
          },
          "metadata": {},
          "execution_count": 28
        }
      ]
    },
    {
      "cell_type": "markdown",
      "source": [
        "https://koalatea.io/python-ses-timeseries/#:~:text=To%20create%20a%20simple%20exponential%20smoothing%20model%2C%20we%20can%20use,alpha%20we%20want%20to%20use.&text=Now%20that%20we%20have%20the,forecast%20using%20the%20forcast%20method.\n",
        "\n",
        "model.forecast(1) - Means predicting for next 1 month\n",
        "\n",
        "model.forecast(x) - Means predicting for next x month"
      ],
      "metadata": {
        "id": "-sQ7ZAc2e34k"
      }
    },
    {
      "cell_type": "code",
      "source": [
        "# Importing libraries\n",
        "import numpy as np\n",
        "# Simple exponential smoothing\n",
        "# Finding alpha value for the forecasted value and mean squared error\n",
        "from statsmodels.tsa.holtwinters import SimpleExpSmoothing\n",
        "from sklearn.metrics import mean_squared_error\n",
        "for i in range(1, 11):\n",
        "    model = SimpleExpSmoothing(AirPassenger.iloc[:131]).fit(smoothing_level=i/10, optimized=False)\n",
        "    forecasted_val = np.round(model.forecast(1), 2)\n",
        "    print('alpha = ', i/10, '| Forecasted value: ', forecasted_val, \n",
        "          '| MSE: ', np.round(mean_squared_error(np.array(AirPassenger.iloc[131]), np.array([forecasted_val])), 2))"
      ],
      "metadata": {
        "colab": {
          "base_uri": "https://localhost:8080/"
        },
        "id": "1YkvxnyYeVyv",
        "outputId": "c1b3e9cf-0cc9-46ac-97d8-6128aca173fb"
      },
      "execution_count": null,
      "outputs": [
        {
          "output_type": "stream",
          "name": "stdout",
          "text": [
            "alpha =  0.1 | Forecasted value:  1959-12-31    416.61\n",
            "Freq: M, dtype: float64 | MSE:  134.79\n",
            "alpha =  0.2 | Forecasted value:  1959-12-31    431.22\n",
            "Freq: M, dtype: float64 | MSE:  687.49\n",
            "alpha =  0.3 | Forecasted value:  1959-12-31    428.98\n",
            "Freq: M, dtype: float64 | MSE:  575.04\n",
            "alpha =  0.4 | Forecasted value:  1959-12-31    419.08\n",
            "Freq: M, dtype: float64 | MSE:  198.25\n",
            "alpha =  0.5 | Forecasted value:  1959-12-31    406.36\n",
            "Freq: M, dtype: float64 | MSE:  1.85\n",
            "alpha =  0.6 | Forecasted value:  1959-12-31    393.78\n",
            "Freq: M, dtype: float64 | MSE:  125.89\n",
            "alpha =  0.7 | Forecasted value:  1959-12-31    382.81\n",
            "Freq: M, dtype: float64 | MSE:  492.4\n",
            "alpha =  0.8 | Forecasted value:  1959-12-31    373.96\n",
            "Freq: M, dtype: float64 | MSE:  963.48\n",
            "alpha =  0.9 | Forecasted value:  1959-12-31    367.15\n",
            "Freq: M, dtype: float64 | MSE:  1432.62\n",
            "alpha =  1.0 | Forecasted value:  1959-12-31    362.0\n",
            "Freq: M, dtype: float64 | MSE:  1849.0\n"
          ]
        }
      ]
    },
    {
      "cell_type": "code",
      "source": [
        "# Importing libraries\n",
        "import numpy as np\n",
        "import scipy as sp\n",
        "# Function to find optimum value of alpha\n",
        "def optimum_alpha(x):\n",
        "    model = SimpleExpSmoothing(AirPassenger.iloc[:131]).fit(smoothing_level=x, optimized = False)\n",
        "    forecasted_val = np.round(model.forecast(1), 2)\n",
        "    mse = np.round(mean_squared_error(np.array(AirPassenger.iloc[131]), np.array([forecasted_val])), 2)\n",
        "    print('alpha: ', np.round(x[0], 5), 'MSE: ', mse)\n",
        "    return mse\n",
        "optimum_alpha_result = sp.optimize.fmin(optimum_alpha, x0=1)\n",
        "if optimum_alpha_result < 0:\n",
        "    optimum_alpha_result = 0.001 # Least value, you can perform further optimization to improve it\n",
        "optimum_alpha_result"
      ],
      "metadata": {
        "colab": {
          "base_uri": "https://localhost:8080/"
        },
        "id": "GZ0RMg0ge60S",
        "outputId": "23dd02f9-8a96-46de-db1f-1349385da936"
      },
      "execution_count": null,
      "outputs": [
        {
          "output_type": "stream",
          "name": "stdout",
          "text": [
            "alpha:  1.0 MSE:  1849.0\n",
            "alpha:  1.05 MSE:  2035.81\n",
            "alpha:  0.95 MSE:  1648.36\n",
            "alpha:  0.9 MSE:  1432.62\n",
            "alpha:  0.8 MSE:  963.48\n",
            "alpha:  0.7 MSE:  492.4\n",
            "alpha:  0.5 MSE:  1.85\n",
            "alpha:  0.3 MSE:  575.04\n",
            "alpha:  0.3 MSE:  575.04\n",
            "alpha:  0.6 MSE:  125.89\n",
            "alpha:  0.4 MSE:  198.25\n",
            "alpha:  0.55 MSE:  25.7\n",
            "alpha:  0.45 MSE:  61.62\n",
            "alpha:  0.525 MSE:  3.5\n",
            "alpha:  0.475 MSE:  21.25\n",
            "alpha:  0.5125 MSE:  0.07\n",
            "alpha:  0.525 MSE:  3.5\n",
            "alpha:  0.50625 MSE:  0.3\n",
            "alpha:  0.51875 MSE:  1.14\n",
            "alpha:  0.50937 MSE:  0.02\n",
            "alpha:  0.50625 MSE:  0.3\n",
            "alpha:  0.51094 MSE:  0.0\n",
            "alpha:  0.5125 MSE:  0.07\n",
            "alpha:  0.51016 MSE:  0.0\n",
            "alpha:  0.51172 MSE:  0.03\n",
            "alpha:  0.51055 MSE:  0.0\n",
            "alpha:  0.51055 MSE:  0.0\n",
            "alpha:  0.51133 MSE:  0.01\n",
            "alpha:  0.51074 MSE:  0.0\n",
            "alpha:  0.51074 MSE:  0.0\n",
            "alpha:  0.51113 MSE:  0.01\n",
            "alpha:  0.51084 MSE:  0.0\n",
            "alpha:  0.51084 MSE:  0.0\n",
            "Optimization terminated successfully.\n",
            "         Current function value: 0.000000\n",
            "         Iterations: 15\n",
            "         Function evaluations: 33\n"
          ]
        },
        {
          "output_type": "execute_result",
          "data": {
            "text/plain": [
              "array([0.5109375])"
            ]
          },
          "metadata": {},
          "execution_count": 32
        }
      ]
    },
    {
      "cell_type": "code",
      "source": [
        "# Importing libraries\n",
        "import numpy as np\n",
        "# Creating model using optimum alpha value\n",
        "model = SimpleExpSmoothing(AirPassenger.iloc[:131]).fit(smoothing_level=optimum_alpha_result, optimized = False)\n",
        "forecasted_val = np.round(model.forecast(1)[0], 2)\n",
        "mse = np.round(mean_squared_error(np.array(AirPassenger.iloc[131]), np.array([forecasted_val])), 2)\n",
        "print('Alpha: ', optimum_alpha_result[0], \n",
        "      '\\nActual value: ', AirPassenger.iloc[131][0], \n",
        "      '\\nForecasted value: ', np.round(forecasted_val).astype(int),\n",
        "      '\\nMean Squared Error: ', mse)"
      ],
      "metadata": {
        "id": "KydaybypfIl6"
      },
      "execution_count": null,
      "outputs": []
    },
    {
      "cell_type": "code",
      "source": [
        "# Importing libraries\n",
        "import numpy as np\n",
        "# Forecasting values for next year\n",
        "forecasted_data=np.round(model.forecast(13)).astype(int)\n",
        "forecasted_data"
      ],
      "metadata": {
        "id": "KWIdcTzCgplf"
      },
      "execution_count": null,
      "outputs": []
    },
    {
      "cell_type": "code",
      "source": [
        "# Importing libraries\n",
        "import matplotlib.pyplot as plt\n",
        "# Visualizing the forecasted value\n",
        "plt.plot(AirPassenger.iloc[:131], label='Previous data')\n",
        "plt.plot(AirPassenger.iloc[130:], label='Actual data')\n",
        "plt.plot(forecasted_data, label='Forecasted data')\n",
        "plt.xlabel('Year', fontsize=15)\n",
        "plt.ylabel('Passengers', fontsize=15)\n",
        "plt.title('Simple exponential smoothing', weight='bold', fontsize=18)\n",
        "plt.legend()\n",
        "plt.show()"
      ],
      "metadata": {
        "id": "pF_U4puFgwnB"
      },
      "execution_count": null,
      "outputs": []
    },
    {
      "cell_type": "markdown",
      "source": [
        "For the following time series, you are given the moving average forecast. Compute the mean squared error.\n",
        "\n",
        "![image.png](data:image/png;base64,iVBORw0KGgoAAAANSUhEUgAAAYsAAAD5CAYAAADWfRn1AAAgAElEQVR4nO3dX0xb5+H/8bd/ylSNKrsBZcsF+QshSpquJBKajBaJXyD7QhUpjbRRFamUtDFVLgJVGrGwKqNVlg6lVU0vouC0UCIxlU7tKkXBW6CjYsKakFLaxouSYBL+XGSLEukrRc0u/b04x/axMRxDAgY/n5dkCexj89jncD7n+WtPOByOIiIiMo81AM1d/5vtcoiIyAr2/7JdABERWfkUFiIi4kphISIirhQWIiLiSmEhIiKuFBYiIuJKYSEiIq4UFiIi4kphISIirhQWIiLiSmEhIiKuFBYiIuJKYSEiIq4UFiIi4kphISIirhQWIiLiSmEhIiKuFBYiIuJqTbYLICKrQ+Ur5bTsiv32iL73xvjobupWBbzdUoJ3nf3rtZtUfXL/yRZk/Qa63iykcM4yLJH43wV4QPvxGwwu059eCVSzEJFFyMP73NOz795dkAiKHLP1uXw7KADyeak6zfvPYQoLEVmQmXuPACisLKQy6ZGnea0qP2mbJXF3msPHR6g6voy1Cp6m4tk84AF9gw8AKHw2n63L9edXADVDicjCfP+AUGUeXvL55W4Y/Ma+f32+Xat4QOj7H1NbOfupW3dv53dV+RTGax+PCA3OcDF4nwkcTV0pzVdbq0s5X5ln3f+3vJRmqKd5reU5atc9oP29+/zy5UQz2My1Gf7wyTQTsRdaX8DbjscTXJq0Yu/t3iOGgo8orMzHuy6fivXTTNjPyajs9v1bq7fzu8pETWXm2k3+8Ml9u5wFvP1+Cd57M7QP5PFSXT6FdrPXnVmf3+Lf4/xlmE01CxFZoAdcHLRqDt5nC+L3Vv7Kas+fGZxhKM2ztlaXcr4u+UQHeXgrSzj/ivU6g99bV+3sKnDUWmJX9RD6fr7+j3xa3kw+SRbuKoy/NhTw9psleNc9IjR4k/bBB8xk9H4TTVAz3z9ggvv845pddkdTXKZlr3ylnPOVziYtKNxVwvmWDck1lXWFtNQ5tyvg5Vmf3+LeY8ZlcFBYiMiCTXxrn4R2FfLaeoACfrkL4BGhb39I84wCXq60Tpozg99SdXyEquMjvG6HTvx1vrlPCMCutQCwu5Bau8byj29SXzfFvQe0vzdC1fFvab9m3/fTPOsEuD7POjlem+H3wfsMBm/wJ3ubUO98TVqxsifeWywYkpqiMin7+g28ZH9Ofe9Zn0HVezet563Lp2J9yp++dpPXj49QdfwGg9znYu9NXo897/gIr9tNYgt6jwstg03NUCKycHcfELpXSO066+p66LlCvAD3HjB0F3guZfvdBdbjPOBPwUSYTARnCFWW4CWPwvXA3fv841oJ3l12reWb+1Q+a/WDcO2+6+ij0MANBu8C/MDg9w9o2ZXvKPMjZrCuxN+uhn9QED9pzszX9xEre+y9xV8rn8J1hby8e5rffwOQQdljJ3PyqH2znNqkPxT7DGK/P6Lvb8nNQhN34e2XS/Guy0tf1kze44LKkKCwEJFF+IGPBh5QW5dPYWUhL9+zm1oGrLbzx+n4jZ/kf5rHVudV8N8edwjuf5m5B6yzmr5iAdB38ca8HeXxE/66Qs6/Xzjr8VgwLG3ZSRm6O5fFvcdMKCxEZHG+uU+oLh8viY7tOZuJYlfi9pDTQbt2sbW6MF7jiD839rrr8nn5V1gnR+dV/WLZTUIzg99yOJiuqSydWPPaPHYVUIldc3Are/xzWMQckViN4N4D2tutOR5bq7dzvtJRe8rkPS6yDAoLEVmkRLMLMH8z0d1p/nStkJZdUFj5HAMpI6VmBmccz429bl78ta2O5Scj9e/P3HvAny7Gmq9SxJugZni9fTq5DPErfeeoMJeyxz+HdE1ALhP94k1f+bS8X07LYt/jIsugDm4RWbTB72OjbdybWgY/+Xb26Jx7jwj1zr4Kjo8sAlL7ORYt3gGdrHBdPi1vbifNSN94E1TasLr7gNA960fnqDC3sg9+8i3t1x5lPBIr8fem+UOv8/Ozhh0nvacM3+NiyuAJh8PR5q7/XWixZTns3s5AXX76qxoxU7aWusgBsXkQSU00u7fT5ZjHsNqX71jK9/gEmqFiE2Lm2eTeDK9fhN9l+SBPXtsm5pE9qWXuySgZW1X/yKtnv8HTVL6yjZd25SUmEM3XdLAQS7zP5pqoFROfsKULgmWTrhksk5FWq8lSvEc1Q5HnOhlFsskKtRZHUIBdrf5VwZzPWinST9SKSUzYepJt8pLe4Cff0jer6cWavPb6k17sMEuW8j0+gZrFD3zUPsJH9m/zXUkdPj79+H/uSUiZdn++Mh+Sxksv0t3plfMeXa2S/RZfQsJ55f80ldWFvPTTJ/D6S73PHCOGkpbGgKTlMZ5Im7y4+IGPPhmLH/O5aene4/KNhppV3Z9vPZeb/OGT/7L5lW207LKvvFLXP2Hha5ukMxG8T6gy3x6+l+lrz7F2y3uPeClNk4bbejgWq6kl9n6594D27xfwRpbKitlveRSufxru/gD8wGBwdtvrE91nLmXcunsDv6sqtPfpI0K9t/j9N+lO+LMnasXElsdwNg/MPlbSf4YJiebEUO9I4mJnjv6uJ/E/I2ZaAc1Q6dZzKeH8+88lTpykrn+yuLVNZrOuUK2gSMxwXPzaLbNlsh6O9TeT3y/r8mlxjp9ecZZpvzlHnNQ9x0BLKW/vfnrWtk9yn7m+1voN/K6u0LFP8/DWpa7AmpC+KSoxfj+x3lEma/8s3pP5nxFTrYCwIGk9l757sTutIXVJ68fE1z9Z3NomcbtKGHi/nIH3n6PFXq+GazOLWzclae2WVBmuh+M4ccS3e++m47NYoZZlv/3AR+1WOyxgzUyte47z71uhwWJed759lslrOSdHZbKv0q4ZVDB7Mloma/8s1uP+z4jxVsSkPOd6LkPfP6K2Ms9aCMuu1k/8579AHqzLYzMwsci1TdK694jQgKMJ4THXbkmS6Xo4xP6mY7u79/looIDaupVbu1i+/RZrh7X7KirzKSQPb902Xrs7xkdPcp9l8lqOWbot75fzUmxk1pyf1NxrBiVPRstg7Z/FepL/M2KkFREWy24pvupRloHdVxG0+x/iYbvc7vP74/9NBNe6fFreLGXTPENv42sG7Sqgcj3pV2jNaO0fkexYnWHxOOurLOdrZ7oeTvyE59hufUH8W8dyxmI+293b6aqCP12cYfCu/fntTh5GuzT7bJ7X2r2drmfv84dPbnA4GOtgtlZf/ejuHKOaHKOiXnr5x+nXO8pk7Z95eJ8tYOs395lId+ws5f+MGGGVhsVjrK+ynK+d6Xo4LtvljEV8tlt/+mMK1+XR8mb+7LVw7s1w8RuApdhn87+W1ZlfkvTozH/mG/6aaIoqXDfH3IoFrP2T4GgCTFOmhb4vkbmsjA7uRVj0+irL/NqZrocTm0yT2OYB7bEOyByy0M92InjL+vycHcj37ElGjiGhT3yfzfda38zQnrSvrP3pNkdn8G8zjtdMM7cik7V/0pgI3kopT/pjZyn/ZyT3aW0oERFxtTqboUTEIHOvY7aw76aQx7Fqm6FERHJJ5Svl1vyvJzABcymoZiEiq4ZqEtmjsBCRnOC+Btsc64MdTwxTdls3K3mb5DXBMlnXK/2aYiQ3s+0qYeD9khU3H0zNUCKy6mW6BhuQdn2wTNbNsr57xLmNvYqAvWSP67peC1xTbKVRzUJEVo3UeUjWSrvJa7Adjk9+tb9Yalchr62/nzwR8Zr1/Q4TYM2cj6+bZU9YXF/A22+W4F2XT8X6aSbupvkb6wt47eVYdNznYi9cvHufCcfKxecr8+Prek2kTrpcX8BrLxcQ+7qASZcvyso2hYWIrG6ZrsE21/pgmaybNdf6be2Jk7rrul4LXlNsZVFYiMiqkbaDe3f6bZ+o9Xnzr9mV0bpeC19TbCVRWIjI6pbpGmyuz59n3az1af5GrBnp4o3Eysfzreu1mDXFVhCFhYisbpmuweb6/HnWzZrzbzyiDzJe12u+NcXu/OcR7MrTaCgRkaWS6Rps8z7fZd2s2ds8IjR4y6qJZLKul8uaYhPBW0nrw83857+u5V5OWhtKRERcqWYhIiKuFBYiIuJKYSEiIq4UFiIi4kphISIirhQWIiLiSmEhIiKuFBYiIuJKYSEiIq4UFiIi4kphISIirhQWIiLiSmEhIiKuFBYiIuJKYSEiIq4UFiIi4kphISIirhQWIiLiyhMOh6M/+snGbJdDltjlf/4bgOd/8bMsl0RWOh0r4hQ7HlSzEBERVwoLERFxpbAQERFXCgsREXGlsBAREVcKCxERcWVYWNxm+OQ+SjaspWTDMYazXRxZJgOc2rDW3u/W7dTQYraRnDF0bJ7zgHUsvNh1O80Tb9PzgpnHhzFhMTV0jBc3/JwjvaPZLoosq9v0vHAIeh5yc9q6XaiDvvrkf/bhk+m22UfPZPZKLktn6s6/7J+6OXJyIPMnDvk5c7WB2jrou7KA5+UAc8LiSjfUtXOhrSHbRZFltYX6vzzknYrEPXsb2ykFbt1JXDnufTfdNqME/57u6lJyQwOtbWXQ+8eMLwqGr3RD3QHe2d8AvZeMap0wJiz2vvuQT989yt7N2S6JrCbbNm/JdhFkCW0+fIHWPaOceeMcU65bDzDYC7X7q6DiALV0cy5tU1VuMiYsROLu3GCM+YLgNj1vtDC2p51XK+bYRHLEFuqPNcDVFj5264MYukQfDVRWAFRRWQdjl/6aQcjkBoWFGGaAU/XdMCsIEh2XJRt+zpmrDVz4y1G0apoBKj60+6jmG/Rym54PrSaovfY9e/c3wNXP+dqQfi2FhRhl+OQh+iij9YPUILD6NmId3Ffa/sWROUfESK6x+qjmaVaa/CvBq3YTVEzFAWoN6tdSWIgxhk+u5UhvGa3DX1G/af5tNx6+QOseGGvzG9WJaaxNR2lvK2Os7Ujazu6pv3/OGNYousTw6kP0Yc4xorAQI1hBAbU97kGRZM92NUUZYuPh31LLKGc6L6U8cpuvL41C3Rfxmmf81tMAdDNowJwLY8Ji+KR9NVDfbd/TzZENaynZoLH0uW6qa58dFMnDYxMGOJU6OWvIz5mrUHrgfxQWxqjinZ4G6O2mz3m3fSwkNUHFVBygFjPmXBgTFmKqAT5usyZiJjchOC8UqnjV7qOIP1bfTW3PQz49rKGzRrE7uyExWm74SjfER0GlskZFmTDnQt+UZwh9+5lkSseKOOmb8kREJGMKCxERcaWwEBERVwoLERFx5QmHw9Er15/KdjlERGQFU81CRERcrQF449dF2S6HLLEP/hwBtK/FnY4VcYodD6pZiIiIK4WFiIi4UliIiIgrhYWIiLhSWIiIiCuFhYiIuDInLCJBOhrLKfd48Hg8eDzllDcGiWS7XLJ8go3Wvm8MJt8f6XAcF7NvqZtLDogdC55GZu/eII0eD+Ud6c4OETrKzTwuDAmLII3FNTQHQoTi94UIBWooNm2PG8n+B68JpH+4qImRaJRoym3c7wV8HKxe1sLKMojcCts/BahZyDkgeJbmkA+fDwJfmnXuMCQsAK8Pf/+4dSIY9+OL3R/4Ms2VheSSSEc9zSEv/vFx/N5MnxXkbHMIfAdRVuQqH36/FwKnSVuJSCP4ZQB8B+k86DPu3GFIWFTTOdJJU7U9I7XoeXZkfNKQ1a6oaYRodISmBUxIjnScJoAX/wlFRS7b1tSD3xuiub4jgybpIFZWVEP1QXwEOJ1pyuQAQ8Ii1TjXY+1RunKUWSJc/iwEvrcWFDCyGhXR9JYPQs2cdasmBL8kEG+WrOagD0KfXTam39PIsAg21mC1Xvvo71RUSIrgWawWKB0bRqjupN8HgZp0nd0xETpOB5IuLquttOCyIWlhXFhEOsqx+jm9+Mc7VauQFPZJwetHLVDmqD7hxztfs1LkMp+lXkBUH8RHiM8MSQuDwiJCsLGc4uYQVlAsrA1bDBGrVbzVhA4PgxQ10eP3EmquT9vZHbn8GSEgUOMcVm21UISazxrR0W1MWAQbi6kJhAAf/QoKmUPwywAaLmumoqa38BGi+eyXKY/E+rD6Zw2vjvb7gAAmjKI1IywiHZyOD7EPUFOsSVeShn2ceP0n1DxppGo6+30QCJA0I2e+Pqzqg/gwY86FGWEhRot0lNsXBsU0W20JaWfvBs82E8LHW6p2msvu7AZ4Zpt1HMxf27RGRZkw58ITDoejO3fuzHY5ZInp288kUzpWxEnflCciIhlTWIiIiCuFhYiIuFJYiIiIK084HI5euf5UtsshIiIrmGoWIiLiag3A87/4WbbLIUvs8j//DWhfizsdK+IUOx5UsxAREVcKCxERcaWwEBERVwoLERFxpbAQERFXCgsREXFlTlhMDtBzch8lG9bat328eHKAqWyXS5bP0DFr358cSL5/8hwvxo+L2bdTQ9kpriyh2LGw4RjDsx4c4NSGtbzYdTvNE2/T84KZx4UhYTHAqb2HONM76rhvlLHeQ+xPPXFIDrL/weu70z+86SifTj/kZsrtSlsZ0EBlxbIWVpbB1J1/2T91c2Qh54AhP2euNlBbB31XzDp3GBIWwJ4GWnu+s08E39G6x77/xrhqFzluqusIZ66W0Trs2O+uBvi4bRTqDrB3KQsnWdRAa1sZ9P6RnsnMnjF8pRvqDvDO/gbovZSmVpK7DAmLKt75y4fUV2yxfp2ciD9SeuB/2JilUsny2Hj4K25Of0X9psyfM9X1R/ooo7WxaukKJlm3+fAFWveMcuaNcxlcNA4w2Au1+6ug4gC1dHMubVNVbjIkLEhul957iDNXobTtC9oPb8l2yWTFuc3Xl0ah7rcLChhZjbZQf6wBrrbwsVsfxNAl+uLNklVU1sHYpb8a0zJhTlikMdb2Rz426MpAMjTk58xV+wpScl/Fh1yog776dJ3dMbfp+bA7qVly7/4GuPo5X2fYhLXamRMWzk7M4S/stutR+tqOZNxeKSawTwp72nlVHdvG2NvYTul8zUqTfyWYegFRcYBaRgn+3YwLTnPCwmlTlVX1BGCUiTtZLY2sJLFaxbGj6ssyyaajtLeVMTbHxePU3z9nDOirdw6rPkQfMNbmN6Kj24ywmDzHqZPnGI4fBPbVIwBlbN2cpXLJijN8pRsNlzXTxsO/pZZRznReSnkk1of1xazh1Td7GoBuBg2Yc2FGWAC3els4sjd2RfBzzly1H1AnpsRMnuNcL5S2NWu4rJGqeKenAXq76XPePV8fVsUBajFjzoUZYbHpKO097dQ6x9jvKaO25ztuvqtOzFw31bUv+SKh91Da2bvDnS2M0cBRjZAzl93ZDbBts3UczF/btEZFmTDnwhMOh6M/+olaZ3Odvv1MMqVjRZz0TXkiIpIxhYWIiLhSWIiIiCuFhYiIuPKEw+HoletPZbscIiKygqlmISIirtYAvPHromyXQ5bYB3+OANrX4k7HijjFjgfVLERExJXCQkREXCksRETElcJCRERcKSxERMSVwkJERFwZGBZBGss9eDzWrTGY7fLI0gvS6Ens8/n2e7AxeTuPDhAzBBvn3d+px0V5R2SZC5h9xoVFpOM0gVC2SyHLJ0JHeQ30R4lGrVu/DwI1qYERoaPcQ03Yz3g0sW20szpbBZdlYe13T01gzi2CjR5qAj76Y8dEv49Qc7FxgWFWWEQ6qG8OgdeHz5vtwsjyKKJpJIrznF99wo8XCN9K/LNHOuppDvnoH2lCU9HMYe13L/7xcfzpzgmRDk4HwOs/QfwQqu6k3wehzy5jUlwYFRbBs82EAN9bJ9iR7cLIChLh8meh5BOCGKGoaYRodISmua4Qxq8TAp7ZlrxB8Q4vhK4zvuQlXDnMCYtgIzUBwNePWhYMN+sEMM71EHD9LOVJfRvlGNbSIKmKd5CuwlG07RkgzC2Djg9DwiJIY00A8OI/oaQwm30seP2kHgqh8A564v0V4/i9IZqLG1EXt8GKnuc3Xgic7nA0OUXoOD13H0euMiIsIh2nCQBef8/c1U0xQrCxhgBe/D2z+ya8v3necV8RTW/5gABfKi0MVkTTSD++UDPF8RpnMdef8QHPsM2g84kRYTF+3Rr+FGouju/sZntEVKBGwyNNYY1q8eIfn6eN2mmOJggxTTWdzhFy0SgndoTBu4PibBdtGRkRFiJWUICvP11QFLPDm2Z0y/h1QnjZYdIZQTJgD4hIqonmPiPCoroz+arAao+2HvP1ayx9rot0lNtBEZ1jcIPd5BRq5my8kmn3bfjeUtOlOEToKC+mGT89hh0YRoSFmCzIWbvNMVCTMjvbOdqpupNxv9exTQ0BX78uJHJcpKM8uWk6UGP/HhvYYE/ac/RXND/TT9TA+TiecDgc3blzZ7bLIUtM334mmdKxIk76pjwREcmYwkJERFwpLERExJXCQkREXHnC4XD0yvWnsl0OERFZwVSzEBERV2sAnv/Fz7JdDllil//5b0D7WtzpWBGn2PGgmoWIiLhSWIiIiCuFhYiIuFJYiIiIK4WFiIi4UliIiIgrY8Ji+ORaSjbMvr3YdTvbRZPlMnTM2u8nBx5vG8khA5xKOSecGpq91VTXvuRzh4HHhzFhISa7Tc8Laymp737MbSS33KbnhUPQ85Cb09btQh301ScHxlTXPva3QetwbLsvqO09ZFxgGBcWtY4D4+b0Qz49vCXbRZIlNtV1hDNXy2gd/o7WPYvfRnLNFur/8pB3KhL37G1spxS4dSfW4jDAx22jlLZdoH5TbKsqXm0rg95LDC9vgbPKuLAQ82w8/BU3p79y/LMvbhsx0OQ4t4Btm5MvKjdu3gl0M5imySpXGRcWffWO/oqT55jKdoFEZOW4c4MxHOFw5wZjlLF1c8p2m7dTutxlyzLjwsJprLeF/S8oMEQEYIBT9d2wp51XK9y3No0xYbH3XWdfxXdcqLMfuPo5X09mtWgisgIMnzxEH2W0fnCUjdkuzApkTFgk2xLvyBIRGT65liO9ZbQOp/Rbbd5OKaNM3El5wlzNUznMjLCYPMepF84xHK9B3Ga4s4UxAHayWZ2aIsayggJqe9IMcNhUzDaco6MsU3f+hWnnjjXZLsByuXW1hb69LbPuL21rZm8WyiMi2TfVtc8OiuQhtAlVVNZBX9sRev6/HSaT52ixh9OadO7whMPh6I9+YkAL3eQ5Tr3RQt9V+/c9DbQea6a+wox5FiZ/oY01qWo0zSMNXJj+kL0ZbmMKc46VAU5tOERf2seSm6RitY+Y0rbvjJmjFTsezAkLw5lzApDHpWNFnPRNeSIikjGFhYiIuFJYiIiIK4WFiIi48oTD4eiV609luxwiIrKCqWYhIiKu1gC88euibJdDltgHf44A2tfiTseKOMWOB9UsRETElcJCRERcKSxERMSVwkJERFwpLERExJXCQkREXJkVFpEgHY3leDye+K28I5jtUsmSC9Lo2Ocej4fGWbs9k20kZwUbrf0+x04PNiYfG57yDiLLXMRsMygsgjQW19AcCCXdG/rslnE73SwROsproD9KNGrd+n0QqEkOg2Bjum3K6dDBkeMidJR78NQE5twi2OihJuCjPxo7PvrxhZopNiwwjAmLYGMNAQCvn/7x2E4fZ7zneTT1KJcV0TQSpbM6cU/1CT9eIHwr8a9e3ZlumxCfXTbpdGCeSEc9zSEv/vFx/N60W3ArDPgOkjg8qjnh90LoOuPLVdAVwJCwCPKllRT4e5qojqdDEUVFigqZ2zPbdHzksqKmEaLREZrm3M1FbHsGCDtbICJc/iyUEiC5z4ywiNwibP94/ayzz6KcxqCuHI0zfp0Q8wVBhI76ZkJePydMOhtIWtWddrOTp5yOSJBGTzHNIR/9nWYdHGuyXYBlYZ8cIEQgqWkyRKCmnh3j811ZSG4J0lgTgFlBEKGjvJjmeJeWj/5ok5ooBaimM9oPnhqai2sA8PV3GlWrAFNqFnFe/LH+ivF+fABqlzaK1XdlNUcmB4HVtxHr4B73h6nxeChXD7fxIh3leDyJARDjfi+BmrlHTuUqM8KieAez+q6Kqjnoy0ZhJFusUS1e/BnUJIuaevB7IdR8FrNOCZIk0kF9cwivfzw+AKKoaYSoNVzOqOHVZoRF0TaeAZJqEZEOTttNUurEzH1WUICvf4FNjt4dFC9ZqWTFm6t/K90FaI4zIyxI1CJCzcVW53Zxs9WPoU7MnBfpKLeDInl4bEKQRk9jcg0ieJbmEHh/o6HVRqs+iA8InE6eUxE820wIHwcNOncYEhZQ3TlOv8/ruBrw4vX1Mz6iTszcFuSs3WsdqEmZheuJTbqr5oTdRxF/rCaArz/KiEY+5DSrP8KDx2MPbgjU2L/HLh6szm1rNFTi+LAm6ZnVye0Jh8PRnTt3ZrscssT07WeSKR0r4qRvyhMRkYwpLERExJXCQkREXCksRETElSccDkevXH8q2+UQEZEVTDULERFxtQbg+V/8LNvlkCV2+Z//BrSvxZ2OFXGKHQ+qWYiIiCuFhYiIuFJYiIiIK4WFiIi4UliIiIgrhYWIiLgyIywmz/HihrWUzHE7NZTtAsqyGDpm7fOTA8n36/gw2ACnMtjfU137ko+L1GPIAGuyXQCRpXebnhd+zpmrczy86SifTh+ddfdU1z72t+2ksmJpSyfZcpueFw5Bz0Nu2vt4+ORajtSvhZ6HvGPfZx0H0Dr8kPpNYAXMIUr4gpvvVmWr8MvOjJrFpqN8Ov2Qm85bT4P9YINOBjluqusIZ66W0Tr8Ha17Mn3WAB+3jULdAfYuZeEki7ZQ/5dEKADsbWynFLh157Z9j3UclLZdsIMCoIpX28qg9xLDy1vgrDIjLGa5Tc+H3daPOhnkvI2Hv+Lm9FeOf3Z3U11/pI8yWhvNuXKUNCbHuQVs27wl6e6Nm3cC3Qwa1ERpZlgM+e0mCZ0MJJ3bfH1pFOp+u6CAkRxw5wZjOMLhzg3GKGPr5pTtNm+ndLnLlmUGhoWzVqGTgaRhX0zU7teFhFkGOFXfDXvaedvAWz4AAAFCSURBVFVN07OYFxaTfyVod3TqZCCz2RcTOmEYZ/jkIavp8YOjbMx2YVYg48JiuLOFMdDJQNKL1SqO6YRhkuGTaznSW0brcErf1ubtlDLKxJ2UJ8zVPJXDzAqLyXOc67V+1MlA0hm+0o1GyJnFCgqo7UkzCGJTMdtwjo6yTN35F7CTzQY1YxsVFvFahU4Gko59MVHa1qwRcoaY6tpnB0XyENqEKirrYKztCD2T9l2T52hpGzXuODFnUp6jVmHaTjadNalqNHHH1UOU9AI0cGH6w/ixYF1MNHDh8JY0ryK5x55LA/TVr6Uv6bFEk9Tedx9ygbUc2buWM/ajpW3f8alhx4knHA5Hf/QTNcjkOn37mWRKx4o46ZvyREQkYwoLERFxpbAQERFXCgsREXHlCYfD0SvXn8p2OUREZAVTzUJERFz9H3aGuUCpYXs7AAAAAElFTkSuQmCC)"
      ],
      "metadata": {
        "id": "ARTHLh2JjrrN"
      }
    },
    {
      "cell_type": "code",
      "source": [
        "Move = pd.DataFrame({\n",
        "  \"Time Period\": [1, 2, 3, 4, 5, 6, 7],\n",
        "  \"Time Series Value\": [23, 17, 17, 26, 11, 23, 17],\n",
        "  \"Moving Average Forecast\": [np.nan, np.nan, np.nan, 19, 20, 18, 20]\n",
        "})\n",
        "\n",
        "Move"
      ],
      "metadata": {
        "id": "rdgsFHScmLVH"
      },
      "execution_count": null,
      "outputs": []
    },
    {
      "cell_type": "code",
      "source": [
        "Move.reset_index(drop = True, inplace = True)\n",
        "Move"
      ],
      "metadata": {
        "id": "7CbbkU8LpJVo"
      },
      "execution_count": null,
      "outputs": []
    },
    {
      "cell_type": "markdown",
      "source": [
        "### Forecasting - Seasonal Indexing"
      ],
      "metadata": {
        "id": "AozCGjUSqWbm"
      }
    },
    {
      "cell_type": "code",
      "source": [
        "# Excluding year 1960\n",
        "AP = AP_reshaped.iloc[:11, :].copy()\n",
        "# Finding average yearly\n",
        "AP_yearly_mean = AP.mean(axis=1)\n",
        "AP_yearly_mean"
      ],
      "metadata": {
        "id": "zJXh-T1UqVWE"
      },
      "execution_count": null,
      "outputs": []
    },
    {
      "cell_type": "code",
      "source": [
        "# Dividing with mean values\n",
        "AP_month_avg = AP.div(AP_yearly_mean.values, axis=0)\n",
        "AP_month_avg"
      ],
      "metadata": {
        "id": "s3DudSiprfrN"
      },
      "execution_count": null,
      "outputs": []
    },
    {
      "cell_type": "code",
      "source": [
        "# Finding monthly average\n",
        "AP_SI = AP_month_avg.mean(axis=0)\n",
        "AP_SI"
      ],
      "metadata": {
        "id": "1cvRl_fWrmFO"
      },
      "execution_count": null,
      "outputs": []
    },
    {
      "cell_type": "code",
      "source": [
        "# Dividing by seasonal index, assuming multiplicative model\n",
        "AP_deseasonalized = AP.div(AP_SI)\n",
        "AP_deseasonalized"
      ],
      "metadata": {
        "id": "sLO4N17UsFRC"
      },
      "execution_count": null,
      "outputs": []
    },
    {
      "cell_type": "code",
      "source": [
        "# Importing libraries\n",
        "import numpy as np\n",
        "import pandas as pd\n",
        "# Reading data\n",
        "AP_1D = pd.DataFrame(AP_deseasonalized.values.reshape(-1, 1), columns=['value'])\n",
        "# Building Linear Regression model and predicting trend values\n",
        "from sklearn.linear_model import LinearRegression\n",
        "model = LinearRegression()\n",
        "model.fit(np.arange(1, 133).reshape(-1, 1), AP_1D.value.values.reshape(-1, 1) )\n",
        "pred = pd.DataFrame(model.predict(np.arange(133, 145).reshape(-1, 1)), columns=['Trend values'], index=cols)\n",
        "pred['Regression equations'] = pred['Trend values'].apply(lambda x: str(np.round(model.coef_[0][0], 2)) + ' * '+ str(np.round(x, 2)) + ' + ' + str(np.round(model.intercept_[0], 2)))\n",
        "pred"
      ],
      "metadata": {
        "id": "lVMpgYX-sLD_"
      },
      "execution_count": null,
      "outputs": []
    },
    {
      "cell_type": "code",
      "source": [
        "# Importing libraries\n",
        "import numpy as np\n",
        "import pandas as pd\n",
        "# Creating dataframe with seasonal index, trend values, monthly occupancy, and error in order to compare\n",
        "out = pd.DataFrame(AP_SI, columns=['Seasonal Index'])\n",
        "out.index.name = 1960\n",
        "out['Trend values'] = pred['Trend values']\n",
        "out['Monthly occupancy'] = np.round(AP_SI * pred['Trend values']).astype(int)\n",
        "out['Error'] = AP_reshaped.loc[1960] - AP_SI * pred['Trend values']\n",
        "out"
      ],
      "metadata": {
        "id": "QH-ag-kdss5X"
      },
      "execution_count": null,
      "outputs": []
    },
    {
      "cell_type": "markdown",
      "source": [
        "For the dataset hsales, you need to forecast the values of year 1996 using seasonal indexing method."
      ],
      "metadata": {
        "id": "dahR3M42cuzl"
      }
    },
    {
      "cell_type": "code",
      "source": [
        "hsales = pd.read_csv('hsales_modified.csv')\n",
        "hsales.head()"
      ],
      "metadata": {
        "id": "C-Nz9AjHcwh8"
      },
      "execution_count": null,
      "outputs": []
    },
    {
      "cell_type": "code",
      "source": [
        "hsales.drop(['date'], axis=1, inplace=True)\n",
        "hsales_reshaped = pd.DataFrame(hsales.values.reshape(-1, 12), \n",
        "                         columns=cols,                        # Month \n",
        "                         index=range(1973, 1996)) \n",
        "\n",
        "hsales_reshaped"
      ],
      "metadata": {
        "id": "-aiJJdoa4YlE"
      },
      "execution_count": null,
      "outputs": []
    },
    {
      "cell_type": "code",
      "source": [
        "hsales = hsales_reshaped.iloc[:, :].copy()\n",
        "\n",
        "# Finding average yearly\n",
        "hsales_yearly_mean = hsales.mean(axis=1)\n",
        "hsales_yearly_mean"
      ],
      "metadata": {
        "id": "peQTWYTt697Z"
      },
      "execution_count": null,
      "outputs": []
    },
    {
      "cell_type": "code",
      "source": [
        "# Dividing with mean values\n",
        "hsales_month_avg = hsales.div(hsales_yearly_mean.values, axis=0)\n",
        "hsales_month_avg"
      ],
      "metadata": {
        "id": "VDfrSNhd7R9p"
      },
      "execution_count": null,
      "outputs": []
    },
    {
      "cell_type": "code",
      "source": [
        "# Finding monthly average\n",
        "hsales_SI = hsales_month_avg.mean(axis=0)\n",
        "hsales_SI"
      ],
      "metadata": {
        "id": "eRVpgmzi7mQv"
      },
      "execution_count": null,
      "outputs": []
    },
    {
      "cell_type": "code",
      "source": [
        "# Dividing by seasonal index, assuming multiplicative model\n",
        "hsales_deseasonalized = hsales.div(hsales_SI)\n",
        "hsales_deseasonalized"
      ],
      "metadata": {
        "id": "icwpgPJA7y7N"
      },
      "execution_count": null,
      "outputs": []
    },
    {
      "cell_type": "code",
      "source": [
        "# Importing libraries\n",
        "import numpy as np\n",
        "import pandas as pd\n",
        "\n",
        "# Reading data\n",
        "hsales_1D = pd.DataFrame(hsales_deseasonalized.values.reshape(-1, 1), columns=['value'])\n",
        "\n",
        "# Building Linear Regression model and predicting trend values\n",
        "from sklearn.linear_model import LinearRegression\n",
        "model = LinearRegression()\n",
        "model.fit(np.arange(1, 277).reshape(-1, 1), hsales_1D.value.values.reshape(-1, 1))\n",
        "pred = pd.DataFrame(model.predict(np.arange(277, 289).reshape(-1, 1)), columns=['Trend values'], index=cols)\n",
        "pred['Regression equations'] = pred['Trend values'].apply(lambda x: str(model.coef_[0][0]) + ' * '+ str(np.round(x, 2)) + ' + ' + str(np.round(model.intercept_[0], 2)))\n",
        "pred"
      ],
      "metadata": {
        "id": "zjWChdYY8Nc-"
      },
      "execution_count": null,
      "outputs": []
    },
    {
      "cell_type": "code",
      "source": [
        "# Importing libraries\n",
        "import numpy as np\n",
        "import pandas as pd\n",
        "\n",
        "# Creating dataframe with seasonal index, trend values, monthly occupancy, and error in order to compare\n",
        "out = pd.DataFrame(hsales_SI, columns=['Seasonal Index'])\n",
        "out.index.name = 1996\n",
        "out['Trend values'] = pred['Trend values']\n",
        "out['Monthly occupancy'] = np.round(hsales_SI * pred['Trend values']).astype(int)\n",
        "out"
      ],
      "metadata": {
        "id": "902iClAN-WPC"
      },
      "execution_count": null,
      "outputs": []
    },
    {
      "cell_type": "markdown",
      "source": [
        "### Stationary Time Series"
      ],
      "metadata": {
        "id": "I3wqqVuHtcic"
      }
    },
    {
      "cell_type": "code",
      "source": [
        "# Importing libraries\n",
        "import numpy as np\n",
        "import pandas as pd\n",
        "# Taking year 1949 data\n",
        "st = pd.DataFrame(AirPassenger.iloc[:12].T.values[0], columns=['Year 1949'], index=cols)\n",
        "# Lag 1\n",
        "st['lag1'] = AirPassenger.iloc[:12].diff(1).T.values[0]\n",
        "# Lag 2\n",
        "st['lag2'] = AirPassenger.iloc[:12].diff(2).T.values[0]\n",
        "# Difference with order 1\n",
        "st['diffOrd1'] = np.concatenate(([np.nan], np.diff(AirPassenger.iloc[:12].T.values[0], 1)))\n",
        "# Difference with order 2\n",
        "st['diffOrd2'] = np.concatenate(([np.nan, np.nan], np.diff(AirPassenger.iloc[:12].T.values[0], 2)))\n",
        "st"
      ],
      "metadata": {
        "id": "EvsxXTGDu1y4"
      },
      "execution_count": null,
      "outputs": []
    },
    {
      "cell_type": "code",
      "source": [
        "# Importing libraries\n",
        "import numpy as np\n",
        "import pandas as pd\n",
        "import matplotlib.pyplot as plt\n",
        "# First order difference values\n",
        "diffOrd1 = pd.DataFrame(np.concatenate(([np.nan], np.diff(AirPassenger.T.values[0], 1))), index=AirPassenger.index)\n",
        "plt.figure(1, figsize=(15, 8))\n",
        "ax1 = plt.subplot2grid((2, 1), (0, 0))\n",
        "# Dummy plot, used to create legend label for second plot\n",
        "ax1.plot(AirPassenger, label=\"First order difference\", c='g') \n",
        "ax1.plot(AirPassenger, label='Original', c='cyan')\n",
        "ax1.set_title('Original and first difference of Air Passengers data', fontsize=18)\n",
        "# Removing bottom, top and right plot lines\n",
        "ax1.spines['bottom'].set_visible(False) \n",
        "ax1.spines['top'].set_visible(False)\n",
        "ax1.spines['right'].set_visible(False)\n",
        "# Removing ticks and labels of x-axis\n",
        "ax1.tick_params(axis='x', which='both', bottom=False, labelbottom=False)\n",
        "# Adding a diagonal mark on y-axis\n",
        "d = .01 # how big to make the diagonal lines in axes coordinates\n",
        "kwargs = dict(transform=ax1.transAxes, color='k', clip_on=False)\n",
        "ax1.plot((-d,d),(-d,+d), **kwargs) \n",
        "plt.legend()\n",
        "# Generating second plot\n",
        "ax2 = plt.subplot2grid((2, 1), (1, 0))\n",
        "ax2.plot(diffOrd1, c='g')\n",
        "ax2.set_xlabel('Year', fontsize=15)\n",
        "ax2.set_ylabel('Passengers', fontsize=15)\n",
        "ax2.spines['top'].set_visible(False)\n",
        "ax2.spines['right'].set_visible(False)\n",
        "kwargs = dict(transform=ax2.transAxes, color='k', clip_on=False)\n",
        "ax2.plot((-d,d),(1-d,1+d), **kwargs) \n",
        "# Adding a common y-label\n",
        "ax2.yaxis.set_label_coords(-0.05, 1.05)\n",
        "plt.show()"
      ],
      "metadata": {
        "id": "Ts3IsfylvOVv"
      },
      "execution_count": null,
      "outputs": []
    },
    {
      "cell_type": "code",
      "source": [
        "# Importing libraries\n",
        "import numpy as np\n",
        "import pandas as pd\n",
        "import matplotlib.pyplot as plt\n",
        "# First order difference values of logarithmic series\n",
        "diffOrd1 = pd.DataFrame(np.concatenate(([np.nan], np.diff(np.log(AirPassenger).T.values[0], 1))), index=AirPassenger.index)\n",
        "plt.figure(1, figsize=(15, 8))\n",
        "ax1 = plt.subplot2grid((2, 1), (0, 0))\n",
        "# Dummy plot, used to create legend label for second plot\n",
        "ax1.plot(np.log(AirPassenger), label=\"First order difference of original logarithmic series\", c='g') \n",
        "ax1.plot(np.log(AirPassenger), label='Original logarithmic series', c='cyan')\n",
        "ax1.set_title('Original and first difference of logarithmic Air Passengers data', fontsize=18)\n",
        "# Removing bottom, top and right plot lines\n",
        "ax1.spines['bottom'].set_visible(False) \n",
        "ax1.spines['top'].set_visible(False)\n",
        "ax1.spines['right'].set_visible(False)\n",
        "# Removing ticks and labels of x-axis\n",
        "ax1.tick_params(axis='x', which='both', bottom=False, labelbottom=False)\n",
        "# Adding a diagonal mark on y-axis\n",
        "d = .01 # how big to make the diagonal lines in axes coordinates\n",
        "kwargs = dict(transform=ax1.transAxes, color='k', clip_on=False)\n",
        "ax1.plot((-d,d),(-d,+d), **kwargs) \n",
        "plt.legend()\n",
        "# Generating second plot\n",
        "ax2 = plt.subplot2grid((2, 1), (1, 0))\n",
        "ax2.plot(diffOrd1, c='g')\n",
        "ax2.set_xlabel('Year', fontsize=15)\n",
        "ax2.set_ylabel('Passengers', fontsize=15)\n",
        "ax2.spines['top'].set_visible(False)\n",
        "ax2.spines['right'].set_visible(False)\n",
        "kwargs = dict(transform=ax2.transAxes, color='k', clip_on=False)\n",
        "ax2.plot((-d,d),(1-d,1+d), **kwargs) \n",
        "# Adding a common y-label\n",
        "ax2.yaxis.set_label_coords(-0.05, 1.05)\n",
        "plt.show()"
      ],
      "metadata": {
        "id": "CCN9SLBsvVzZ"
      },
      "execution_count": null,
      "outputs": []
    },
    {
      "cell_type": "code",
      "source": [
        "# Importing libraries\n",
        "import pandas as pd\n",
        "# Load fresh data\n",
        "dateparse = lambda dates: pd.datetime.strptime(dates, '%m/%d/%Y')\n",
        "hsales = pd.read_csv('hsales.csv', index_col='date', date_parser=dateparse)\n",
        "# Function for Dickey-Fuller test\n",
        "from statsmodels.tsa.stattools import adfuller\n",
        "def dffunc(ts):\n",
        "    dftest = adfuller(ts, autolag='AIC')\n",
        "    dfoutput = pd.Series([dftest[0],dftest[1], dftest[4][\"5%\"],dftest[5]], index=['Test Statistic','p-value', 'Critical Value at 5%','AIC'])\n",
        "    return(dfoutput)\n",
        "# Passing values as 1D numpy array\n",
        "dffunc(hsales.T.values[0])"
      ],
      "metadata": {
        "id": "9kbXYSQBtf9e"
      },
      "execution_count": null,
      "outputs": []
    },
    {
      "cell_type": "code",
      "source": [
        "# Importing libraries\n",
        "import numpy as np\n",
        "# Dickey-Fuller test of first order difference of log transformed Air passengers data\n",
        "dffunc(np.diff(np.log(AirPassenger).T.values[0], 1))"
      ],
      "metadata": {
        "id": "7kO1s0LhuGaF"
      },
      "execution_count": null,
      "outputs": []
    },
    {
      "cell_type": "code",
      "source": [
        "# Importing libraries\n",
        "import numpy as np\n",
        "# Dickey-Fuller test of second order difference of log transformed Air passengers data\n",
        "dffunc(np.diff(np.log(AirPassenger).T.values[0], 2))"
      ],
      "metadata": {
        "id": "m1RA-XKJuIN_"
      },
      "execution_count": null,
      "outputs": []
    },
    {
      "cell_type": "markdown",
      "source": [
        "### Autocorrelation Function"
      ],
      "metadata": {
        "id": "p5oUGDXSRO-G"
      }
    },
    {
      "cell_type": "code",
      "source": [
        "# Importing libraries\n",
        "import numpy as np\n",
        "import matplotlib.pyplot as plt\n",
        "from statsmodels.graphics.tsaplots import plot_acf\n",
        "# ACF plot of hsales\n",
        "plot_acf(hsales, lags=30)\n",
        "plt.xlabel('Lags', fontsize=15)\n",
        "plt.ylabel('ACF', fontsize=15)\n",
        "plt.title('Autocorrelation of hsales data', fontsize=18, weight='bold')\n",
        "plt.show()\n",
        "# ACF plot of log(Airpassengers)\n",
        "plot_acf(np.log(AirPassenger), lags=30)\n",
        "plt.xlabel('Lags', fontsize=15)\n",
        "plt.ylabel('ACF', fontsize=15)\n",
        "plt.title('Autocorrelation of log Air Passengers data', fontsize=18, weight='bold')\n",
        "plt.show()"
      ],
      "metadata": {
        "id": "Nc6TQLaHRQ53"
      },
      "execution_count": null,
      "outputs": []
    },
    {
      "cell_type": "code",
      "source": [
        "# Importing libraries\n",
        "import numpy as np\n",
        "import matplotlib.pyplot as plt\n",
        "from statsmodels.graphics.tsaplots import plot_acf\n",
        "# ACF plot of diff2(log(Airpassengers))\n",
        "plot_acf(np.diff(np.log(AirPassenger).T.values[0], 2), lags=30)\n",
        "plt.xlabel('Lags', fontsize=15)\n",
        "plt.ylabel('ACF', fontsize=15)\n",
        "plt.title('Autocorrelation of diff2 log Air Passengers data', fontsize=18, weight='bold')\n",
        "plt.show()"
      ],
      "metadata": {
        "id": "I-vfwmEgSgJG"
      },
      "execution_count": null,
      "outputs": []
    },
    {
      "cell_type": "markdown",
      "source": [
        "### Partial Autocorrelation Function"
      ],
      "metadata": {
        "id": "P0bXyupHRTN4"
      }
    },
    {
      "cell_type": "code",
      "source": [
        "# Importing libraries\n",
        "import numpy as np\n",
        "import matplotlib.pyplot as plt\n",
        "from statsmodels.graphics.tsaplots import plot_pacf\n",
        "# PACF plot of hsales\n",
        "plot_pacf(hsales, lags=30)\n",
        "plt.xlabel('Lags', fontsize=15)\n",
        "plt.ylabel('PACF', fontsize=15)\n",
        "plt.xlim(0.5, 30)\n",
        "plt.title('Partial Autocorrelation of hsales data', fontsize=18, weight='bold')\n",
        "plt.show()\n",
        "# PACF plot of diff2(log(Airpassengers))\n",
        "plot_pacf(np.diff(np.log(AirPassenger).T.values[0], 2), lags=15)\n",
        "plt.xlabel('Lags', fontsize=15)\n",
        "plt.ylabel('PACF', fontsize=15)\n",
        "plt.xlim(0.5, 15)\n",
        "plt.title('Partial Autocorrelation of \\ndiff2 log Air Passengers data', fontsize=18, weight='bold')\n",
        "plt.show()"
      ],
      "metadata": {
        "id": "OAZZZIfDRrRh"
      },
      "execution_count": null,
      "outputs": []
    },
    {
      "cell_type": "markdown",
      "source": [
        "### Estimating the ARIMA parameters"
      ],
      "metadata": {
        "id": "DB60ImdnZ79s"
      }
    },
    {
      "cell_type": "code",
      "source": [
        "# Importing libraries\n",
        "import numpy as np\n",
        "import matplotlib.pyplot as plt\n",
        "import seaborn as sns\n",
        "from statsmodels.tsa.statespace.sarimax import SARIMAX\n",
        "# Values to keep in training data, k\n",
        "k = 60\n",
        "# Model building\n",
        "model = SARIMAX(np.log(AirPassenger.iloc[:k]), \n",
        "                order=(2, 1, 2), \n",
        "                seasonal_order=(1, 1, 1, 12), \n",
        "                enforce_stationarity=False, \n",
        "                enforce_invertibility=False)\n",
        "model_fit = model.fit(disp=False)\n",
        "# Visualization\n",
        "plt.figure(figsize=(15, 5))\n",
        "plt.plot(AirPassenger.iloc[:k], label='Train data')\n",
        "plt.plot(AirPassenger.iloc[k:], label='Test data')\n",
        "plt.plot(np.round(np.exp(model_fit.forecast(144-k))), label='Forecasted data')\n",
        "plt.legend(loc='upper center')\n",
        "sns.despine()\n",
        "plt.xlabel('Year', fontsize=15)\n",
        "plt.ylabel('Number of Passengers', fontsize=15)\n",
        "plt.title('SARIMA forecasting', fontsize=18, weight='bold')\n",
        "plt.show()"
      ],
      "metadata": {
        "id": "wKd5rLlhZkY_"
      },
      "execution_count": null,
      "outputs": []
    },
    {
      "cell_type": "code",
      "source": [
        "# Importing libraries\n",
        "import numpy as np\n",
        "#finding the mean squared error\n",
        "from sklearn.metrics import mean_squared_error\n",
        "np.sqrt(mean_squared_error(AirPassenger.iloc[k:], np.round(np.exp(model_fit.forecast(144-k)))))"
      ],
      "metadata": {
        "id": "JMT_5h4bZ_GQ"
      },
      "execution_count": null,
      "outputs": []
    },
    {
      "cell_type": "markdown",
      "source": [
        "Grid search"
      ],
      "metadata": {
        "id": "Nbmnfw0PaTmJ"
      }
    },
    {
      "cell_type": "code",
      "source": [
        "# Importing libraries\n",
        "import numpy as np\n",
        "import pandas as pd\n",
        "from statsmodels.tsa.statespace.sarimax import SARIMAX\n",
        "# Iterating over parameters\n",
        "rmse = []\n",
        "params = []\n",
        "for p in range(3):\n",
        "    for d in range(2):\n",
        "        for q in range(3):\n",
        "            for P in range(3):\n",
        "                for D in range(2):\n",
        "                    for Q in range(3):            \n",
        "                        try:\n",
        "                            model = SARIMAX(np.log(AirPassenger.iloc[:k]), \n",
        "                                            order=(p, d, q), \n",
        "                                            seasonal_order=(P, D, Q, 12), \n",
        "                                            enforce_stationarity=False, \n",
        "                                            enforce_invertibility=False)\n",
        "                            model_fit = model.fit(disp=False)                            \n",
        "                            rmse.append(np.sqrt(mean_squared_error(AirPassenger.iloc[k:], \n",
        "                                                np.round(np.exp(model_fit.forecast(144-k))))))\n",
        "                            params.append(((p, d, q), (P, D, Q)))\n",
        "                        except:\n",
        "                            pass\n",
        "                        \n",
        "# Storing RMSE and parameters and sorting the dataframe based on RMSE in ascending order\n",
        "res = pd.DataFrame([rmse, params]).T.sort_values([0])\n",
        "res.columns = ['RMSE', 'Params']\n",
        "res.head(1)"
      ],
      "metadata": {
        "id": "EXvH-3DRaMeI"
      },
      "execution_count": null,
      "outputs": []
    },
    {
      "cell_type": "code",
      "source": [
        "# Importing libraries\n",
        "import numpy as np\n",
        "import matplotlib.pyplot as plt\n",
        "# plotting RMSE values across all possible parameter combinations\n",
        "plt.figure(figsize=(15, 5))\n",
        "plt.plot(rmse, label='All RMSEs')\n",
        "plt.scatter(np.arange(210, 211), res.iloc[0, 0], s=70, c='g', label='Chosen RMSE')\n",
        "plt.legend()\n",
        "plt.xlabel('Iterations', fontsize=15)\n",
        "plt.ylabel('RMSE', fontsize=15)\n",
        "plt.title('RMSE values across all possible parameter combinations', weight='bold', fontsize=18)\n",
        "plt.show()"
      ],
      "metadata": {
        "id": "oDVPJSATankb"
      },
      "execution_count": null,
      "outputs": []
    },
    {
      "cell_type": "markdown",
      "source": [
        "### Capstone project\n",
        "\n",
        "Problem Statement\n",
        "\n",
        "Dataset : usdeaths\n",
        "\n",
        "'usdeaths' is a monthly data which shows the number of accidental deaths in the USA from January 1973 to December 1978."
      ],
      "metadata": {
        "id": "-ar2mGX1cKNS"
      }
    },
    {
      "cell_type": "code",
      "source": [
        "import pandas as pd\n",
        "usdeaths = pd.read_csv('usdeaths.csv')\n",
        "usdeaths.head()"
      ],
      "metadata": {
        "id": "G8XgMwoHcL8j",
        "colab": {
          "base_uri": "https://localhost:8080/",
          "height": 206
        },
        "outputId": "5eb1a26c-8d40-4087-a0e3-5b2d9d35d517"
      },
      "execution_count": null,
      "outputs": [
        {
          "output_type": "execute_result",
          "data": {
            "text/plain": [
              "   Unnamed: 0      x\n",
              "0           1   9007\n",
              "1           2   8106\n",
              "2           3   8928\n",
              "3           4   9137\n",
              "4           5  10017"
            ],
            "text/html": [
              "\n",
              "  <div id=\"df-36fe19b7-9410-46e9-a810-32b947d3a4b8\">\n",
              "    <div class=\"colab-df-container\">\n",
              "      <div>\n",
              "<style scoped>\n",
              "    .dataframe tbody tr th:only-of-type {\n",
              "        vertical-align: middle;\n",
              "    }\n",
              "\n",
              "    .dataframe tbody tr th {\n",
              "        vertical-align: top;\n",
              "    }\n",
              "\n",
              "    .dataframe thead th {\n",
              "        text-align: right;\n",
              "    }\n",
              "</style>\n",
              "<table border=\"1\" class=\"dataframe\">\n",
              "  <thead>\n",
              "    <tr style=\"text-align: right;\">\n",
              "      <th></th>\n",
              "      <th>Unnamed: 0</th>\n",
              "      <th>x</th>\n",
              "    </tr>\n",
              "  </thead>\n",
              "  <tbody>\n",
              "    <tr>\n",
              "      <th>0</th>\n",
              "      <td>1</td>\n",
              "      <td>9007</td>\n",
              "    </tr>\n",
              "    <tr>\n",
              "      <th>1</th>\n",
              "      <td>2</td>\n",
              "      <td>8106</td>\n",
              "    </tr>\n",
              "    <tr>\n",
              "      <th>2</th>\n",
              "      <td>3</td>\n",
              "      <td>8928</td>\n",
              "    </tr>\n",
              "    <tr>\n",
              "      <th>3</th>\n",
              "      <td>4</td>\n",
              "      <td>9137</td>\n",
              "    </tr>\n",
              "    <tr>\n",
              "      <th>4</th>\n",
              "      <td>5</td>\n",
              "      <td>10017</td>\n",
              "    </tr>\n",
              "  </tbody>\n",
              "</table>\n",
              "</div>\n",
              "      <button class=\"colab-df-convert\" onclick=\"convertToInteractive('df-36fe19b7-9410-46e9-a810-32b947d3a4b8')\"\n",
              "              title=\"Convert this dataframe to an interactive table.\"\n",
              "              style=\"display:none;\">\n",
              "        \n",
              "  <svg xmlns=\"http://www.w3.org/2000/svg\" height=\"24px\"viewBox=\"0 0 24 24\"\n",
              "       width=\"24px\">\n",
              "    <path d=\"M0 0h24v24H0V0z\" fill=\"none\"/>\n",
              "    <path d=\"M18.56 5.44l.94 2.06.94-2.06 2.06-.94-2.06-.94-.94-2.06-.94 2.06-2.06.94zm-11 1L8.5 8.5l.94-2.06 2.06-.94-2.06-.94L8.5 2.5l-.94 2.06-2.06.94zm10 10l.94 2.06.94-2.06 2.06-.94-2.06-.94-.94-2.06-.94 2.06-2.06.94z\"/><path d=\"M17.41 7.96l-1.37-1.37c-.4-.4-.92-.59-1.43-.59-.52 0-1.04.2-1.43.59L10.3 9.45l-7.72 7.72c-.78.78-.78 2.05 0 2.83L4 21.41c.39.39.9.59 1.41.59.51 0 1.02-.2 1.41-.59l7.78-7.78 2.81-2.81c.8-.78.8-2.07 0-2.86zM5.41 20L4 18.59l7.72-7.72 1.47 1.35L5.41 20z\"/>\n",
              "  </svg>\n",
              "      </button>\n",
              "      \n",
              "  <style>\n",
              "    .colab-df-container {\n",
              "      display:flex;\n",
              "      flex-wrap:wrap;\n",
              "      gap: 12px;\n",
              "    }\n",
              "\n",
              "    .colab-df-convert {\n",
              "      background-color: #E8F0FE;\n",
              "      border: none;\n",
              "      border-radius: 50%;\n",
              "      cursor: pointer;\n",
              "      display: none;\n",
              "      fill: #1967D2;\n",
              "      height: 32px;\n",
              "      padding: 0 0 0 0;\n",
              "      width: 32px;\n",
              "    }\n",
              "\n",
              "    .colab-df-convert:hover {\n",
              "      background-color: #E2EBFA;\n",
              "      box-shadow: 0px 1px 2px rgba(60, 64, 67, 0.3), 0px 1px 3px 1px rgba(60, 64, 67, 0.15);\n",
              "      fill: #174EA6;\n",
              "    }\n",
              "\n",
              "    [theme=dark] .colab-df-convert {\n",
              "      background-color: #3B4455;\n",
              "      fill: #D2E3FC;\n",
              "    }\n",
              "\n",
              "    [theme=dark] .colab-df-convert:hover {\n",
              "      background-color: #434B5C;\n",
              "      box-shadow: 0px 1px 3px 1px rgba(0, 0, 0, 0.15);\n",
              "      filter: drop-shadow(0px 1px 2px rgba(0, 0, 0, 0.3));\n",
              "      fill: #FFFFFF;\n",
              "    }\n",
              "  </style>\n",
              "\n",
              "      <script>\n",
              "        const buttonEl =\n",
              "          document.querySelector('#df-36fe19b7-9410-46e9-a810-32b947d3a4b8 button.colab-df-convert');\n",
              "        buttonEl.style.display =\n",
              "          google.colab.kernel.accessAllowed ? 'block' : 'none';\n",
              "\n",
              "        async function convertToInteractive(key) {\n",
              "          const element = document.querySelector('#df-36fe19b7-9410-46e9-a810-32b947d3a4b8');\n",
              "          const dataTable =\n",
              "            await google.colab.kernel.invokeFunction('convertToInteractive',\n",
              "                                                     [key], {});\n",
              "          if (!dataTable) return;\n",
              "\n",
              "          const docLinkHtml = 'Like what you see? Visit the ' +\n",
              "            '<a target=\"_blank\" href=https://colab.research.google.com/notebooks/data_table.ipynb>data table notebook</a>'\n",
              "            + ' to learn more about interactive tables.';\n",
              "          element.innerHTML = '';\n",
              "          dataTable['output_type'] = 'display_data';\n",
              "          await google.colab.output.renderOutput(dataTable, element);\n",
              "          const docLink = document.createElement('div');\n",
              "          docLink.innerHTML = docLinkHtml;\n",
              "          element.appendChild(docLink);\n",
              "        }\n",
              "      </script>\n",
              "    </div>\n",
              "  </div>\n",
              "  "
            ]
          },
          "metadata": {},
          "execution_count": 4
        }
      ]
    },
    {
      "cell_type": "code",
      "source": [
        "usdeaths.drop(['Unnamed: 0'], axis=1, inplace=True)\n",
        "\n",
        "cols = ['Jan', 'Feb', 'Mar', 'Apr', 'May', 'Jun', 'Jul', 'Aug', 'Sep', 'Oct', 'Nov', 'Dec']\n",
        "usdeaths_reshaped = pd.DataFrame(usdeaths.values.reshape(-1, 12), \n",
        "                         columns=cols,                        # Month \n",
        "                         index=range(1973, 1979)) \n",
        "\n",
        "usdeaths_reshaped"
      ],
      "metadata": {
        "colab": {
          "base_uri": "https://localhost:8080/",
          "height": 237
        },
        "id": "CZxuzkjz_mjZ",
        "outputId": "c0647311-f335-4507-90d6-c7a676bc1a48"
      },
      "execution_count": null,
      "outputs": [
        {
          "output_type": "execute_result",
          "data": {
            "text/plain": [
              "       Jan   Feb   Mar   Apr    May    Jun    Jul    Aug   Sep   Oct   Nov  \\\n",
              "1973  9007  8106  8928  9137  10017  10826  11317  10744  9713  9938  9161   \n",
              "1974  7750  6981  8038  8422   8714   9512  10120   9823  8743  9129  8710   \n",
              "1975  8162  7306  8124  7870   9387   9556  10093   9620  8285  8433  8160   \n",
              "1976  7717  7461  7776  7925   8634   8945  10078   9179  8037  8488  7874   \n",
              "1977  7792  6957  7726  8106   8890   9299  10625   9302  8314  8850  8265   \n",
              "1978  7836  6892  7791  8129   9115   9434  10484   9827  9110  9070  8633   \n",
              "\n",
              "       Dec  \n",
              "1973  8927  \n",
              "1974  8680  \n",
              "1975  8034  \n",
              "1976  8647  \n",
              "1977  8796  \n",
              "1978  9240  "
            ],
            "text/html": [
              "\n",
              "  <div id=\"df-b8f1d0a0-84f9-4cba-a1c1-a37fd495fc4f\">\n",
              "    <div class=\"colab-df-container\">\n",
              "      <div>\n",
              "<style scoped>\n",
              "    .dataframe tbody tr th:only-of-type {\n",
              "        vertical-align: middle;\n",
              "    }\n",
              "\n",
              "    .dataframe tbody tr th {\n",
              "        vertical-align: top;\n",
              "    }\n",
              "\n",
              "    .dataframe thead th {\n",
              "        text-align: right;\n",
              "    }\n",
              "</style>\n",
              "<table border=\"1\" class=\"dataframe\">\n",
              "  <thead>\n",
              "    <tr style=\"text-align: right;\">\n",
              "      <th></th>\n",
              "      <th>Jan</th>\n",
              "      <th>Feb</th>\n",
              "      <th>Mar</th>\n",
              "      <th>Apr</th>\n",
              "      <th>May</th>\n",
              "      <th>Jun</th>\n",
              "      <th>Jul</th>\n",
              "      <th>Aug</th>\n",
              "      <th>Sep</th>\n",
              "      <th>Oct</th>\n",
              "      <th>Nov</th>\n",
              "      <th>Dec</th>\n",
              "    </tr>\n",
              "  </thead>\n",
              "  <tbody>\n",
              "    <tr>\n",
              "      <th>1973</th>\n",
              "      <td>9007</td>\n",
              "      <td>8106</td>\n",
              "      <td>8928</td>\n",
              "      <td>9137</td>\n",
              "      <td>10017</td>\n",
              "      <td>10826</td>\n",
              "      <td>11317</td>\n",
              "      <td>10744</td>\n",
              "      <td>9713</td>\n",
              "      <td>9938</td>\n",
              "      <td>9161</td>\n",
              "      <td>8927</td>\n",
              "    </tr>\n",
              "    <tr>\n",
              "      <th>1974</th>\n",
              "      <td>7750</td>\n",
              "      <td>6981</td>\n",
              "      <td>8038</td>\n",
              "      <td>8422</td>\n",
              "      <td>8714</td>\n",
              "      <td>9512</td>\n",
              "      <td>10120</td>\n",
              "      <td>9823</td>\n",
              "      <td>8743</td>\n",
              "      <td>9129</td>\n",
              "      <td>8710</td>\n",
              "      <td>8680</td>\n",
              "    </tr>\n",
              "    <tr>\n",
              "      <th>1975</th>\n",
              "      <td>8162</td>\n",
              "      <td>7306</td>\n",
              "      <td>8124</td>\n",
              "      <td>7870</td>\n",
              "      <td>9387</td>\n",
              "      <td>9556</td>\n",
              "      <td>10093</td>\n",
              "      <td>9620</td>\n",
              "      <td>8285</td>\n",
              "      <td>8433</td>\n",
              "      <td>8160</td>\n",
              "      <td>8034</td>\n",
              "    </tr>\n",
              "    <tr>\n",
              "      <th>1976</th>\n",
              "      <td>7717</td>\n",
              "      <td>7461</td>\n",
              "      <td>7776</td>\n",
              "      <td>7925</td>\n",
              "      <td>8634</td>\n",
              "      <td>8945</td>\n",
              "      <td>10078</td>\n",
              "      <td>9179</td>\n",
              "      <td>8037</td>\n",
              "      <td>8488</td>\n",
              "      <td>7874</td>\n",
              "      <td>8647</td>\n",
              "    </tr>\n",
              "    <tr>\n",
              "      <th>1977</th>\n",
              "      <td>7792</td>\n",
              "      <td>6957</td>\n",
              "      <td>7726</td>\n",
              "      <td>8106</td>\n",
              "      <td>8890</td>\n",
              "      <td>9299</td>\n",
              "      <td>10625</td>\n",
              "      <td>9302</td>\n",
              "      <td>8314</td>\n",
              "      <td>8850</td>\n",
              "      <td>8265</td>\n",
              "      <td>8796</td>\n",
              "    </tr>\n",
              "    <tr>\n",
              "      <th>1978</th>\n",
              "      <td>7836</td>\n",
              "      <td>6892</td>\n",
              "      <td>7791</td>\n",
              "      <td>8129</td>\n",
              "      <td>9115</td>\n",
              "      <td>9434</td>\n",
              "      <td>10484</td>\n",
              "      <td>9827</td>\n",
              "      <td>9110</td>\n",
              "      <td>9070</td>\n",
              "      <td>8633</td>\n",
              "      <td>9240</td>\n",
              "    </tr>\n",
              "  </tbody>\n",
              "</table>\n",
              "</div>\n",
              "      <button class=\"colab-df-convert\" onclick=\"convertToInteractive('df-b8f1d0a0-84f9-4cba-a1c1-a37fd495fc4f')\"\n",
              "              title=\"Convert this dataframe to an interactive table.\"\n",
              "              style=\"display:none;\">\n",
              "        \n",
              "  <svg xmlns=\"http://www.w3.org/2000/svg\" height=\"24px\"viewBox=\"0 0 24 24\"\n",
              "       width=\"24px\">\n",
              "    <path d=\"M0 0h24v24H0V0z\" fill=\"none\"/>\n",
              "    <path d=\"M18.56 5.44l.94 2.06.94-2.06 2.06-.94-2.06-.94-.94-2.06-.94 2.06-2.06.94zm-11 1L8.5 8.5l.94-2.06 2.06-.94-2.06-.94L8.5 2.5l-.94 2.06-2.06.94zm10 10l.94 2.06.94-2.06 2.06-.94-2.06-.94-.94-2.06-.94 2.06-2.06.94z\"/><path d=\"M17.41 7.96l-1.37-1.37c-.4-.4-.92-.59-1.43-.59-.52 0-1.04.2-1.43.59L10.3 9.45l-7.72 7.72c-.78.78-.78 2.05 0 2.83L4 21.41c.39.39.9.59 1.41.59.51 0 1.02-.2 1.41-.59l7.78-7.78 2.81-2.81c.8-.78.8-2.07 0-2.86zM5.41 20L4 18.59l7.72-7.72 1.47 1.35L5.41 20z\"/>\n",
              "  </svg>\n",
              "      </button>\n",
              "      \n",
              "  <style>\n",
              "    .colab-df-container {\n",
              "      display:flex;\n",
              "      flex-wrap:wrap;\n",
              "      gap: 12px;\n",
              "    }\n",
              "\n",
              "    .colab-df-convert {\n",
              "      background-color: #E8F0FE;\n",
              "      border: none;\n",
              "      border-radius: 50%;\n",
              "      cursor: pointer;\n",
              "      display: none;\n",
              "      fill: #1967D2;\n",
              "      height: 32px;\n",
              "      padding: 0 0 0 0;\n",
              "      width: 32px;\n",
              "    }\n",
              "\n",
              "    .colab-df-convert:hover {\n",
              "      background-color: #E2EBFA;\n",
              "      box-shadow: 0px 1px 2px rgba(60, 64, 67, 0.3), 0px 1px 3px 1px rgba(60, 64, 67, 0.15);\n",
              "      fill: #174EA6;\n",
              "    }\n",
              "\n",
              "    [theme=dark] .colab-df-convert {\n",
              "      background-color: #3B4455;\n",
              "      fill: #D2E3FC;\n",
              "    }\n",
              "\n",
              "    [theme=dark] .colab-df-convert:hover {\n",
              "      background-color: #434B5C;\n",
              "      box-shadow: 0px 1px 3px 1px rgba(0, 0, 0, 0.15);\n",
              "      filter: drop-shadow(0px 1px 2px rgba(0, 0, 0, 0.3));\n",
              "      fill: #FFFFFF;\n",
              "    }\n",
              "  </style>\n",
              "\n",
              "      <script>\n",
              "        const buttonEl =\n",
              "          document.querySelector('#df-b8f1d0a0-84f9-4cba-a1c1-a37fd495fc4f button.colab-df-convert');\n",
              "        buttonEl.style.display =\n",
              "          google.colab.kernel.accessAllowed ? 'block' : 'none';\n",
              "\n",
              "        async function convertToInteractive(key) {\n",
              "          const element = document.querySelector('#df-b8f1d0a0-84f9-4cba-a1c1-a37fd495fc4f');\n",
              "          const dataTable =\n",
              "            await google.colab.kernel.invokeFunction('convertToInteractive',\n",
              "                                                     [key], {});\n",
              "          if (!dataTable) return;\n",
              "\n",
              "          const docLinkHtml = 'Like what you see? Visit the ' +\n",
              "            '<a target=\"_blank\" href=https://colab.research.google.com/notebooks/data_table.ipynb>data table notebook</a>'\n",
              "            + ' to learn more about interactive tables.';\n",
              "          element.innerHTML = '';\n",
              "          dataTable['output_type'] = 'display_data';\n",
              "          await google.colab.output.renderOutput(dataTable, element);\n",
              "          const docLink = document.createElement('div');\n",
              "          docLink.innerHTML = docLinkHtml;\n",
              "          element.appendChild(docLink);\n",
              "        }\n",
              "      </script>\n",
              "    </div>\n",
              "  </div>\n",
              "  "
            ]
          },
          "metadata": {},
          "execution_count": 5
        }
      ]
    },
    {
      "cell_type": "markdown",
      "source": [
        "Use exponential smoothing to predict the accidental deaths in the US for January 1978, based on the historical data from January 1973 to December 1977. Plot the predicted data along with the actual and the past data."
      ],
      "metadata": {
        "id": "KzqVdLhhNdzW"
      }
    },
    {
      "cell_type": "code",
      "source": [
        "# Importing libraries\n",
        "import numpy as np\n",
        "\n",
        "# Exponential smoothing is calculated and rounded off to 2 decimal values\n",
        "np.round(usdeaths.ewm(alpha = 0.2, adjust = False).mean().head(-10), 2)"
      ],
      "metadata": {
        "colab": {
          "base_uri": "https://localhost:8080/",
          "height": 424
        },
        "id": "u0WXhiEL_8rv",
        "outputId": "c902b990-0408-46da-e65b-0ae91edf5df7"
      },
      "execution_count": null,
      "outputs": [
        {
          "output_type": "execute_result",
          "data": {
            "text/plain": [
              "          x\n",
              "0   9007.00\n",
              "1   8826.80\n",
              "2   8847.04\n",
              "3   8905.03\n",
              "4   9127.43\n",
              "..      ...\n",
              "57  8827.53\n",
              "58  8715.03\n",
              "59  8731.22\n",
              "60  8552.18\n",
              "61  8220.14\n",
              "\n",
              "[62 rows x 1 columns]"
            ],
            "text/html": [
              "\n",
              "  <div id=\"df-69cc9122-2baa-46f2-855d-53dc81e3dc5c\">\n",
              "    <div class=\"colab-df-container\">\n",
              "      <div>\n",
              "<style scoped>\n",
              "    .dataframe tbody tr th:only-of-type {\n",
              "        vertical-align: middle;\n",
              "    }\n",
              "\n",
              "    .dataframe tbody tr th {\n",
              "        vertical-align: top;\n",
              "    }\n",
              "\n",
              "    .dataframe thead th {\n",
              "        text-align: right;\n",
              "    }\n",
              "</style>\n",
              "<table border=\"1\" class=\"dataframe\">\n",
              "  <thead>\n",
              "    <tr style=\"text-align: right;\">\n",
              "      <th></th>\n",
              "      <th>x</th>\n",
              "    </tr>\n",
              "  </thead>\n",
              "  <tbody>\n",
              "    <tr>\n",
              "      <th>0</th>\n",
              "      <td>9007.00</td>\n",
              "    </tr>\n",
              "    <tr>\n",
              "      <th>1</th>\n",
              "      <td>8826.80</td>\n",
              "    </tr>\n",
              "    <tr>\n",
              "      <th>2</th>\n",
              "      <td>8847.04</td>\n",
              "    </tr>\n",
              "    <tr>\n",
              "      <th>3</th>\n",
              "      <td>8905.03</td>\n",
              "    </tr>\n",
              "    <tr>\n",
              "      <th>4</th>\n",
              "      <td>9127.43</td>\n",
              "    </tr>\n",
              "    <tr>\n",
              "      <th>...</th>\n",
              "      <td>...</td>\n",
              "    </tr>\n",
              "    <tr>\n",
              "      <th>57</th>\n",
              "      <td>8827.53</td>\n",
              "    </tr>\n",
              "    <tr>\n",
              "      <th>58</th>\n",
              "      <td>8715.03</td>\n",
              "    </tr>\n",
              "    <tr>\n",
              "      <th>59</th>\n",
              "      <td>8731.22</td>\n",
              "    </tr>\n",
              "    <tr>\n",
              "      <th>60</th>\n",
              "      <td>8552.18</td>\n",
              "    </tr>\n",
              "    <tr>\n",
              "      <th>61</th>\n",
              "      <td>8220.14</td>\n",
              "    </tr>\n",
              "  </tbody>\n",
              "</table>\n",
              "<p>62 rows × 1 columns</p>\n",
              "</div>\n",
              "      <button class=\"colab-df-convert\" onclick=\"convertToInteractive('df-69cc9122-2baa-46f2-855d-53dc81e3dc5c')\"\n",
              "              title=\"Convert this dataframe to an interactive table.\"\n",
              "              style=\"display:none;\">\n",
              "        \n",
              "  <svg xmlns=\"http://www.w3.org/2000/svg\" height=\"24px\"viewBox=\"0 0 24 24\"\n",
              "       width=\"24px\">\n",
              "    <path d=\"M0 0h24v24H0V0z\" fill=\"none\"/>\n",
              "    <path d=\"M18.56 5.44l.94 2.06.94-2.06 2.06-.94-2.06-.94-.94-2.06-.94 2.06-2.06.94zm-11 1L8.5 8.5l.94-2.06 2.06-.94-2.06-.94L8.5 2.5l-.94 2.06-2.06.94zm10 10l.94 2.06.94-2.06 2.06-.94-2.06-.94-.94-2.06-.94 2.06-2.06.94z\"/><path d=\"M17.41 7.96l-1.37-1.37c-.4-.4-.92-.59-1.43-.59-.52 0-1.04.2-1.43.59L10.3 9.45l-7.72 7.72c-.78.78-.78 2.05 0 2.83L4 21.41c.39.39.9.59 1.41.59.51 0 1.02-.2 1.41-.59l7.78-7.78 2.81-2.81c.8-.78.8-2.07 0-2.86zM5.41 20L4 18.59l7.72-7.72 1.47 1.35L5.41 20z\"/>\n",
              "  </svg>\n",
              "      </button>\n",
              "      \n",
              "  <style>\n",
              "    .colab-df-container {\n",
              "      display:flex;\n",
              "      flex-wrap:wrap;\n",
              "      gap: 12px;\n",
              "    }\n",
              "\n",
              "    .colab-df-convert {\n",
              "      background-color: #E8F0FE;\n",
              "      border: none;\n",
              "      border-radius: 50%;\n",
              "      cursor: pointer;\n",
              "      display: none;\n",
              "      fill: #1967D2;\n",
              "      height: 32px;\n",
              "      padding: 0 0 0 0;\n",
              "      width: 32px;\n",
              "    }\n",
              "\n",
              "    .colab-df-convert:hover {\n",
              "      background-color: #E2EBFA;\n",
              "      box-shadow: 0px 1px 2px rgba(60, 64, 67, 0.3), 0px 1px 3px 1px rgba(60, 64, 67, 0.15);\n",
              "      fill: #174EA6;\n",
              "    }\n",
              "\n",
              "    [theme=dark] .colab-df-convert {\n",
              "      background-color: #3B4455;\n",
              "      fill: #D2E3FC;\n",
              "    }\n",
              "\n",
              "    [theme=dark] .colab-df-convert:hover {\n",
              "      background-color: #434B5C;\n",
              "      box-shadow: 0px 1px 3px 1px rgba(0, 0, 0, 0.15);\n",
              "      filter: drop-shadow(0px 1px 2px rgba(0, 0, 0, 0.3));\n",
              "      fill: #FFFFFF;\n",
              "    }\n",
              "  </style>\n",
              "\n",
              "      <script>\n",
              "        const buttonEl =\n",
              "          document.querySelector('#df-69cc9122-2baa-46f2-855d-53dc81e3dc5c button.colab-df-convert');\n",
              "        buttonEl.style.display =\n",
              "          google.colab.kernel.accessAllowed ? 'block' : 'none';\n",
              "\n",
              "        async function convertToInteractive(key) {\n",
              "          const element = document.querySelector('#df-69cc9122-2baa-46f2-855d-53dc81e3dc5c');\n",
              "          const dataTable =\n",
              "            await google.colab.kernel.invokeFunction('convertToInteractive',\n",
              "                                                     [key], {});\n",
              "          if (!dataTable) return;\n",
              "\n",
              "          const docLinkHtml = 'Like what you see? Visit the ' +\n",
              "            '<a target=\"_blank\" href=https://colab.research.google.com/notebooks/data_table.ipynb>data table notebook</a>'\n",
              "            + ' to learn more about interactive tables.';\n",
              "          element.innerHTML = '';\n",
              "          dataTable['output_type'] = 'display_data';\n",
              "          await google.colab.output.renderOutput(dataTable, element);\n",
              "          const docLink = document.createElement('div');\n",
              "          docLink.innerHTML = docLinkHtml;\n",
              "          element.appendChild(docLink);\n",
              "        }\n",
              "      </script>\n",
              "    </div>\n",
              "  </div>\n",
              "  "
            ]
          },
          "metadata": {},
          "execution_count": 10
        }
      ]
    },
    {
      "cell_type": "code",
      "source": [
        "# Importing libraries\n",
        "import numpy as np\n",
        "\n",
        "# Simple exponential smoothing\n",
        "# Finding alpha value for the forecasted value and mean squared error\n",
        "from statsmodels.tsa.holtwinters import SimpleExpSmoothing\n",
        "from sklearn.metrics import mean_squared_error\n",
        "for i in range(1, 11):\n",
        "    model = SimpleExpSmoothing(usdeaths.iloc[:61]).fit(smoothing_level=i/10, optimized=False)\n",
        "    forecasted_val = np.round(model.forecast(1), 2)\n",
        "    print('alpha = ', i/10, '| Forecasted value: ', forecasted_val, \n",
        "          '| MSE: ', np.round(mean_squared_error(np.array(usdeaths.iloc[61]), np.array([forecasted_val])), 2))"
      ],
      "metadata": {
        "colab": {
          "base_uri": "https://localhost:8080/"
        },
        "id": "6_s_0vfADNme",
        "outputId": "c796f149-b569-46c8-a139-5c1d8545c230"
      },
      "execution_count": null,
      "outputs": [
        {
          "output_type": "stream",
          "name": "stderr",
          "text": [
            "/usr/local/lib/python3.7/dist-packages/statsmodels/tools/_testing.py:19: FutureWarning: pandas.util.testing is deprecated. Use the functions in the public API at pandas.testing instead.\n",
            "  import pandas.util.testing as tm\n"
          ]
        },
        {
          "output_type": "stream",
          "name": "stdout",
          "text": [
            "alpha =  0.1 | Forecasted value:  61    8569.72\n",
            "dtype: float64 | MSE:  2814744.4\n",
            "alpha =  0.2 | Forecasted value:  61    8552.18\n",
            "dtype: float64 | MSE:  2756197.63\n",
            "alpha =  0.3 | Forecasted value:  61    8469.32\n",
            "dtype: float64 | MSE:  2487938.38\n",
            "alpha =  0.4 | Forecasted value:  61    8361.99\n",
            "dtype: float64 | MSE:  2160870.6\n",
            "alpha =  0.5 | Forecasted value:  61    8260.47\n",
            "dtype: float64 | MSE:  1872710.14\n",
            "alpha =  0.6 | Forecasted value:  61    8171.59\n",
            "dtype: float64 | MSE:  1637350.57\n",
            "alpha =  0.7 | Forecasted value:  61    8090.69\n",
            "dtype: float64 | MSE:  1436857.72\n",
            "alpha =  0.8 | Forecasted value:  61    8010.96\n",
            "dtype: float64 | MSE:  1252071.48\n",
            "alpha =  0.9 | Forecasted value:  61    7927.23\n",
            "dtype: float64 | MSE:  1071701.15\n",
            "alpha =  1.0 | Forecasted value:  61    7836.0\n",
            "dtype: float64 | MSE:  891136.0\n"
          ]
        }
      ]
    },
    {
      "cell_type": "code",
      "source": [
        "# Importing libraries\n",
        "import numpy as np\n",
        "import scipy as sp\n",
        "\n",
        "# Function to find optimum value of alpha\n",
        "def optimum_alpha(x):\n",
        "    model = SimpleExpSmoothing(usdeaths.iloc[:61]).fit(smoothing_level=x, optimized = False)\n",
        "    forecasted_val = np.round(model.forecast(1), 2)\n",
        "    mse = np.round(mean_squared_error(np.array(usdeaths.iloc[61]), np.array([forecasted_val])), 2)\n",
        "    print('alpha: ', np.round(x[0], 5), 'MSE: ', mse)\n",
        "    return mse\n",
        "optimum_alpha_result = sp.optimize.fmin(optimum_alpha, x0=1)\n",
        "if optimum_alpha_result < 0:\n",
        "    optimum_alpha_result = 0.001 # Least value, you can perform further optimization to improve it\n",
        "optimum_alpha_result   "
      ],
      "metadata": {
        "id": "iQ6WNjK_D94B",
        "colab": {
          "base_uri": "https://localhost:8080/"
        },
        "outputId": "cad3a9ac-9abc-4ec7-a4c1-40bdf3293af3"
      },
      "execution_count": null,
      "outputs": [
        {
          "output_type": "stream",
          "name": "stdout",
          "text": [
            "alpha:  1.0 MSE:  891136.0\n",
            "alpha:  1.05 MSE:  800309.16\n",
            "alpha:  1.1 MSE:  709031.36\n",
            "alpha:  1.15 MSE:  617403.06\n",
            "alpha:  1.25 MSE:  434294.18\n",
            "alpha:  1.35 MSE:  257952.25\n",
            "alpha:  1.55 MSE:  13537.32\n",
            "alpha:  1.75 MSE:  91439.71\n",
            "alpha:  1.75 MSE:  91439.71\n",
            "alpha:  1.65 MSE:  11541.2\n",
            "alpha:  1.75 MSE:  91439.71\n",
            "alpha:  1.6 MSE:  17.72\n",
            "alpha:  1.55 MSE:  13537.32\n",
            "alpha:  1.625 MSE:  2706.08\n",
            "alpha:  1.575 MSE:  3663.88\n",
            "alpha:  1.6125 MSE:  574.08\n",
            "alpha:  1.5875 MSE:  1049.11\n",
            "alpha:  1.60625 MSE:  97.61\n",
            "alpha:  1.59375 MSE:  334.89\n",
            "alpha:  1.60313 MSE:  8.07\n",
            "alpha:  1.60625 MSE:  97.61\n",
            "alpha:  1.60156 MSE:  0.46\n",
            "alpha:  1.6 MSE:  17.72\n",
            "alpha:  1.60234 MSE:  1.17\n",
            "alpha:  1.60078 MSE:  6.0\n",
            "alpha:  1.60195 MSE:  0.04\n",
            "alpha:  1.60234 MSE:  1.17\n",
            "alpha:  1.60176 MSE:  0.06\n",
            "alpha:  1.60215 MSE:  0.41\n",
            "alpha:  1.60186 MSE:  0.0\n",
            "alpha:  1.60176 MSE:  0.06\n",
            "alpha:  1.6019 MSE:  0.01\n",
            "alpha:  1.60181 MSE:  0.02\n",
            "alpha:  1.60188 MSE:  0.0\n",
            "Optimization terminated successfully.\n",
            "         Current function value: 0.000000\n",
            "         Iterations: 17\n",
            "         Function evaluations: 34\n"
          ]
        },
        {
          "output_type": "execute_result",
          "data": {
            "text/plain": [
              "array([1.60185547])"
            ]
          },
          "metadata": {},
          "execution_count": 11
        }
      ]
    },
    {
      "cell_type": "markdown",
      "source": [
        "Use ARIMA to predict the monthly deaths in the US for the year 1978, based on the historical data from January 1973 to December 1977. Also, plot the forecasted data along with the actual and the past data.\n",
        "\n",
        "Important document: https://docs.w3cub.com/statsmodels/generated/statsmodels.tsa.statespace.sarimax.sarimaxresults.conf_int"
      ],
      "metadata": {
        "id": "yYVSBO1dNgmC"
      }
    },
    {
      "cell_type": "code",
      "source": [
        "# Importing libraries\n",
        "import numpy as np\n",
        "import matplotlib.pyplot as plt\n",
        "import seaborn as sns\n",
        "from statsmodels.tsa.statespace.sarimax import SARIMAX\n",
        "\n",
        "# Values to keep in training data, k\n",
        "k = 60\n",
        "\n",
        "# Model building\n",
        "model = SARIMAX(np.log(usdeaths.iloc[:k]), \n",
        "                order=(2, 1, 2), \n",
        "                seasonal_order=(1, 1, 1, 12), \n",
        "                enforce_stationarity=False, \n",
        "                enforce_invertibility=False)\n",
        "model_fit = model.fit(disp=False)\n",
        "model_conf = model_fit.conf_int()\n",
        "print(model_conf)\n",
        "\n",
        "# Visualization\n",
        "plt.figure(figsize=(15, 5))\n",
        "plt.plot(usdeaths.iloc[:k + 1], label='Train data')\n",
        "plt.plot(usdeaths.iloc[k:], label='Test data')\n",
        "plt.plot(np.round(np.exp(model_fit.forecast(72-k))), label='Forecasted data')\n",
        "plt.legend(loc='upper center')\n",
        "sns.despine()\n",
        "plt.xlabel('Year', fontsize=15)\n",
        "plt.ylabel('Number of Deaths', fontsize=15)\n",
        "plt.title('SARIMA forecasting', fontsize=18, weight='bold')\n",
        "plt.show()"
      ],
      "metadata": {
        "id": "-sRxG3bFNAa6",
        "colab": {
          "base_uri": "https://localhost:8080/",
          "height": 553
        },
        "outputId": "d5af6afd-d408-4179-ba63-bdec65dd6a0b"
      },
      "execution_count": null,
      "outputs": [
        {
          "output_type": "stream",
          "name": "stderr",
          "text": [
            "/usr/local/lib/python3.7/dist-packages/statsmodels/base/model.py:512: ConvergenceWarning: Maximum Likelihood optimization failed to converge. Check mle_retvals\n",
            "  \"Check mle_retvals\", ConvergenceWarning)\n"
          ]
        },
        {
          "output_type": "stream",
          "name": "stdout",
          "text": [
            "                     0             1\n",
            "ar.L1    -2.724512e-01 -2.724512e-01\n",
            "ar.L2    -1.382215e-01 -1.382215e-01\n",
            "ma.L1    -2.344359e-01 -2.344359e-01\n",
            "ma.L2    -2.485913e-02 -2.485913e-02\n",
            "ar.S.L12 -1.711137e-01 -1.711137e-01\n",
            "ma.S.L12  6.320768e+13  6.320768e+13\n",
            "sigma2   -6.556863e-10  6.603430e-10\n"
          ]
        },
        {
          "output_type": "display_data",
          "data": {
            "text/plain": [
              "<Figure size 1080x360 with 1 Axes>"
            ],
            "image/png": "[encoded data removed]"
          },
          "metadata": {
            "needs_background": "light"
          }
        }
      ]
    },
    {
      "cell_type": "code",
      "source": [
        "# Importing libraries\n",
        "import numpy as np\n",
        "\n",
        "#finding the mean squared error\n",
        "from sklearn.metrics import mean_squared_error\n",
        "np.sqrt(mean_squared_error(usdeaths.iloc[k:], np.round(np.exp(model_fit.forecast(72-k)))))"
      ],
      "metadata": {
        "colab": {
          "base_uri": "https://localhost:8080/"
        },
        "id": "7geG1TfoiO5I",
        "outputId": "ddb4301d-f148-447d-e412-15ab3f752f8d"
      },
      "execution_count": null,
      "outputs": [
        {
          "output_type": "execute_result",
          "data": {
            "text/plain": [
              "274.15856117704345"
            ]
          },
          "metadata": {},
          "execution_count": 26
        }
      ]
    },
    {
      "cell_type": "code",
      "source": [
        "# Importing libraries\n",
        "import numpy as np\n",
        "import pandas as pd\n",
        "from statsmodels.tsa.statespace.sarimax import SARIMAX\n",
        "\n",
        "# Iterating over parameters\n",
        "rmse = []\n",
        "params = []\n",
        "for p in range(3):\n",
        "    for d in range(2):\n",
        "        for q in range(3):\n",
        "            for P in range(3):\n",
        "                for D in range(2):\n",
        "                    for Q in range(3):            \n",
        "                        try:\n",
        "                            model = SARIMAX(np.log(usdeaths.iloc[:k]), \n",
        "                                            order=(p, d, q), \n",
        "                                            seasonal_order=(P, D, Q, 12), \n",
        "                                            enforce_stationarity=False, \n",
        "                                            enforce_invertibility=False)\n",
        "                            model_fit = model.fit(disp=False)                            \n",
        "                            rmse.append(np.sqrt(mean_squared_error(usdeaths.iloc[k:], \n",
        "                                                np.round(np.exp(model_fit.forecast(72-k))))))\n",
        "                            params.append(((p, d, q), (P, D, Q)))\n",
        "                        except:\n",
        "                            pass\n",
        "                        \n",
        "# Storing RMSE and parameters and sorting the dataframe based on RMSE in ascending order\n",
        "res = pd.DataFrame([rmse, params]).T.sort_values([0])\n",
        "res.columns = ['RMSE', 'Params']\n",
        "res.head(1)"
      ],
      "metadata": {
        "colab": {
          "base_uri": "https://localhost:8080/",
          "height": 1000
        },
        "id": "W-rFCIItktlR",
        "outputId": "71de7a53-1613-4532-e0af-9b1ab4e37b9a"
      },
      "execution_count": null,
      "outputs": [
        {
          "output_type": "stream",
          "name": "stderr",
          "text": [
            "/usr/local/lib/python3.7/dist-packages/statsmodels/base/model.py:512: ConvergenceWarning: Maximum Likelihood optimization failed to converge. Check mle_retvals\n",
            "  \"Check mle_retvals\", ConvergenceWarning)\n",
            "/usr/local/lib/python3.7/dist-packages/statsmodels/base/model.py:512: ConvergenceWarning: Maximum Likelihood optimization failed to converge. Check mle_retvals\n",
            "  \"Check mle_retvals\", ConvergenceWarning)\n",
            "/usr/local/lib/python3.7/dist-packages/statsmodels/base/model.py:512: ConvergenceWarning: Maximum Likelihood optimization failed to converge. Check mle_retvals\n",
            "  \"Check mle_retvals\", ConvergenceWarning)\n",
            "/usr/local/lib/python3.7/dist-packages/statsmodels/base/model.py:512: ConvergenceWarning: Maximum Likelihood optimization failed to converge. Check mle_retvals\n",
            "  \"Check mle_retvals\", ConvergenceWarning)\n",
            "/usr/local/lib/python3.7/dist-packages/statsmodels/base/model.py:512: ConvergenceWarning: Maximum Likelihood optimization failed to converge. Check mle_retvals\n",
            "  \"Check mle_retvals\", ConvergenceWarning)\n",
            "/usr/local/lib/python3.7/dist-packages/statsmodels/base/model.py:512: ConvergenceWarning: Maximum Likelihood optimization failed to converge. Check mle_retvals\n",
            "  \"Check mle_retvals\", ConvergenceWarning)\n",
            "/usr/local/lib/python3.7/dist-packages/statsmodels/base/model.py:512: ConvergenceWarning: Maximum Likelihood optimization failed to converge. Check mle_retvals\n",
            "  \"Check mle_retvals\", ConvergenceWarning)\n",
            "/usr/local/lib/python3.7/dist-packages/statsmodels/base/model.py:512: ConvergenceWarning: Maximum Likelihood optimization failed to converge. Check mle_retvals\n",
            "  \"Check mle_retvals\", ConvergenceWarning)\n",
            "/usr/local/lib/python3.7/dist-packages/statsmodels/base/model.py:512: ConvergenceWarning: Maximum Likelihood optimization failed to converge. Check mle_retvals\n",
            "  \"Check mle_retvals\", ConvergenceWarning)\n",
            "/usr/local/lib/python3.7/dist-packages/statsmodels/base/model.py:512: ConvergenceWarning: Maximum Likelihood optimization failed to converge. Check mle_retvals\n",
            "  \"Check mle_retvals\", ConvergenceWarning)\n",
            "/usr/local/lib/python3.7/dist-packages/statsmodels/base/model.py:512: ConvergenceWarning: Maximum Likelihood optimization failed to converge. Check mle_retvals\n",
            "  \"Check mle_retvals\", ConvergenceWarning)\n",
            "/usr/local/lib/python3.7/dist-packages/statsmodels/base/model.py:512: ConvergenceWarning: Maximum Likelihood optimization failed to converge. Check mle_retvals\n",
            "  \"Check mle_retvals\", ConvergenceWarning)\n",
            "/usr/local/lib/python3.7/dist-packages/statsmodels/base/model.py:512: ConvergenceWarning: Maximum Likelihood optimization failed to converge. Check mle_retvals\n",
            "  \"Check mle_retvals\", ConvergenceWarning)\n",
            "/usr/local/lib/python3.7/dist-packages/statsmodels/base/model.py:512: ConvergenceWarning: Maximum Likelihood optimization failed to converge. Check mle_retvals\n",
            "  \"Check mle_retvals\", ConvergenceWarning)\n",
            "/usr/local/lib/python3.7/dist-packages/statsmodels/base/model.py:512: ConvergenceWarning: Maximum Likelihood optimization failed to converge. Check mle_retvals\n",
            "  \"Check mle_retvals\", ConvergenceWarning)\n",
            "/usr/local/lib/python3.7/dist-packages/statsmodels/base/model.py:512: ConvergenceWarning: Maximum Likelihood optimization failed to converge. Check mle_retvals\n",
            "  \"Check mle_retvals\", ConvergenceWarning)\n",
            "/usr/local/lib/python3.7/dist-packages/statsmodels/base/model.py:512: ConvergenceWarning: Maximum Likelihood optimization failed to converge. Check mle_retvals\n",
            "  \"Check mle_retvals\", ConvergenceWarning)\n",
            "/usr/local/lib/python3.7/dist-packages/statsmodels/base/model.py:512: ConvergenceWarning: Maximum Likelihood optimization failed to converge. Check mle_retvals\n",
            "  \"Check mle_retvals\", ConvergenceWarning)\n",
            "/usr/local/lib/python3.7/dist-packages/statsmodels/base/model.py:512: ConvergenceWarning: Maximum Likelihood optimization failed to converge. Check mle_retvals\n",
            "  \"Check mle_retvals\", ConvergenceWarning)\n",
            "/usr/local/lib/python3.7/dist-packages/statsmodels/base/model.py:512: ConvergenceWarning: Maximum Likelihood optimization failed to converge. Check mle_retvals\n",
            "  \"Check mle_retvals\", ConvergenceWarning)\n",
            "/usr/local/lib/python3.7/dist-packages/statsmodels/base/model.py:512: ConvergenceWarning: Maximum Likelihood optimization failed to converge. Check mle_retvals\n",
            "  \"Check mle_retvals\", ConvergenceWarning)\n",
            "/usr/local/lib/python3.7/dist-packages/statsmodels/base/model.py:512: ConvergenceWarning: Maximum Likelihood optimization failed to converge. Check mle_retvals\n",
            "  \"Check mle_retvals\", ConvergenceWarning)\n",
            "/usr/local/lib/python3.7/dist-packages/statsmodels/base/model.py:512: ConvergenceWarning: Maximum Likelihood optimization failed to converge. Check mle_retvals\n",
            "  \"Check mle_retvals\", ConvergenceWarning)\n",
            "/usr/local/lib/python3.7/dist-packages/statsmodels/base/model.py:512: ConvergenceWarning: Maximum Likelihood optimization failed to converge. Check mle_retvals\n",
            "  \"Check mle_retvals\", ConvergenceWarning)\n",
            "/usr/local/lib/python3.7/dist-packages/statsmodels/base/model.py:512: ConvergenceWarning: Maximum Likelihood optimization failed to converge. Check mle_retvals\n",
            "  \"Check mle_retvals\", ConvergenceWarning)\n",
            "/usr/local/lib/python3.7/dist-packages/statsmodels/base/model.py:512: ConvergenceWarning: Maximum Likelihood optimization failed to converge. Check mle_retvals\n",
            "  \"Check mle_retvals\", ConvergenceWarning)\n",
            "/usr/local/lib/python3.7/dist-packages/statsmodels/base/model.py:512: ConvergenceWarning: Maximum Likelihood optimization failed to converge. Check mle_retvals\n",
            "  \"Check mle_retvals\", ConvergenceWarning)\n",
            "/usr/local/lib/python3.7/dist-packages/statsmodels/base/model.py:512: ConvergenceWarning: Maximum Likelihood optimization failed to converge. Check mle_retvals\n",
            "  \"Check mle_retvals\", ConvergenceWarning)\n",
            "/usr/local/lib/python3.7/dist-packages/statsmodels/base/model.py:512: ConvergenceWarning: Maximum Likelihood optimization failed to converge. Check mle_retvals\n",
            "  \"Check mle_retvals\", ConvergenceWarning)\n",
            "/usr/local/lib/python3.7/dist-packages/statsmodels/base/model.py:512: ConvergenceWarning: Maximum Likelihood optimization failed to converge. Check mle_retvals\n",
            "  \"Check mle_retvals\", ConvergenceWarning)\n",
            "/usr/local/lib/python3.7/dist-packages/statsmodels/base/model.py:512: ConvergenceWarning: Maximum Likelihood optimization failed to converge. Check mle_retvals\n",
            "  \"Check mle_retvals\", ConvergenceWarning)\n",
            "/usr/local/lib/python3.7/dist-packages/statsmodels/base/model.py:512: ConvergenceWarning: Maximum Likelihood optimization failed to converge. Check mle_retvals\n",
            "  \"Check mle_retvals\", ConvergenceWarning)\n",
            "/usr/local/lib/python3.7/dist-packages/statsmodels/base/model.py:512: ConvergenceWarning: Maximum Likelihood optimization failed to converge. Check mle_retvals\n",
            "  \"Check mle_retvals\", ConvergenceWarning)\n",
            "/usr/local/lib/python3.7/dist-packages/statsmodels/base/model.py:512: ConvergenceWarning: Maximum Likelihood optimization failed to converge. Check mle_retvals\n",
            "  \"Check mle_retvals\", ConvergenceWarning)\n",
            "/usr/local/lib/python3.7/dist-packages/statsmodels/base/model.py:512: ConvergenceWarning: Maximum Likelihood optimization failed to converge. Check mle_retvals\n",
            "  \"Check mle_retvals\", ConvergenceWarning)\n",
            "/usr/local/lib/python3.7/dist-packages/statsmodels/base/model.py:512: ConvergenceWarning: Maximum Likelihood optimization failed to converge. Check mle_retvals\n",
            "  \"Check mle_retvals\", ConvergenceWarning)\n",
            "/usr/local/lib/python3.7/dist-packages/statsmodels/base/model.py:512: ConvergenceWarning: Maximum Likelihood optimization failed to converge. Check mle_retvals\n",
            "  \"Check mle_retvals\", ConvergenceWarning)\n",
            "/usr/local/lib/python3.7/dist-packages/statsmodels/base/model.py:512: ConvergenceWarning: Maximum Likelihood optimization failed to converge. Check mle_retvals\n",
            "  \"Check mle_retvals\", ConvergenceWarning)\n",
            "/usr/local/lib/python3.7/dist-packages/statsmodels/base/model.py:512: ConvergenceWarning: Maximum Likelihood optimization failed to converge. Check mle_retvals\n",
            "  \"Check mle_retvals\", ConvergenceWarning)\n",
            "/usr/local/lib/python3.7/dist-packages/statsmodels/base/model.py:512: ConvergenceWarning: Maximum Likelihood optimization failed to converge. Check mle_retvals\n",
            "  \"Check mle_retvals\", ConvergenceWarning)\n",
            "/usr/local/lib/python3.7/dist-packages/statsmodels/base/model.py:512: ConvergenceWarning: Maximum Likelihood optimization failed to converge. Check mle_retvals\n",
            "  \"Check mle_retvals\", ConvergenceWarning)\n",
            "/usr/local/lib/python3.7/dist-packages/statsmodels/base/model.py:512: ConvergenceWarning: Maximum Likelihood optimization failed to converge. Check mle_retvals\n",
            "  \"Check mle_retvals\", ConvergenceWarning)\n",
            "/usr/local/lib/python3.7/dist-packages/statsmodels/base/model.py:512: ConvergenceWarning: Maximum Likelihood optimization failed to converge. Check mle_retvals\n",
            "  \"Check mle_retvals\", ConvergenceWarning)\n",
            "/usr/local/lib/python3.7/dist-packages/statsmodels/base/model.py:512: ConvergenceWarning: Maximum Likelihood optimization failed to converge. Check mle_retvals\n",
            "  \"Check mle_retvals\", ConvergenceWarning)\n",
            "/usr/local/lib/python3.7/dist-packages/statsmodels/base/model.py:512: ConvergenceWarning: Maximum Likelihood optimization failed to converge. Check mle_retvals\n",
            "  \"Check mle_retvals\", ConvergenceWarning)\n",
            "/usr/local/lib/python3.7/dist-packages/statsmodels/base/model.py:512: ConvergenceWarning: Maximum Likelihood optimization failed to converge. Check mle_retvals\n",
            "  \"Check mle_retvals\", ConvergenceWarning)\n",
            "/usr/local/lib/python3.7/dist-packages/statsmodels/base/model.py:512: ConvergenceWarning: Maximum Likelihood optimization failed to converge. Check mle_retvals\n",
            "  \"Check mle_retvals\", ConvergenceWarning)\n",
            "/usr/local/lib/python3.7/dist-packages/statsmodels/base/model.py:512: ConvergenceWarning: Maximum Likelihood optimization failed to converge. Check mle_retvals\n",
            "  \"Check mle_retvals\", ConvergenceWarning)\n",
            "/usr/local/lib/python3.7/dist-packages/statsmodels/base/model.py:512: ConvergenceWarning: Maximum Likelihood optimization failed to converge. Check mle_retvals\n",
            "  \"Check mle_retvals\", ConvergenceWarning)\n",
            "/usr/local/lib/python3.7/dist-packages/statsmodels/base/model.py:512: ConvergenceWarning: Maximum Likelihood optimization failed to converge. Check mle_retvals\n",
            "  \"Check mle_retvals\", ConvergenceWarning)\n",
            "/usr/local/lib/python3.7/dist-packages/pandas/core/arraylike.py:364: RuntimeWarning: overflow encountered in exp\n",
            "  result = getattr(ufunc, method)(*inputs, **kwargs)\n",
            "/usr/local/lib/python3.7/dist-packages/statsmodels/base/model.py:512: ConvergenceWarning: Maximum Likelihood optimization failed to converge. Check mle_retvals\n",
            "  \"Check mle_retvals\", ConvergenceWarning)\n",
            "/usr/local/lib/python3.7/dist-packages/statsmodels/base/model.py:512: ConvergenceWarning: Maximum Likelihood optimization failed to converge. Check mle_retvals\n",
            "  \"Check mle_retvals\", ConvergenceWarning)\n",
            "/usr/local/lib/python3.7/dist-packages/statsmodels/base/model.py:512: ConvergenceWarning: Maximum Likelihood optimization failed to converge. Check mle_retvals\n",
            "  \"Check mle_retvals\", ConvergenceWarning)\n",
            "/usr/local/lib/python3.7/dist-packages/statsmodels/base/model.py:512: ConvergenceWarning: Maximum Likelihood optimization failed to converge. Check mle_retvals\n",
            "  \"Check mle_retvals\", ConvergenceWarning)\n",
            "/usr/local/lib/python3.7/dist-packages/statsmodels/base/model.py:512: ConvergenceWarning: Maximum Likelihood optimization failed to converge. Check mle_retvals\n",
            "  \"Check mle_retvals\", ConvergenceWarning)\n",
            "/usr/local/lib/python3.7/dist-packages/statsmodels/base/model.py:512: ConvergenceWarning: Maximum Likelihood optimization failed to converge. Check mle_retvals\n",
            "  \"Check mle_retvals\", ConvergenceWarning)\n",
            "/usr/local/lib/python3.7/dist-packages/statsmodels/base/model.py:512: ConvergenceWarning: Maximum Likelihood optimization failed to converge. Check mle_retvals\n",
            "  \"Check mle_retvals\", ConvergenceWarning)\n",
            "/usr/local/lib/python3.7/dist-packages/statsmodels/base/model.py:512: ConvergenceWarning: Maximum Likelihood optimization failed to converge. Check mle_retvals\n",
            "  \"Check mle_retvals\", ConvergenceWarning)\n",
            "/usr/local/lib/python3.7/dist-packages/statsmodels/base/model.py:512: ConvergenceWarning: Maximum Likelihood optimization failed to converge. Check mle_retvals\n",
            "  \"Check mle_retvals\", ConvergenceWarning)\n",
            "/usr/local/lib/python3.7/dist-packages/statsmodels/base/model.py:512: ConvergenceWarning: Maximum Likelihood optimization failed to converge. Check mle_retvals\n",
            "  \"Check mle_retvals\", ConvergenceWarning)\n",
            "/usr/local/lib/python3.7/dist-packages/pandas/core/arraylike.py:364: RuntimeWarning: overflow encountered in exp\n",
            "  result = getattr(ufunc, method)(*inputs, **kwargs)\n",
            "/usr/local/lib/python3.7/dist-packages/statsmodels/base/model.py:512: ConvergenceWarning: Maximum Likelihood optimization failed to converge. Check mle_retvals\n",
            "  \"Check mle_retvals\", ConvergenceWarning)\n",
            "/usr/local/lib/python3.7/dist-packages/statsmodels/base/model.py:512: ConvergenceWarning: Maximum Likelihood optimization failed to converge. Check mle_retvals\n",
            "  \"Check mle_retvals\", ConvergenceWarning)\n",
            "/usr/local/lib/python3.7/dist-packages/pandas/core/arraylike.py:364: RuntimeWarning: overflow encountered in exp\n",
            "  result = getattr(ufunc, method)(*inputs, **kwargs)\n",
            "/usr/local/lib/python3.7/dist-packages/statsmodels/base/model.py:512: ConvergenceWarning: Maximum Likelihood optimization failed to converge. Check mle_retvals\n",
            "  \"Check mle_retvals\", ConvergenceWarning)\n",
            "/usr/local/lib/python3.7/dist-packages/statsmodels/base/model.py:512: ConvergenceWarning: Maximum Likelihood optimization failed to converge. Check mle_retvals\n",
            "  \"Check mle_retvals\", ConvergenceWarning)\n",
            "/usr/local/lib/python3.7/dist-packages/statsmodels/base/model.py:512: ConvergenceWarning: Maximum Likelihood optimization failed to converge. Check mle_retvals\n",
            "  \"Check mle_retvals\", ConvergenceWarning)\n",
            "/usr/local/lib/python3.7/dist-packages/pandas/core/arraylike.py:364: RuntimeWarning: overflow encountered in exp\n",
            "  result = getattr(ufunc, method)(*inputs, **kwargs)\n",
            "/usr/local/lib/python3.7/dist-packages/statsmodels/base/model.py:512: ConvergenceWarning: Maximum Likelihood optimization failed to converge. Check mle_retvals\n",
            "  \"Check mle_retvals\", ConvergenceWarning)\n",
            "/usr/local/lib/python3.7/dist-packages/statsmodels/base/model.py:512: ConvergenceWarning: Maximum Likelihood optimization failed to converge. Check mle_retvals\n",
            "  \"Check mle_retvals\", ConvergenceWarning)\n",
            "/usr/local/lib/python3.7/dist-packages/statsmodels/base/model.py:512: ConvergenceWarning: Maximum Likelihood optimization failed to converge. Check mle_retvals\n",
            "  \"Check mle_retvals\", ConvergenceWarning)\n",
            "/usr/local/lib/python3.7/dist-packages/statsmodels/base/model.py:512: ConvergenceWarning: Maximum Likelihood optimization failed to converge. Check mle_retvals\n",
            "  \"Check mle_retvals\", ConvergenceWarning)\n",
            "/usr/local/lib/python3.7/dist-packages/statsmodels/base/model.py:512: ConvergenceWarning: Maximum Likelihood optimization failed to converge. Check mle_retvals\n",
            "  \"Check mle_retvals\", ConvergenceWarning)\n",
            "/usr/local/lib/python3.7/dist-packages/statsmodels/base/model.py:512: ConvergenceWarning: Maximum Likelihood optimization failed to converge. Check mle_retvals\n",
            "  \"Check mle_retvals\", ConvergenceWarning)\n",
            "/usr/local/lib/python3.7/dist-packages/statsmodels/base/model.py:512: ConvergenceWarning: Maximum Likelihood optimization failed to converge. Check mle_retvals\n",
            "  \"Check mle_retvals\", ConvergenceWarning)\n",
            "/usr/local/lib/python3.7/dist-packages/statsmodels/base/model.py:512: ConvergenceWarning: Maximum Likelihood optimization failed to converge. Check mle_retvals\n",
            "  \"Check mle_retvals\", ConvergenceWarning)\n",
            "/usr/local/lib/python3.7/dist-packages/statsmodels/base/model.py:512: ConvergenceWarning: Maximum Likelihood optimization failed to converge. Check mle_retvals\n",
            "  \"Check mle_retvals\", ConvergenceWarning)\n",
            "/usr/local/lib/python3.7/dist-packages/statsmodels/base/model.py:512: ConvergenceWarning: Maximum Likelihood optimization failed to converge. Check mle_retvals\n",
            "  \"Check mle_retvals\", ConvergenceWarning)\n",
            "/usr/local/lib/python3.7/dist-packages/statsmodels/base/model.py:512: ConvergenceWarning: Maximum Likelihood optimization failed to converge. Check mle_retvals\n",
            "  \"Check mle_retvals\", ConvergenceWarning)\n",
            "/usr/local/lib/python3.7/dist-packages/statsmodels/base/model.py:512: ConvergenceWarning: Maximum Likelihood optimization failed to converge. Check mle_retvals\n",
            "  \"Check mle_retvals\", ConvergenceWarning)\n",
            "/usr/local/lib/python3.7/dist-packages/statsmodels/base/model.py:512: ConvergenceWarning: Maximum Likelihood optimization failed to converge. Check mle_retvals\n",
            "  \"Check mle_retvals\", ConvergenceWarning)\n",
            "/usr/local/lib/python3.7/dist-packages/statsmodels/base/model.py:512: ConvergenceWarning: Maximum Likelihood optimization failed to converge. Check mle_retvals\n",
            "  \"Check mle_retvals\", ConvergenceWarning)\n",
            "/usr/local/lib/python3.7/dist-packages/statsmodels/base/model.py:512: ConvergenceWarning: Maximum Likelihood optimization failed to converge. Check mle_retvals\n",
            "  \"Check mle_retvals\", ConvergenceWarning)\n",
            "/usr/local/lib/python3.7/dist-packages/statsmodels/base/model.py:512: ConvergenceWarning: Maximum Likelihood optimization failed to converge. Check mle_retvals\n",
            "  \"Check mle_retvals\", ConvergenceWarning)\n",
            "/usr/local/lib/python3.7/dist-packages/statsmodels/base/model.py:512: ConvergenceWarning: Maximum Likelihood optimization failed to converge. Check mle_retvals\n",
            "  \"Check mle_retvals\", ConvergenceWarning)\n",
            "/usr/local/lib/python3.7/dist-packages/statsmodels/base/model.py:512: ConvergenceWarning: Maximum Likelihood optimization failed to converge. Check mle_retvals\n",
            "  \"Check mle_retvals\", ConvergenceWarning)\n",
            "/usr/local/lib/python3.7/dist-packages/statsmodels/base/model.py:512: ConvergenceWarning: Maximum Likelihood optimization failed to converge. Check mle_retvals\n",
            "  \"Check mle_retvals\", ConvergenceWarning)\n"
          ]
        },
        {
          "output_type": "execute_result",
          "data": {
            "text/plain": [
              "           RMSE                  Params\n",
              "111  260.800051  ((1, 1, 0), (0, 1, 1))"
            ],
            "text/html": [
              "\n",
              "  <div id=\"df-02b7d9a0-fa25-4c1c-9efa-8c7f6abf1364\">\n",
              "    <div class=\"colab-df-container\">\n",
              "      <div>\n",
              "<style scoped>\n",
              "    .dataframe tbody tr th:only-of-type {\n",
              "        vertical-align: middle;\n",
              "    }\n",
              "\n",
              "    .dataframe tbody tr th {\n",
              "        vertical-align: top;\n",
              "    }\n",
              "\n",
              "    .dataframe thead th {\n",
              "        text-align: right;\n",
              "    }\n",
              "</style>\n",
              "<table border=\"1\" class=\"dataframe\">\n",
              "  <thead>\n",
              "    <tr style=\"text-align: right;\">\n",
              "      <th></th>\n",
              "      <th>RMSE</th>\n",
              "      <th>Params</th>\n",
              "    </tr>\n",
              "  </thead>\n",
              "  <tbody>\n",
              "    <tr>\n",
              "      <th>111</th>\n",
              "      <td>260.800051</td>\n",
              "      <td>((1, 1, 0), (0, 1, 1))</td>\n",
              "    </tr>\n",
              "  </tbody>\n",
              "</table>\n",
              "</div>\n",
              "      <button class=\"colab-df-convert\" onclick=\"convertToInteractive('df-02b7d9a0-fa25-4c1c-9efa-8c7f6abf1364')\"\n",
              "              title=\"Convert this dataframe to an interactive table.\"\n",
              "              style=\"display:none;\">\n",
              "        \n",
              "  <svg xmlns=\"http://www.w3.org/2000/svg\" height=\"24px\"viewBox=\"0 0 24 24\"\n",
              "       width=\"24px\">\n",
              "    <path d=\"M0 0h24v24H0V0z\" fill=\"none\"/>\n",
              "    <path d=\"M18.56 5.44l.94 2.06.94-2.06 2.06-.94-2.06-.94-.94-2.06-.94 2.06-2.06.94zm-11 1L8.5 8.5l.94-2.06 2.06-.94-2.06-.94L8.5 2.5l-.94 2.06-2.06.94zm10 10l.94 2.06.94-2.06 2.06-.94-2.06-.94-.94-2.06-.94 2.06-2.06.94z\"/><path d=\"M17.41 7.96l-1.37-1.37c-.4-.4-.92-.59-1.43-.59-.52 0-1.04.2-1.43.59L10.3 9.45l-7.72 7.72c-.78.78-.78 2.05 0 2.83L4 21.41c.39.39.9.59 1.41.59.51 0 1.02-.2 1.41-.59l7.78-7.78 2.81-2.81c.8-.78.8-2.07 0-2.86zM5.41 20L4 18.59l7.72-7.72 1.47 1.35L5.41 20z\"/>\n",
              "  </svg>\n",
              "      </button>\n",
              "      \n",
              "  <style>\n",
              "    .colab-df-container {\n",
              "      display:flex;\n",
              "      flex-wrap:wrap;\n",
              "      gap: 12px;\n",
              "    }\n",
              "\n",
              "    .colab-df-convert {\n",
              "      background-color: #E8F0FE;\n",
              "      border: none;\n",
              "      border-radius: 50%;\n",
              "      cursor: pointer;\n",
              "      display: none;\n",
              "      fill: #1967D2;\n",
              "      height: 32px;\n",
              "      padding: 0 0 0 0;\n",
              "      width: 32px;\n",
              "    }\n",
              "\n",
              "    .colab-df-convert:hover {\n",
              "      background-color: #E2EBFA;\n",
              "      box-shadow: 0px 1px 2px rgba(60, 64, 67, 0.3), 0px 1px 3px 1px rgba(60, 64, 67, 0.15);\n",
              "      fill: #174EA6;\n",
              "    }\n",
              "\n",
              "    [theme=dark] .colab-df-convert {\n",
              "      background-color: #3B4455;\n",
              "      fill: #D2E3FC;\n",
              "    }\n",
              "\n",
              "    [theme=dark] .colab-df-convert:hover {\n",
              "      background-color: #434B5C;\n",
              "      box-shadow: 0px 1px 3px 1px rgba(0, 0, 0, 0.15);\n",
              "      filter: drop-shadow(0px 1px 2px rgba(0, 0, 0, 0.3));\n",
              "      fill: #FFFFFF;\n",
              "    }\n",
              "  </style>\n",
              "\n",
              "      <script>\n",
              "        const buttonEl =\n",
              "          document.querySelector('#df-02b7d9a0-fa25-4c1c-9efa-8c7f6abf1364 button.colab-df-convert');\n",
              "        buttonEl.style.display =\n",
              "          google.colab.kernel.accessAllowed ? 'block' : 'none';\n",
              "\n",
              "        async function convertToInteractive(key) {\n",
              "          const element = document.querySelector('#df-02b7d9a0-fa25-4c1c-9efa-8c7f6abf1364');\n",
              "          const dataTable =\n",
              "            await google.colab.kernel.invokeFunction('convertToInteractive',\n",
              "                                                     [key], {});\n",
              "          if (!dataTable) return;\n",
              "\n",
              "          const docLinkHtml = 'Like what you see? Visit the ' +\n",
              "            '<a target=\"_blank\" href=https://colab.research.google.com/notebooks/data_table.ipynb>data table notebook</a>'\n",
              "            + ' to learn more about interactive tables.';\n",
              "          element.innerHTML = '';\n",
              "          dataTable['output_type'] = 'display_data';\n",
              "          await google.colab.output.renderOutput(dataTable, element);\n",
              "          const docLink = document.createElement('div');\n",
              "          docLink.innerHTML = docLinkHtml;\n",
              "          element.appendChild(docLink);\n",
              "        }\n",
              "      </script>\n",
              "    </div>\n",
              "  </div>\n",
              "  "
            ]
          },
          "metadata": {},
          "execution_count": 28
        }
      ]
    },
    {
      "cell_type": "code",
      "source": [
        "# Importing libraries\n",
        "import numpy as np\n",
        "import matplotlib.pyplot as plt\n",
        "# plotting RMSE values across all possible parameter combinations\n",
        "plt.figure(figsize=(15, 5))\n",
        "plt.plot(rmse, label='All RMSEs')\n",
        "plt.scatter(np.arange(210, 211), res.iloc[0, 0], s=70, c='g', label='Chosen RMSE')\n",
        "plt.legend()\n",
        "plt.xlabel('Iterations', fontsize=15)\n",
        "plt.ylabel('RMSE', fontsize=15)\n",
        "plt.title('RMSE values across all possible parameter combinations', weight='bold', fontsize=18)\n",
        "plt.show()"
      ],
      "metadata": {
        "colab": {
          "base_uri": "https://localhost:8080/",
          "height": 359
        },
        "id": "BQDzSAE8l7om",
        "outputId": "adea467b-145f-4a8f-823f-0ae8497ee8bb"
      },
      "execution_count": null,
      "outputs": [
        {
          "output_type": "display_data",
          "data": {
            "text/plain": [
              "<Figure size 1080x360 with 1 Axes>"
            ],
            "image/png": "[encoded data removed]"
          },
          "metadata": {
            "needs_background": "light"
          }
        }
      ]
    }
  ]
}