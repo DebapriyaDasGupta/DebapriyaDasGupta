{
  "nbformat": 4,
  "nbformat_minor": 0,
  "metadata": {
    "colab": {
      "provenance": []
    },
    "kernelspec": {
      "name": "python3",
      "display_name": "Python 3"
    },
    "language_info": {
      "name": "python"
    }
  },
  "cells": [
    {
      "cell_type": "markdown",
      "source": [
        "We have combined the functionalities of the five types of chatbots mentioned earlier, which are:\n",
        "\n",
        "1.   FAQ Chatbot\n",
        "2.   Greeting Chatbot\n",
        "3.   Language Translation Bot\n",
        "4.   Basic Calculator Bot"
      ],
      "metadata": {
        "id": "q-EsDD1PrU9P"
      }
    },
    {
      "cell_type": "markdown",
      "source": [
        "**Installing translate library using pip**"
      ],
      "metadata": {
        "id": "mcdQfwTIr5NM"
      }
    },
    {
      "cell_type": "code",
      "source": [
        "pip install translate"
      ],
      "metadata": {
        "colab": {
          "base_uri": "https://localhost:8080/"
        },
        "id": "XyT2kP-hlkEn",
        "outputId": "cd3ced19-bec5-487e-c0c3-a92046e98fa0"
      },
      "execution_count": 3,
      "outputs": [
        {
          "output_type": "stream",
          "name": "stdout",
          "text": [
            "Requirement already satisfied: translate in /usr/local/lib/python3.10/dist-packages (3.6.1)\n",
            "Requirement already satisfied: click in /usr/local/lib/python3.10/dist-packages (from translate) (8.1.7)\n",
            "Requirement already satisfied: lxml in /usr/local/lib/python3.10/dist-packages (from translate) (4.9.3)\n",
            "Requirement already satisfied: requests in /usr/local/lib/python3.10/dist-packages (from translate) (2.31.0)\n",
            "Requirement already satisfied: libretranslatepy==2.1.1 in /usr/local/lib/python3.10/dist-packages (from translate) (2.1.1)\n",
            "Requirement already satisfied: charset-normalizer<4,>=2 in /usr/local/lib/python3.10/dist-packages (from requests->translate) (3.3.1)\n",
            "Requirement already satisfied: idna<4,>=2.5 in /usr/local/lib/python3.10/dist-packages (from requests->translate) (3.4)\n",
            "Requirement already satisfied: urllib3<3,>=1.21.1 in /usr/local/lib/python3.10/dist-packages (from requests->translate) (2.0.7)\n",
            "Requirement already satisfied: certifi>=2017.4.17 in /usr/local/lib/python3.10/dist-packages (from requests->translate) (2023.7.22)\n"
          ]
        }
      ]
    },
    {
      "cell_type": "code",
      "execution_count": 4,
      "metadata": {
        "id": "bQ93odOEjqHs"
      },
      "outputs": [],
      "source": [
        "import re\n",
        "import nltk\n",
        "from nltk.tokenize import word_tokenize\n",
        "from nltk.corpus import stopwords\n",
        "from translate import Translator"
      ]
    },
    {
      "cell_type": "code",
      "source": [
        "nltk.download('punkt')\n",
        "nltk.download('stopwords')"
      ],
      "metadata": {
        "colab": {
          "base_uri": "https://localhost:8080/"
        },
        "id": "Kkfl2KRbkqvf",
        "outputId": "67871236-1082-4a3f-e8dd-b01c0ac7b79a"
      },
      "execution_count": 5,
      "outputs": [
        {
          "output_type": "stream",
          "name": "stderr",
          "text": [
            "[nltk_data] Downloading package punkt to /root/nltk_data...\n",
            "[nltk_data]   Unzipping tokenizers/punkt.zip.\n",
            "[nltk_data] Downloading package stopwords to /root/nltk_data...\n",
            "[nltk_data]   Unzipping corpora/stopwords.zip.\n"
          ]
        },
        {
          "output_type": "execute_result",
          "data": {
            "text/plain": [
              "True"
            ]
          },
          "metadata": {},
          "execution_count": 5
        }
      ]
    },
    {
      "cell_type": "markdown",
      "source": [
        "# FAQ Chatbot\n",
        "\n",
        "*   The FAQ Chatbot answers predefined questions about the chatbot's purpose and capabilities.\n",
        "*   It matches user input against a set of predefined rules and provides responses accordingly."
      ],
      "metadata": {
        "id": "GUMYcYiOsMr-"
      }
    },
    {
      "cell_type": "code",
      "source": [
        "# Define a dictionary of predefined rules and responses for the FAQ Chatbot\n",
        "faq_rules = {\n",
        "    r'.*what is your name.*': 'I am a chatbot designed to assist you with information and translation.',\n",
        "    r'.*how can you help.*': 'I can answer your questions, greet you, provide basic calculations, and translate text into English.',\n",
        "    # Add more FAQ rules and responses here.\n",
        "}\n",
        "\n",
        "# Function to check if it's a FAQ question and provide a response\n",
        "def faq_chatbot_response(user_input):\n",
        "    for pattern, response in faq_rules.items():\n",
        "        if re.match(pattern, user_input):\n",
        "            return response\n",
        "    return None"
      ],
      "metadata": {
        "id": "jvy9Y8Eekqp_"
      },
      "execution_count": 6,
      "outputs": []
    },
    {
      "cell_type": "markdown",
      "source": [
        "# Greeting Chatbot\n",
        "\n",
        "*   The Greeting Chatbot responds to user greetings and engages in casual conversations.\n",
        "*   It uses predefined greetings and responses."
      ],
      "metadata": {
        "id": "xdSYvQs8sU-v"
      }
    },
    {
      "cell_type": "code",
      "source": [
        "# Define a dictionary of greetings and responses for the Greeting Chatbot\n",
        "greetings = {\n",
        "    'hello': 'Hello! How can I help you?',\n",
        "    'hi': 'Hi there! What can I do for you?',\n",
        "    'hey': 'Hey! How can I assist you?',\n",
        "    # Add more greetings and responses here.\n",
        "}\n",
        "\n",
        "# Function to check if it's a greeting and provide a response\n",
        "def greeting_chatbot_response(user_input):\n",
        "    if user_input in greetings:\n",
        "        return greetings[user_input]\n",
        "    return None"
      ],
      "metadata": {
        "id": "NDJFOvB5k0P1"
      },
      "execution_count": 16,
      "outputs": []
    },
    {
      "cell_type": "markdown",
      "source": [
        "# Basic Calculator Bot\n",
        "\n",
        "*   The Basic Calculator Bot can perform basic arithmetic calculations.\n",
        "*   It detects arithmetic operations in user input and evaluates them."
      ],
      "metadata": {
        "id": "FrrFD2PNsaFv"
      }
    },
    {
      "cell_type": "code",
      "source": [
        "# Function to check if it's a basic calculation and provide a response\n",
        "def calculator_chatbot_response(user_input):\n",
        "    if any(char in user_input for char in '+-*/'):\n",
        "        try:\n",
        "            result = eval(user_input)\n",
        "            return f'Calculator Bot: The result is {result}'\n",
        "        except ZeroDivisionError:\n",
        "            return 'Division by zero is not allowed.'\n",
        "        except Exception:\n",
        "            return 'Sorry, I couldn\\'t perform the calculation.'\n",
        "    return None"
      ],
      "metadata": {
        "id": "Rw--lC4Sk7mN"
      },
      "execution_count": 8,
      "outputs": []
    },
    {
      "cell_type": "markdown",
      "source": [
        "# Language Translation Bot\n",
        "\n",
        "*   The Language Translation Bot can translate text from various languages to English.\n",
        "*   It uses the **translate** library for translation."
      ],
      "metadata": {
        "id": "OPTawG9ishLB"
      }
    },
    {
      "cell_type": "code",
      "source": [
        "# Initialize the translator\n",
        "translator = Translator(to_lang = \"en\")\n",
        "\n",
        "# Function to check if it's a translation request and provide a response\n",
        "def translation_chatbot_response(user_input):\n",
        "    try:\n",
        "        source_lang = translator.detect(user_input).lang\n",
        "        translation = translator.translate(user_input, src=source_lang, dest='en')\n",
        "        return f\"Translation Bot ({source_lang} to English): {translation.text}\"\n",
        "    except Exception as e:\n",
        "        return \"I'm sorry, I couldn't perform the translation.\""
      ],
      "metadata": {
        "id": "FznGjL45lBtm"
      },
      "execution_count": 10,
      "outputs": []
    },
    {
      "cell_type": "markdown",
      "source": [
        "# Main Loop"
      ],
      "metadata": {
        "id": "ZRuEbA_Gsllv"
      }
    },
    {
      "cell_type": "code",
      "source": [
        "# Main loop for interacting with the combined chatbot\n",
        "while True:\n",
        "    user_input = input(\"You: \")\n",
        "    if user_input.lower() == 'exit':\n",
        "        print(\"Chatbot: Goodbye!\")\n",
        "        break\n",
        "\n",
        "    # Check each part of the chatbot for a valid response\n",
        "    responses = []\n",
        "    responses.append(faq_chatbot_response(user_input))\n",
        "    responses.append(greeting_chatbot_response(user_input))\n",
        "    responses.append(calculator_chatbot_response(user_input))\n",
        "    responses.append(translation_chatbot_response(user_input))\n",
        "\n",
        "    # Print the first non-None response found\n",
        "    for response in responses:\n",
        "        if response is not None:\n",
        "            print(\"Chatbot:\", response)\n",
        "            break\n",
        "    else:\n",
        "        print(\"Chatbot: I don't understand your query.\")"
      ],
      "metadata": {
        "colab": {
          "base_uri": "https://localhost:8080/"
        },
        "id": "BYA64zAFlHYP",
        "outputId": "3578b924-83cc-46d9-dcb2-594c68c8dbec"
      },
      "execution_count": 15,
      "outputs": [
        {
          "output_type": "stream",
          "name": "stdout",
          "text": [
            "You: exit\n",
            "Chatbot: Goodbye!\n"
          ]
        }
      ]
    }
  ]
}