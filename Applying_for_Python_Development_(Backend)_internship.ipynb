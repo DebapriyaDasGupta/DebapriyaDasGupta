{
  "nbformat": 4,
  "nbformat_minor": 0,
  "metadata": {
    "colab": {
      "provenance": []
    },
    "kernelspec": {
      "name": "python3",
      "display_name": "Python 3"
    },
    "language_info": {
      "name": "python"
    }
  },
  "cells": [
    {
      "cell_type": "markdown",
      "source": [
        "#Internshala Primenumbers"
      ],
      "metadata": {
        "id": "YQCQGH-ZbA7Z"
      }
    },
    {
      "cell_type": "code",
      "source": [
        "input = [ {'Dg set': 'Diesel generator'}, {'Organization': 'Organisation'}, {'Group': 'Organization'}, {'Orange': 'Kinnu'}, {'Orange': 'narangi'} ]\n",
        "input"
      ],
      "metadata": {
        "colab": {
          "base_uri": "https://localhost:8080/"
        },
        "id": "0Of-3-igT1cP",
        "outputId": "951c494c-d029-47f3-a089-e7516668a6cf"
      },
      "execution_count": null,
      "outputs": [
        {
          "output_type": "execute_result",
          "data": {
            "text/plain": [
              "[{'Dg set': 'Diesel generator'},\n",
              " {'Organization': 'Organisation'},\n",
              " {'Group': 'Organization'},\n",
              " {'Orange': 'Kinnu'},\n",
              " {'Orange': 'narangi'}]"
            ]
          },
          "metadata": {},
          "execution_count": 8
        }
      ]
    },
    {
      "cell_type": "code",
      "source": [
        "output = [['Organization', 'Organisation', 'Group'], ['Dg set', 'Diesel generator'], ['Orange', 'Kinnu', 'narangi']]\n",
        "output"
      ],
      "metadata": {
        "colab": {
          "base_uri": "https://localhost:8080/"
        },
        "id": "7PpO9aSmU1BK",
        "outputId": "e3750908-0ab3-40db-a741-3df1585c8e82"
      },
      "execution_count": null,
      "outputs": [
        {
          "output_type": "execute_result",
          "data": {
            "text/plain": [
              "[['Organization', 'Organisation', 'Group'],\n",
              " ['Dg set', 'Diesel generator'],\n",
              " ['Orange', 'Kinnu', 'narangi']]"
            ]
          },
          "metadata": {},
          "execution_count": 9
        }
      ]
    },
    {
      "cell_type": "code",
      "source": [
        "outer = []\n",
        "\n",
        "for i in input:\n",
        "  for j,k in i.items():\n",
        "    inner = []\n",
        "    inner.append(j)\n",
        "    inner.append(k)\n",
        "\n",
        "  outer.append(inner)\n",
        "\n",
        "outer"
      ],
      "metadata": {
        "colab": {
          "base_uri": "https://localhost:8080/"
        },
        "id": "cjMEf4kyVdVY",
        "outputId": "29283ac6-7b3a-41dd-ad4e-871fdb1c8fbb"
      },
      "execution_count": null,
      "outputs": [
        {
          "output_type": "execute_result",
          "data": {
            "text/plain": [
              "[['Dg set', 'Diesel generator'],\n",
              " ['Organization', 'Organisation'],\n",
              " ['Group', 'Organization'],\n",
              " ['Orange', 'Kinnu'],\n",
              " ['Orange', 'narangi']]"
            ]
          },
          "metadata": {},
          "execution_count": 41
        }
      ]
    }
  ]
}